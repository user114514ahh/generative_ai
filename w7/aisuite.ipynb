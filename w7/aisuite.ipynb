{
  "nbformat": 4,
  "nbformat_minor": 0,
  "metadata": {
    "colab": {
      "provenance": []
    },
    "kernelspec": {
      "name": "python3",
      "display_name": "Python 3"
    },
    "language_info": {
      "name": "python"
    }
  },
  "cells": [
    {
      "cell_type": "code",
      "source": [
        "import os\n",
        "from google.colab import userdata\n",
        "!pip install --quiet aisuite[all]\n",
        "import aisuite as ai\n",
        "\n",
        "api_key = userdata.get('Groq')\n",
        "os.environ['GROQ_API_KEY']=api_key\n",
        "\n",
        "provider = \"groq\"\n",
        "model = \"llama-3.3-70b-versatile\"\n",
        "\n",
        "def reply(system=\"使用簡單措辭，使用簡單概念解釋\",\n",
        "          prompt=\"name\",\n",
        "          provider=\"groq\",\n",
        "          model=\"llama-3.3-70b-versatile\",\n",
        "          temperature=0.7,\n",
        "          max_tokens=500,\n",
        "          top_p=1.0,\n",
        "          stop=None\n",
        "         ):\n",
        "\n",
        "    client = ai.Client()\n",
        "\n",
        "    messages = [\n",
        "        {\"role\": \"system\", \"content\": system},\n",
        "        {\"role\": \"user\", \"content\": prompt}\n",
        "    ]\n",
        "\n",
        "    response = client.chat.completions.create(\n",
        "        model=f\"{provider}:{model}\",\n",
        "        messages=messages,\n",
        "        temperature=temperature,\n",
        "        max_tokens=max_tokens,\n",
        "        top_p=top_p,\n",
        "        stop=stop\n",
        "    )\n",
        "\n",
        "    return response.choices[0].message.content"
      ],
      "metadata": {
        "id": "NKw4FuUTITw2",
        "colab": {
          "base_uri": "https://localhost:8080/"
        },
        "outputId": "20e18ba9-1330-4163-fb47-e4485d59e34a"
      },
      "execution_count": null,
      "outputs": [
        {
          "output_type": "stream",
          "name": "stdout",
          "text": [
            "\u001b[?25l   \u001b[90m━━━━━━━━━━━━━━━━━━━━━━━━━━━━━━━━━━━━━━━━\u001b[0m \u001b[32m0.0/863.9 kB\u001b[0m \u001b[31m?\u001b[0m eta \u001b[36m-:--:--\u001b[0m\r\u001b[2K   \u001b[91m━━━━━━━━━━━━━━━━━━━━━━━━━━━━━━━━━━━━━━━\u001b[0m\u001b[91m╸\u001b[0m \u001b[32m860.2/863.9 kB\u001b[0m \u001b[31m33.9 MB/s\u001b[0m eta \u001b[36m0:00:01\u001b[0m\r\u001b[2K   \u001b[90m━━━━━━━━━━━━━━━━━━━━━━━━━━━━━━━━━━━━━━━━\u001b[0m \u001b[32m863.9/863.9 kB\u001b[0m \u001b[31m23.3 MB/s\u001b[0m eta \u001b[36m0:00:00\u001b[0m\n",
            "\u001b[?25h\u001b[?25l   \u001b[90m━━━━━━━━━━━━━━━━━━━━━━━━━━━━━━━━━━━━━━━━\u001b[0m \u001b[32m0.0/88.2 kB\u001b[0m \u001b[31m?\u001b[0m eta \u001b[36m-:--:--\u001b[0m\r\u001b[2K   \u001b[90m━━━━━━━━━━━━━━━━━━━━━━━━━━━━━━━━━━━━━━━━\u001b[0m \u001b[32m88.2/88.2 kB\u001b[0m \u001b[31m6.5 MB/s\u001b[0m eta \u001b[36m0:00:00\u001b[0m\n",
            "\u001b[2K   \u001b[90m━━━━━━━━━━━━━━━━━━━━━━━━━━━━━━━━━━━━━━━━\u001b[0m \u001b[32m259.5/259.5 kB\u001b[0m \u001b[31m20.6 MB/s\u001b[0m eta \u001b[36m0:00:00\u001b[0m\n",
            "\u001b[2K   \u001b[90m━━━━━━━━━━━━━━━━━━━━━━━━━━━━━━━━━━━━━━━━\u001b[0m \u001b[32m103.5/103.5 kB\u001b[0m \u001b[31m9.9 MB/s\u001b[0m eta \u001b[36m0:00:00\u001b[0m\n",
            "\u001b[2K   \u001b[90m━━━━━━━━━━━━━━━━━━━━━━━━━━━━━━━━━━━━━━━━\u001b[0m \u001b[32m76.4/76.4 kB\u001b[0m \u001b[31m4.2 MB/s\u001b[0m eta \u001b[36m0:00:00\u001b[0m\n",
            "\u001b[2K   \u001b[90m━━━━━━━━━━━━━━━━━━━━━━━━━━━━━━━━━━━━━━━━\u001b[0m \u001b[32m41.2/41.2 kB\u001b[0m \u001b[31m3.5 MB/s\u001b[0m eta \u001b[36m0:00:00\u001b[0m\n",
            "\u001b[2K   \u001b[90m━━━━━━━━━━━━━━━━━━━━━━━━━━━━━━━━━━━━━━━━\u001b[0m \u001b[32m3.3/3.3 MB\u001b[0m \u001b[31m56.7 MB/s\u001b[0m eta \u001b[36m0:00:00\u001b[0m\n",
            "\u001b[?25h\u001b[31mERROR: pip's dependency resolver does not currently take into account all the packages that are installed. This behaviour is the source of the following dependency conflicts.\n",
            "google-genai 1.10.0 requires httpx<1.0.0,>=0.28.1, but you have httpx 0.27.2 which is incompatible.\u001b[0m\u001b[31m\n",
            "\u001b[0m"
          ]
        }
      ]
    },
    {
      "cell_type": "code",
      "source": [
        "print(\"--- 預設參數 ---\")\n",
        "print(reply(prompt=\"請用 200 字定義 AI Agent\"))"
      ],
      "metadata": {
        "colab": {
          "base_uri": "https://localhost:8080/"
        },
        "id": "sMCctEZJJp6w",
        "outputId": "f1ad1158-e040-4b15-d11e-2f00758abb76"
      },
      "execution_count": null,
      "outputs": [
        {
          "output_type": "stream",
          "name": "stdout",
          "text": [
            "--- 預設參數 ---\n",
            "AI Agent 是一種人工智慧程式，能夠自主地執行任務。它們使用演算法和數據來學習和改進自己的表現。\n",
            "\n",
            "AI Agent 的特點是：\n",
            "1. **自主性**：能夠自主地執行任務，不需要人類的干預。\n",
            "2. **學習能力**：能夠從數據中學習和改進自己的表現。\n",
            "3. **決策能力**：能夠根據現有的數據和知識做出決策。\n",
            "\n",
            "AI Agent 的應用包括：\n",
            "1. **客服系統**：能夠自動回答客戶的問題和提供幫助。\n",
            "2. **遊戲**：能夠與人類玩家進行遊戲和競爭。\n",
            "3. **物流管理**：能夠優化物流和供應鏈的管理。\n",
            "\n",
            "AI Agent 的目的是提高效率和精度，讓人類能夠專注於更高級別的任務。它們是人工智慧領域的一個重要部分，具有廣泛的應用前景。\n"
          ]
        }
      ]
    },
    {
      "cell_type": "code",
      "source": [
        "print(\"\\n--- 調整 temperature = 1.2) ---\")\n",
        "print(reply(prompt=\"請用 200 字定義 AI Agent\", temperature=1.2))"
      ],
      "metadata": {
        "colab": {
          "base_uri": "https://localhost:8080/"
        },
        "id": "dy4efE2rJtYO",
        "outputId": "312bf5a9-c87e-4e50-8b85-02d39c6de03e"
      },
      "execution_count": null,
      "outputs": [
        {
          "output_type": "stream",
          "name": "stdout",
          "text": [
            "\n",
            "--- 調整 temperature = 1.2) ---\n",
            "AI Agent是一種由計算機程式設計的智能實體。它可以執行任務、做出決策並學習改進。以下是簡單的定義：\n",
            "\n",
            "AI Agent是一種能夠：\n",
            "\n",
            "1. **感知環境**：它可以收集信息和數據。\n",
            "2. **處理信息**：它可以根據收集的數據做出決策。\n",
            "3. **採取行動**：它可以根據決策執行特定任務。\n",
            "4. **學習和改進**：它可以根據反饋和經驗改進其決策和行動。\n",
            "\n",
            "AI Agent的目的是自動化和最佳化某些過程，例如：玩遊戲、翻譯語言、識別圖片等。它可以在各個領域應用，例如：醫學、金融、交通等。簡單來說，AI Agent是一種智能的「助手」，可以幫助我們完成特定的任務和工作。\n"
          ]
        }
      ]
    },
    {
      "cell_type": "code",
      "source": [
        "print(\"\\n--- 調整 max_tokens = 50) ---\")\n",
        "print(reply(prompt=\"請用 200 字定義 AI Agent\", max_tokens=50))"
      ],
      "metadata": {
        "colab": {
          "base_uri": "https://localhost:8080/"
        },
        "id": "rb2i8VC5Ju6W",
        "outputId": "4b3322db-e892-405e-cf16-fc0f37fd7e47"
      },
      "execution_count": null,
      "outputs": [
        {
          "output_type": "stream",
          "name": "stdout",
          "text": [
            "\n",
            "--- 調整 max_tokens = 50) ---\n",
            "AI Agent（人工智慧代理）是一種電腦程式，可以自主地執行任務和決策。它們使用機器學習和人工智慧技術來學習和改進其行為。\n",
            "\n",
            "\n"
          ]
        }
      ]
    },
    {
      "cell_type": "code",
      "source": [
        "print(\"\\n--- 調整 temperature (1.0) max_tokens (100) ---\")\n",
        "print(reply(prompt=\"請用 200 字定義 AI Agent\", temperature=1.0, max_tokens=100))"
      ],
      "metadata": {
        "colab": {
          "base_uri": "https://localhost:8080/"
        },
        "id": "KZShjNgaJwY3",
        "outputId": "4e766e8a-f3a8-4bc6-8e77-25887780a8d0"
      },
      "execution_count": null,
      "outputs": [
        {
          "output_type": "stream",
          "name": "stdout",
          "text": [
            "\n",
            "--- 調整 temperature (1.0) max_tokens (100) ---\n",
            "AI Agent 是一個使用人工智慧技術的程式或系統，它可以自主地執行任務和決策。它的目的是模擬人類的思考和行為，以解決特定的問題或達到特定的目標。\n",
            "\n",
            "AI Agent 的特點包括：\n",
            "\n",
            "* 自主性：可以自主地執行任務和決策\n",
            "* 智慧：可以使用人工智慧技術學習和適應新情況\n"
          ]
        }
      ]
    }
  ]
}