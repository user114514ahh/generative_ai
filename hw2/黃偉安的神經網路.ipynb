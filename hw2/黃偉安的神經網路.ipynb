{
  "nbformat": 4,
  "nbformat_minor": 0,
  "metadata": {
    "colab": {
      "provenance": []
    },
    "kernelspec": {
      "name": "python3",
      "display_name": "Python 3"
    },
    "language_info": {
      "name": "python"
    }
  },
  "cells": [
    {
      "cell_type": "markdown",
      "source": [
        "#範例"
      ],
      "metadata": {
        "id": "bU5Mf1-2fp5Q"
      }
    },
    {
      "cell_type": "code",
      "execution_count": null,
      "metadata": {
        "id": "r676d2VjXceS"
      },
      "outputs": [],
      "source": [
        "N1 = 20\n",
        "N2 = 20\n",
        "N3 = 20"
      ]
    },
    {
      "cell_type": "code",
      "source": [
        "!pip install gradio"
      ],
      "metadata": {
        "colab": {
          "base_uri": "https://localhost:8080/"
        },
        "collapsed": true,
        "id": "a9eP0d0yXg7n",
        "outputId": "ed08e000-c701-489b-c65e-d08b7a6cbfd7"
      },
      "execution_count": null,
      "outputs": [
        {
          "output_type": "stream",
          "name": "stdout",
          "text": [
            "Requirement already satisfied: gradio in /usr/local/lib/python3.11/dist-packages (5.20.1)\n",
            "Requirement already satisfied: aiofiles<24.0,>=22.0 in /usr/local/lib/python3.11/dist-packages (from gradio) (23.2.1)\n",
            "Requirement already satisfied: anyio<5.0,>=3.0 in /usr/local/lib/python3.11/dist-packages (from gradio) (3.7.1)\n",
            "Requirement already satisfied: fastapi<1.0,>=0.115.2 in /usr/local/lib/python3.11/dist-packages (from gradio) (0.115.11)\n",
            "Requirement already satisfied: ffmpy in /usr/local/lib/python3.11/dist-packages (from gradio) (0.5.0)\n",
            "Requirement already satisfied: gradio-client==1.7.2 in /usr/local/lib/python3.11/dist-packages (from gradio) (1.7.2)\n",
            "Requirement already satisfied: groovy~=0.1 in /usr/local/lib/python3.11/dist-packages (from gradio) (0.1.2)\n",
            "Requirement already satisfied: httpx>=0.24.1 in /usr/local/lib/python3.11/dist-packages (from gradio) (0.28.1)\n",
            "Requirement already satisfied: huggingface-hub>=0.28.1 in /usr/local/lib/python3.11/dist-packages (from gradio) (0.28.1)\n",
            "Requirement already satisfied: jinja2<4.0 in /usr/local/lib/python3.11/dist-packages (from gradio) (3.1.5)\n",
            "Requirement already satisfied: markupsafe~=2.0 in /usr/local/lib/python3.11/dist-packages (from gradio) (2.1.5)\n",
            "Requirement already satisfied: numpy<3.0,>=1.0 in /usr/local/lib/python3.11/dist-packages (from gradio) (1.26.4)\n",
            "Requirement already satisfied: orjson~=3.0 in /usr/local/lib/python3.11/dist-packages (from gradio) (3.10.15)\n",
            "Requirement already satisfied: packaging in /usr/local/lib/python3.11/dist-packages (from gradio) (24.2)\n",
            "Requirement already satisfied: pandas<3.0,>=1.0 in /usr/local/lib/python3.11/dist-packages (from gradio) (2.2.2)\n",
            "Requirement already satisfied: pillow<12.0,>=8.0 in /usr/local/lib/python3.11/dist-packages (from gradio) (11.1.0)\n",
            "Requirement already satisfied: pydantic>=2.0 in /usr/local/lib/python3.11/dist-packages (from gradio) (2.10.6)\n",
            "Requirement already satisfied: pydub in /usr/local/lib/python3.11/dist-packages (from gradio) (0.25.1)\n",
            "Requirement already satisfied: python-multipart>=0.0.18 in /usr/local/lib/python3.11/dist-packages (from gradio) (0.0.20)\n",
            "Requirement already satisfied: pyyaml<7.0,>=5.0 in /usr/local/lib/python3.11/dist-packages (from gradio) (6.0.2)\n",
            "Requirement already satisfied: ruff>=0.9.3 in /usr/local/lib/python3.11/dist-packages (from gradio) (0.9.10)\n",
            "Requirement already satisfied: safehttpx<0.2.0,>=0.1.6 in /usr/local/lib/python3.11/dist-packages (from gradio) (0.1.6)\n",
            "Requirement already satisfied: semantic-version~=2.0 in /usr/local/lib/python3.11/dist-packages (from gradio) (2.10.0)\n",
            "Requirement already satisfied: starlette<1.0,>=0.40.0 in /usr/local/lib/python3.11/dist-packages (from gradio) (0.46.1)\n",
            "Requirement already satisfied: tomlkit<0.14.0,>=0.12.0 in /usr/local/lib/python3.11/dist-packages (from gradio) (0.13.2)\n",
            "Requirement already satisfied: typer<1.0,>=0.12 in /usr/local/lib/python3.11/dist-packages (from gradio) (0.15.2)\n",
            "Requirement already satisfied: typing-extensions~=4.0 in /usr/local/lib/python3.11/dist-packages (from gradio) (4.12.2)\n",
            "Requirement already satisfied: uvicorn>=0.14.0 in /usr/local/lib/python3.11/dist-packages (from gradio) (0.34.0)\n",
            "Requirement already satisfied: fsspec in /usr/local/lib/python3.11/dist-packages (from gradio-client==1.7.2->gradio) (2024.10.0)\n",
            "Requirement already satisfied: websockets<16.0,>=10.0 in /usr/local/lib/python3.11/dist-packages (from gradio-client==1.7.2->gradio) (14.2)\n",
            "Requirement already satisfied: idna>=2.8 in /usr/local/lib/python3.11/dist-packages (from anyio<5.0,>=3.0->gradio) (3.10)\n",
            "Requirement already satisfied: sniffio>=1.1 in /usr/local/lib/python3.11/dist-packages (from anyio<5.0,>=3.0->gradio) (1.3.1)\n",
            "Requirement already satisfied: certifi in /usr/local/lib/python3.11/dist-packages (from httpx>=0.24.1->gradio) (2025.1.31)\n",
            "Requirement already satisfied: httpcore==1.* in /usr/local/lib/python3.11/dist-packages (from httpx>=0.24.1->gradio) (1.0.7)\n",
            "Requirement already satisfied: h11<0.15,>=0.13 in /usr/local/lib/python3.11/dist-packages (from httpcore==1.*->httpx>=0.24.1->gradio) (0.14.0)\n",
            "Requirement already satisfied: filelock in /usr/local/lib/python3.11/dist-packages (from huggingface-hub>=0.28.1->gradio) (3.17.0)\n",
            "Requirement already satisfied: requests in /usr/local/lib/python3.11/dist-packages (from huggingface-hub>=0.28.1->gradio) (2.32.3)\n",
            "Requirement already satisfied: tqdm>=4.42.1 in /usr/local/lib/python3.11/dist-packages (from huggingface-hub>=0.28.1->gradio) (4.67.1)\n",
            "Requirement already satisfied: python-dateutil>=2.8.2 in /usr/local/lib/python3.11/dist-packages (from pandas<3.0,>=1.0->gradio) (2.8.2)\n",
            "Requirement already satisfied: pytz>=2020.1 in /usr/local/lib/python3.11/dist-packages (from pandas<3.0,>=1.0->gradio) (2025.1)\n",
            "Requirement already satisfied: tzdata>=2022.7 in /usr/local/lib/python3.11/dist-packages (from pandas<3.0,>=1.0->gradio) (2025.1)\n",
            "Requirement already satisfied: annotated-types>=0.6.0 in /usr/local/lib/python3.11/dist-packages (from pydantic>=2.0->gradio) (0.7.0)\n",
            "Requirement already satisfied: pydantic-core==2.27.2 in /usr/local/lib/python3.11/dist-packages (from pydantic>=2.0->gradio) (2.27.2)\n",
            "Requirement already satisfied: click>=8.0.0 in /usr/local/lib/python3.11/dist-packages (from typer<1.0,>=0.12->gradio) (8.1.8)\n",
            "Requirement already satisfied: shellingham>=1.3.0 in /usr/local/lib/python3.11/dist-packages (from typer<1.0,>=0.12->gradio) (1.5.4)\n",
            "Requirement already satisfied: rich>=10.11.0 in /usr/local/lib/python3.11/dist-packages (from typer<1.0,>=0.12->gradio) (13.9.4)\n",
            "Requirement already satisfied: six>=1.5 in /usr/local/lib/python3.11/dist-packages (from python-dateutil>=2.8.2->pandas<3.0,>=1.0->gradio) (1.17.0)\n",
            "Requirement already satisfied: markdown-it-py>=2.2.0 in /usr/local/lib/python3.11/dist-packages (from rich>=10.11.0->typer<1.0,>=0.12->gradio) (3.0.0)\n",
            "Requirement already satisfied: pygments<3.0.0,>=2.13.0 in /usr/local/lib/python3.11/dist-packages (from rich>=10.11.0->typer<1.0,>=0.12->gradio) (2.18.0)\n",
            "Requirement already satisfied: charset-normalizer<4,>=2 in /usr/local/lib/python3.11/dist-packages (from requests->huggingface-hub>=0.28.1->gradio) (3.4.1)\n",
            "Requirement already satisfied: urllib3<3,>=1.21.1 in /usr/local/lib/python3.11/dist-packages (from requests->huggingface-hub>=0.28.1->gradio) (2.3.0)\n",
            "Requirement already satisfied: mdurl~=0.1 in /usr/local/lib/python3.11/dist-packages (from markdown-it-py>=2.2.0->rich>=10.11.0->typer<1.0,>=0.12->gradio) (0.1.2)\n"
          ]
        }
      ]
    },
    {
      "cell_type": "code",
      "source": [
        "%matplotlib inline\n",
        "\n",
        "# 標準數據分析、畫圖套件\n",
        "import numpy as np\n",
        "import matplotlib.pyplot as plt\n",
        "from PIL import Image\n",
        "\n",
        "# 神經網路方面\n",
        "import tensorflow as tf\n",
        "from tensorflow.keras.datasets import mnist\n",
        "from tensorflow.keras.utils import to_categorical\n",
        "from tensorflow.keras.models import Sequential\n",
        "from tensorflow.keras.layers import Dense\n",
        "from tensorflow.keras.optimizers import SGD\n",
        "\n",
        "# 互動設計用\n",
        "from ipywidgets import interact_manual\n",
        "\n",
        "# 神速打造 web app 的 Gradio\n",
        "import gradio as gr"
      ],
      "metadata": {
        "id": "6eemnW-mXp5o"
      },
      "execution_count": null,
      "outputs": []
    },
    {
      "cell_type": "code",
      "source": [
        "(x_train, y_train), (x_test, y_test) = mnist.load_data()"
      ],
      "metadata": {
        "id": "FdzDxGDFX5nN"
      },
      "execution_count": null,
      "outputs": []
    },
    {
      "cell_type": "code",
      "source": [
        "print(f'訓練資料總筆數為 {len(x_train)} 筆資料')\n",
        "print(f'測試資料總筆數為 {len(x_test)} 筆資料')"
      ],
      "metadata": {
        "colab": {
          "base_uri": "https://localhost:8080/"
        },
        "id": "fKx6cTLbYBzu",
        "outputId": "da08361f-301e-4eeb-94e5-87da21776863"
      },
      "execution_count": null,
      "outputs": [
        {
          "output_type": "stream",
          "name": "stdout",
          "text": [
            "訓練資料總筆數為 60000 筆資料\n",
            "測試資料總筆數為 10000 筆資料\n"
          ]
        }
      ]
    },
    {
      "cell_type": "markdown",
      "source": [
        "normalization"
      ],
      "metadata": {
        "id": "gL3qLW3RYJqo"
      }
    },
    {
      "cell_type": "code",
      "source": [
        "x_train = x_train.reshape(60000, 784)/255\n",
        "x_test = x_test.reshape(10000, 784)/255"
      ],
      "metadata": {
        "id": "vq9Y4MlYYPj8"
      },
      "execution_count": null,
      "outputs": []
    },
    {
      "cell_type": "markdown",
      "source": [
        "格式整理"
      ],
      "metadata": {
        "id": "rya4SIBCYftP"
      }
    },
    {
      "cell_type": "code",
      "source": [
        "y_train = to_categorical(y_train, 10)\n",
        "y_test = to_categorical(y_test, 10)"
      ],
      "metadata": {
        "id": "0Wg3ctSPYivT"
      },
      "execution_count": null,
      "outputs": []
    },
    {
      "cell_type": "markdown",
      "source": [
        "建構神經網路"
      ],
      "metadata": {
        "id": "kIC1F7uBYx8Z"
      }
    },
    {
      "cell_type": "code",
      "source": [
        "model = Sequential()\n",
        "model.add(Dense(N1, input_dim=784, activation='relu'))\n",
        "model.add(Dense(N2, activation='relu'))\n",
        "model.add(Dense(N3, activation='relu'))"
      ],
      "metadata": {
        "id": "LtqKyzNLY1oL"
      },
      "execution_count": null,
      "outputs": []
    },
    {
      "cell_type": "markdown",
      "source": [
        "激發函數"
      ],
      "metadata": {
        "id": "6K6dsR7YZAfs"
      }
    },
    {
      "cell_type": "code",
      "source": [
        "model.add(Dense(10, activation='softmax'))"
      ],
      "metadata": {
        "id": "B1zW7gRVY83g"
      },
      "execution_count": null,
      "outputs": []
    },
    {
      "cell_type": "markdown",
      "source": [
        "組裝"
      ],
      "metadata": {
        "id": "PzWoMzLHZKHk"
      }
    },
    {
      "cell_type": "code",
      "source": [
        "model.compile(loss='mse', optimizer=SGD(learning_rate=0.087), metrics=['accuracy'])"
      ],
      "metadata": {
        "id": "pSLNy7YKZLEA"
      },
      "execution_count": null,
      "outputs": []
    },
    {
      "cell_type": "markdown",
      "source": [
        "檢視神經網路"
      ],
      "metadata": {
        "id": "_EfW92FJZQt2"
      }
    },
    {
      "cell_type": "code",
      "source": [
        "model.summary()"
      ],
      "metadata": {
        "colab": {
          "base_uri": "https://localhost:8080/",
          "height": 257
        },
        "id": "5XoQK-9SZTX_",
        "outputId": "174cd21e-16b5-4110-d76b-ebe97c460462"
      },
      "execution_count": null,
      "outputs": [
        {
          "output_type": "display_data",
          "data": {
            "text/plain": [
              "\u001b[1mModel: \"sequential\"\u001b[0m\n"
            ],
            "text/html": [
              "<pre style=\"white-space:pre;overflow-x:auto;line-height:normal;font-family:Menlo,'DejaVu Sans Mono',consolas,'Courier New',monospace\"><span style=\"font-weight: bold\">Model: \"sequential\"</span>\n",
              "</pre>\n"
            ]
          },
          "metadata": {}
        },
        {
          "output_type": "display_data",
          "data": {
            "text/plain": [
              "┏━━━━━━━━━━━━━━━━━━━━━━━━━━━━━━━━━━━━━━┳━━━━━━━━━━━━━━━━━━━━━━━━━━━━━┳━━━━━━━━━━━━━━━━━┓\n",
              "┃\u001b[1m \u001b[0m\u001b[1mLayer (type)                        \u001b[0m\u001b[1m \u001b[0m┃\u001b[1m \u001b[0m\u001b[1mOutput Shape               \u001b[0m\u001b[1m \u001b[0m┃\u001b[1m \u001b[0m\u001b[1m        Param #\u001b[0m\u001b[1m \u001b[0m┃\n",
              "┡━━━━━━━━━━━━━━━━━━━━━━━━━━━━━━━━━━━━━━╇━━━━━━━━━━━━━━━━━━━━━━━━━━━━━╇━━━━━━━━━━━━━━━━━┩\n",
              "│ dense (\u001b[38;5;33mDense\u001b[0m)                        │ (\u001b[38;5;45mNone\u001b[0m, \u001b[38;5;34m128\u001b[0m)                 │         \u001b[38;5;34m100,480\u001b[0m │\n",
              "├──────────────────────────────────────┼─────────────────────────────┼─────────────────┤\n",
              "│ dense_1 (\u001b[38;5;33mDense\u001b[0m)                      │ (\u001b[38;5;45mNone\u001b[0m, \u001b[38;5;34m64\u001b[0m)                  │           \u001b[38;5;34m8,256\u001b[0m │\n",
              "├──────────────────────────────────────┼─────────────────────────────┼─────────────────┤\n",
              "│ dense_2 (\u001b[38;5;33mDense\u001b[0m)                      │ (\u001b[38;5;45mNone\u001b[0m, \u001b[38;5;34m32\u001b[0m)                  │           \u001b[38;5;34m2,080\u001b[0m │\n",
              "├──────────────────────────────────────┼─────────────────────────────┼─────────────────┤\n",
              "│ dense_3 (\u001b[38;5;33mDense\u001b[0m)                      │ (\u001b[38;5;45mNone\u001b[0m, \u001b[38;5;34m10\u001b[0m)                  │             \u001b[38;5;34m330\u001b[0m │\n",
              "└──────────────────────────────────────┴─────────────────────────────┴─────────────────┘\n"
            ],
            "text/html": [
              "<pre style=\"white-space:pre;overflow-x:auto;line-height:normal;font-family:Menlo,'DejaVu Sans Mono',consolas,'Courier New',monospace\">┏━━━━━━━━━━━━━━━━━━━━━━━━━━━━━━━━━━━━━━┳━━━━━━━━━━━━━━━━━━━━━━━━━━━━━┳━━━━━━━━━━━━━━━━━┓\n",
              "┃<span style=\"font-weight: bold\"> Layer (type)                         </span>┃<span style=\"font-weight: bold\"> Output Shape                </span>┃<span style=\"font-weight: bold\">         Param # </span>┃\n",
              "┡━━━━━━━━━━━━━━━━━━━━━━━━━━━━━━━━━━━━━━╇━━━━━━━━━━━━━━━━━━━━━━━━━━━━━╇━━━━━━━━━━━━━━━━━┩\n",
              "│ dense (<span style=\"color: #0087ff; text-decoration-color: #0087ff\">Dense</span>)                        │ (<span style=\"color: #00d7ff; text-decoration-color: #00d7ff\">None</span>, <span style=\"color: #00af00; text-decoration-color: #00af00\">128</span>)                 │         <span style=\"color: #00af00; text-decoration-color: #00af00\">100,480</span> │\n",
              "├──────────────────────────────────────┼─────────────────────────────┼─────────────────┤\n",
              "│ dense_1 (<span style=\"color: #0087ff; text-decoration-color: #0087ff\">Dense</span>)                      │ (<span style=\"color: #00d7ff; text-decoration-color: #00d7ff\">None</span>, <span style=\"color: #00af00; text-decoration-color: #00af00\">64</span>)                  │           <span style=\"color: #00af00; text-decoration-color: #00af00\">8,256</span> │\n",
              "├──────────────────────────────────────┼─────────────────────────────┼─────────────────┤\n",
              "│ dense_2 (<span style=\"color: #0087ff; text-decoration-color: #0087ff\">Dense</span>)                      │ (<span style=\"color: #00d7ff; text-decoration-color: #00d7ff\">None</span>, <span style=\"color: #00af00; text-decoration-color: #00af00\">32</span>)                  │           <span style=\"color: #00af00; text-decoration-color: #00af00\">2,080</span> │\n",
              "├──────────────────────────────────────┼─────────────────────────────┼─────────────────┤\n",
              "│ dense_3 (<span style=\"color: #0087ff; text-decoration-color: #0087ff\">Dense</span>)                      │ (<span style=\"color: #00d7ff; text-decoration-color: #00d7ff\">None</span>, <span style=\"color: #00af00; text-decoration-color: #00af00\">10</span>)                  │             <span style=\"color: #00af00; text-decoration-color: #00af00\">330</span> │\n",
              "└──────────────────────────────────────┴─────────────────────────────┴─────────────────┘\n",
              "</pre>\n"
            ]
          },
          "metadata": {}
        },
        {
          "output_type": "display_data",
          "data": {
            "text/plain": [
              "\u001b[1m Total params: \u001b[0m\u001b[38;5;34m111,146\u001b[0m (434.16 KB)\n"
            ],
            "text/html": [
              "<pre style=\"white-space:pre;overflow-x:auto;line-height:normal;font-family:Menlo,'DejaVu Sans Mono',consolas,'Courier New',monospace\"><span style=\"font-weight: bold\"> Total params: </span><span style=\"color: #00af00; text-decoration-color: #00af00\">111,146</span> (434.16 KB)\n",
              "</pre>\n"
            ]
          },
          "metadata": {}
        },
        {
          "output_type": "display_data",
          "data": {
            "text/plain": [
              "\u001b[1m Trainable params: \u001b[0m\u001b[38;5;34m111,146\u001b[0m (434.16 KB)\n"
            ],
            "text/html": [
              "<pre style=\"white-space:pre;overflow-x:auto;line-height:normal;font-family:Menlo,'DejaVu Sans Mono',consolas,'Courier New',monospace\"><span style=\"font-weight: bold\"> Trainable params: </span><span style=\"color: #00af00; text-decoration-color: #00af00\">111,146</span> (434.16 KB)\n",
              "</pre>\n"
            ]
          },
          "metadata": {}
        },
        {
          "output_type": "display_data",
          "data": {
            "text/plain": [
              "\u001b[1m Non-trainable params: \u001b[0m\u001b[38;5;34m0\u001b[0m (0.00 B)\n"
            ],
            "text/html": [
              "<pre style=\"white-space:pre;overflow-x:auto;line-height:normal;font-family:Menlo,'DejaVu Sans Mono',consolas,'Courier New',monospace\"><span style=\"font-weight: bold\"> Non-trainable params: </span><span style=\"color: #00af00; text-decoration-color: #00af00\">0</span> (0.00 B)\n",
              "</pre>\n"
            ]
          },
          "metadata": {}
        }
      ]
    },
    {
      "cell_type": "markdown",
      "source": [
        "實際訓練\n",
        "- N1 = 20\n",
        "- N2 = 20\n",
        "- N3 = 20"
      ],
      "metadata": {
        "id": "jF012oMuZYWv"
      }
    },
    {
      "cell_type": "code",
      "source": [
        "model.fit(x_train, y_train, batch_size=100, epochs=10)"
      ],
      "metadata": {
        "colab": {
          "base_uri": "https://localhost:8080/",
          "height": 146
        },
        "id": "1X9m7vy3ZZ--",
        "outputId": "d6ff2433-a784-44d6-f6d2-6d1efd898aa6"
      },
      "execution_count": 1,
      "outputs": [
        {
          "output_type": "error",
          "ename": "NameError",
          "evalue": "name 'model' is not defined",
          "traceback": [
            "\u001b[0;31m---------------------------------------------------------------------------\u001b[0m",
            "\u001b[0;31mNameError\u001b[0m                                 Traceback (most recent call last)",
            "\u001b[0;32m<ipython-input-1-46dfa053d248>\u001b[0m in \u001b[0;36m<cell line: 0>\u001b[0;34m()\u001b[0m\n\u001b[0;32m----> 1\u001b[0;31m \u001b[0mmodel\u001b[0m\u001b[0;34m.\u001b[0m\u001b[0mfit\u001b[0m\u001b[0;34m(\u001b[0m\u001b[0mx_train\u001b[0m\u001b[0;34m,\u001b[0m \u001b[0my_train\u001b[0m\u001b[0;34m,\u001b[0m \u001b[0mbatch_size\u001b[0m\u001b[0;34m=\u001b[0m\u001b[0;36m100\u001b[0m\u001b[0;34m,\u001b[0m \u001b[0mepochs\u001b[0m\u001b[0;34m=\u001b[0m\u001b[0;36m10\u001b[0m\u001b[0;34m)\u001b[0m\u001b[0;34m\u001b[0m\u001b[0;34m\u001b[0m\u001b[0m\n\u001b[0m",
            "\u001b[0;31mNameError\u001b[0m: name 'model' is not defined"
          ]
        }
      ]
    },
    {
      "cell_type": "code",
      "source": [
        "loss, acc = model.evaluate(x_test, y_test)\n",
        "print(f\"測試資料正確率 {acc*100:.2f}%\")\n",
        "score = model.evaluate(x_test, y_test)\n",
        "print('loss:', score[0])\n",
        "print('正確率', score[1])"
      ],
      "metadata": {
        "colab": {
          "base_uri": "https://localhost:8080/"
        },
        "id": "aP0IBmmmZoj1",
        "outputId": "177af04b-ca4f-4a98-8f9a-48a1b1ba35ea"
      },
      "execution_count": null,
      "outputs": [
        {
          "output_type": "stream",
          "name": "stdout",
          "text": [
            "\u001b[1m313/313\u001b[0m \u001b[32m━━━━━━━━━━━━━━━━━━━━\u001b[0m\u001b[37m\u001b[0m \u001b[1m1s\u001b[0m 2ms/step - accuracy: 0.9140 - loss: 0.0135\n",
            "測試資料正確率 92.70%\n",
            "\u001b[1m313/313\u001b[0m \u001b[32m━━━━━━━━━━━━━━━━━━━━\u001b[0m\u001b[37m\u001b[0m \u001b[1m1s\u001b[0m 2ms/step - accuracy: 0.9140 - loss: 0.0135\n",
            "loss: 0.01166616939008236\n",
            "正確率 0.9269999861717224\n"
          ]
        }
      ]
    },
    {
      "cell_type": "markdown",
      "source": [
        "#嘗試 建構四層神經網路"
      ],
      "metadata": {
        "id": "TBsbnlfmbXO-"
      }
    },
    {
      "cell_type": "code",
      "source": [
        "N1 = 128\n",
        "N2 = 64\n",
        "N3 = 32\n",
        "N4 = 16"
      ],
      "metadata": {
        "id": "u4g3QQ-tbckg"
      },
      "execution_count": null,
      "outputs": []
    },
    {
      "cell_type": "code",
      "source": [
        "(x_train, y_train), (x_test, y_test) = mnist.load_data()\n",
        "\n",
        "x_train = x_train.reshape(60000, 784)/255\n",
        "x_test = x_test.reshape(10000, 784)/255\n",
        "y_train = to_categorical(y_train, 10)\n",
        "y_test = to_categorical(y_test, 10)"
      ],
      "metadata": {
        "id": "htdtcsBmbiUU"
      },
      "execution_count": null,
      "outputs": []
    },
    {
      "cell_type": "code",
      "source": [
        "model = Sequential()\n",
        "model.add(Dense(N1, input_dim=784, activation='relu'))\n",
        "model.add(Dense(N2, activation='relu'))\n",
        "model.add(Dense(N3, activation='relu'))\n",
        "model.add(Dense(N4, activation='relu'))\n",
        "model.add(Dense(10, activation='softmax'))"
      ],
      "metadata": {
        "id": "GBSFf8sQbvoQ"
      },
      "execution_count": null,
      "outputs": []
    },
    {
      "cell_type": "code",
      "source": [
        "model.compile(loss='mse', optimizer=SGD(learning_rate=0.087), metrics=['accuracy'])\n",
        "model.summary()\n",
        "model.fit(x_train, y_train, batch_size=100, epochs=10)\n",
        "\n",
        "loss, acc = model.evaluate(x_test, y_test)\n",
        "print(f\"測試資料正確率 {acc*100:.2f}%\")\n",
        "score = model.evaluate(x_test, y_test)\n",
        "print('loss:', score[0])\n",
        "print('正確率', score[1])"
      ],
      "metadata": {
        "colab": {
          "base_uri": "https://localhost:8080/",
          "height": 723
        },
        "id": "zOKZj0gHbz1k",
        "outputId": "a2541aba-3ecb-45da-dd1e-3c3b0bcf3940"
      },
      "execution_count": null,
      "outputs": [
        {
          "output_type": "display_data",
          "data": {
            "text/plain": [
              "\u001b[1mModel: \"sequential_2\"\u001b[0m\n"
            ],
            "text/html": [
              "<pre style=\"white-space:pre;overflow-x:auto;line-height:normal;font-family:Menlo,'DejaVu Sans Mono',consolas,'Courier New',monospace\"><span style=\"font-weight: bold\">Model: \"sequential_2\"</span>\n",
              "</pre>\n"
            ]
          },
          "metadata": {}
        },
        {
          "output_type": "display_data",
          "data": {
            "text/plain": [
              "┏━━━━━━━━━━━━━━━━━━━━━━━━━━━━━━━━━━━━━━┳━━━━━━━━━━━━━━━━━━━━━━━━━━━━━┳━━━━━━━━━━━━━━━━━┓\n",
              "┃\u001b[1m \u001b[0m\u001b[1mLayer (type)                        \u001b[0m\u001b[1m \u001b[0m┃\u001b[1m \u001b[0m\u001b[1mOutput Shape               \u001b[0m\u001b[1m \u001b[0m┃\u001b[1m \u001b[0m\u001b[1m        Param #\u001b[0m\u001b[1m \u001b[0m┃\n",
              "┡━━━━━━━━━━━━━━━━━━━━━━━━━━━━━━━━━━━━━━╇━━━━━━━━━━━━━━━━━━━━━━━━━━━━━╇━━━━━━━━━━━━━━━━━┩\n",
              "│ dense_8 (\u001b[38;5;33mDense\u001b[0m)                      │ (\u001b[38;5;45mNone\u001b[0m, \u001b[38;5;34m128\u001b[0m)                 │         \u001b[38;5;34m100,480\u001b[0m │\n",
              "├──────────────────────────────────────┼─────────────────────────────┼─────────────────┤\n",
              "│ dense_9 (\u001b[38;5;33mDense\u001b[0m)                      │ (\u001b[38;5;45mNone\u001b[0m, \u001b[38;5;34m64\u001b[0m)                  │           \u001b[38;5;34m8,256\u001b[0m │\n",
              "├──────────────────────────────────────┼─────────────────────────────┼─────────────────┤\n",
              "│ dense_10 (\u001b[38;5;33mDense\u001b[0m)                     │ (\u001b[38;5;45mNone\u001b[0m, \u001b[38;5;34m32\u001b[0m)                  │           \u001b[38;5;34m2,080\u001b[0m │\n",
              "├──────────────────────────────────────┼─────────────────────────────┼─────────────────┤\n",
              "│ dense_11 (\u001b[38;5;33mDense\u001b[0m)                     │ (\u001b[38;5;45mNone\u001b[0m, \u001b[38;5;34m16\u001b[0m)                  │             \u001b[38;5;34m528\u001b[0m │\n",
              "├──────────────────────────────────────┼─────────────────────────────┼─────────────────┤\n",
              "│ dense_12 (\u001b[38;5;33mDense\u001b[0m)                     │ (\u001b[38;5;45mNone\u001b[0m, \u001b[38;5;34m10\u001b[0m)                  │             \u001b[38;5;34m170\u001b[0m │\n",
              "└──────────────────────────────────────┴─────────────────────────────┴─────────────────┘\n"
            ],
            "text/html": [
              "<pre style=\"white-space:pre;overflow-x:auto;line-height:normal;font-family:Menlo,'DejaVu Sans Mono',consolas,'Courier New',monospace\">┏━━━━━━━━━━━━━━━━━━━━━━━━━━━━━━━━━━━━━━┳━━━━━━━━━━━━━━━━━━━━━━━━━━━━━┳━━━━━━━━━━━━━━━━━┓\n",
              "┃<span style=\"font-weight: bold\"> Layer (type)                         </span>┃<span style=\"font-weight: bold\"> Output Shape                </span>┃<span style=\"font-weight: bold\">         Param # </span>┃\n",
              "┡━━━━━━━━━━━━━━━━━━━━━━━━━━━━━━━━━━━━━━╇━━━━━━━━━━━━━━━━━━━━━━━━━━━━━╇━━━━━━━━━━━━━━━━━┩\n",
              "│ dense_8 (<span style=\"color: #0087ff; text-decoration-color: #0087ff\">Dense</span>)                      │ (<span style=\"color: #00d7ff; text-decoration-color: #00d7ff\">None</span>, <span style=\"color: #00af00; text-decoration-color: #00af00\">128</span>)                 │         <span style=\"color: #00af00; text-decoration-color: #00af00\">100,480</span> │\n",
              "├──────────────────────────────────────┼─────────────────────────────┼─────────────────┤\n",
              "│ dense_9 (<span style=\"color: #0087ff; text-decoration-color: #0087ff\">Dense</span>)                      │ (<span style=\"color: #00d7ff; text-decoration-color: #00d7ff\">None</span>, <span style=\"color: #00af00; text-decoration-color: #00af00\">64</span>)                  │           <span style=\"color: #00af00; text-decoration-color: #00af00\">8,256</span> │\n",
              "├──────────────────────────────────────┼─────────────────────────────┼─────────────────┤\n",
              "│ dense_10 (<span style=\"color: #0087ff; text-decoration-color: #0087ff\">Dense</span>)                     │ (<span style=\"color: #00d7ff; text-decoration-color: #00d7ff\">None</span>, <span style=\"color: #00af00; text-decoration-color: #00af00\">32</span>)                  │           <span style=\"color: #00af00; text-decoration-color: #00af00\">2,080</span> │\n",
              "├──────────────────────────────────────┼─────────────────────────────┼─────────────────┤\n",
              "│ dense_11 (<span style=\"color: #0087ff; text-decoration-color: #0087ff\">Dense</span>)                     │ (<span style=\"color: #00d7ff; text-decoration-color: #00d7ff\">None</span>, <span style=\"color: #00af00; text-decoration-color: #00af00\">16</span>)                  │             <span style=\"color: #00af00; text-decoration-color: #00af00\">528</span> │\n",
              "├──────────────────────────────────────┼─────────────────────────────┼─────────────────┤\n",
              "│ dense_12 (<span style=\"color: #0087ff; text-decoration-color: #0087ff\">Dense</span>)                     │ (<span style=\"color: #00d7ff; text-decoration-color: #00d7ff\">None</span>, <span style=\"color: #00af00; text-decoration-color: #00af00\">10</span>)                  │             <span style=\"color: #00af00; text-decoration-color: #00af00\">170</span> │\n",
              "└──────────────────────────────────────┴─────────────────────────────┴─────────────────┘\n",
              "</pre>\n"
            ]
          },
          "metadata": {}
        },
        {
          "output_type": "display_data",
          "data": {
            "text/plain": [
              "\u001b[1m Total params: \u001b[0m\u001b[38;5;34m111,514\u001b[0m (435.60 KB)\n"
            ],
            "text/html": [
              "<pre style=\"white-space:pre;overflow-x:auto;line-height:normal;font-family:Menlo,'DejaVu Sans Mono',consolas,'Courier New',monospace\"><span style=\"font-weight: bold\"> Total params: </span><span style=\"color: #00af00; text-decoration-color: #00af00\">111,514</span> (435.60 KB)\n",
              "</pre>\n"
            ]
          },
          "metadata": {}
        },
        {
          "output_type": "display_data",
          "data": {
            "text/plain": [
              "\u001b[1m Trainable params: \u001b[0m\u001b[38;5;34m111,514\u001b[0m (435.60 KB)\n"
            ],
            "text/html": [
              "<pre style=\"white-space:pre;overflow-x:auto;line-height:normal;font-family:Menlo,'DejaVu Sans Mono',consolas,'Courier New',monospace\"><span style=\"font-weight: bold\"> Trainable params: </span><span style=\"color: #00af00; text-decoration-color: #00af00\">111,514</span> (435.60 KB)\n",
              "</pre>\n"
            ]
          },
          "metadata": {}
        },
        {
          "output_type": "display_data",
          "data": {
            "text/plain": [
              "\u001b[1m Non-trainable params: \u001b[0m\u001b[38;5;34m0\u001b[0m (0.00 B)\n"
            ],
            "text/html": [
              "<pre style=\"white-space:pre;overflow-x:auto;line-height:normal;font-family:Menlo,'DejaVu Sans Mono',consolas,'Courier New',monospace\"><span style=\"font-weight: bold\"> Non-trainable params: </span><span style=\"color: #00af00; text-decoration-color: #00af00\">0</span> (0.00 B)\n",
              "</pre>\n"
            ]
          },
          "metadata": {}
        },
        {
          "output_type": "stream",
          "name": "stdout",
          "text": [
            "Epoch 1/10\n",
            "\u001b[1m600/600\u001b[0m \u001b[32m━━━━━━━━━━━━━━━━━━━━\u001b[0m\u001b[37m\u001b[0m \u001b[1m3s\u001b[0m 4ms/step - accuracy: 0.1578 - loss: 0.0895\n",
            "Epoch 2/10\n",
            "\u001b[1m600/600\u001b[0m \u001b[32m━━━━━━━━━━━━━━━━━━━━\u001b[0m\u001b[37m\u001b[0m \u001b[1m4s\u001b[0m 3ms/step - accuracy: 0.3035 - loss: 0.0861\n",
            "Epoch 3/10\n",
            "\u001b[1m600/600\u001b[0m \u001b[32m━━━━━━━━━━━━━━━━━━━━\u001b[0m\u001b[37m\u001b[0m \u001b[1m3s\u001b[0m 3ms/step - accuracy: 0.3658 - loss: 0.0739\n",
            "Epoch 4/10\n",
            "\u001b[1m600/600\u001b[0m \u001b[32m━━━━━━━━━━━━━━━━━━━━\u001b[0m\u001b[37m\u001b[0m \u001b[1m3s\u001b[0m 3ms/step - accuracy: 0.5139 - loss: 0.0630\n",
            "Epoch 5/10\n",
            "\u001b[1m600/600\u001b[0m \u001b[32m━━━━━━━━━━━━━━━━━━━━\u001b[0m\u001b[37m\u001b[0m \u001b[1m3s\u001b[0m 3ms/step - accuracy: 0.6610 - loss: 0.0488\n",
            "Epoch 6/10\n",
            "\u001b[1m600/600\u001b[0m \u001b[32m━━━━━━━━━━━━━━━━━━━━\u001b[0m\u001b[37m\u001b[0m \u001b[1m3s\u001b[0m 4ms/step - accuracy: 0.7945 - loss: 0.0327\n",
            "Epoch 7/10\n",
            "\u001b[1m600/600\u001b[0m \u001b[32m━━━━━━━━━━━━━━━━━━━━\u001b[0m\u001b[37m\u001b[0m \u001b[1m2s\u001b[0m 3ms/step - accuracy: 0.8478 - loss: 0.0240\n",
            "Epoch 8/10\n",
            "\u001b[1m600/600\u001b[0m \u001b[32m━━━━━━━━━━━━━━━━━━━━\u001b[0m\u001b[37m\u001b[0m \u001b[1m3s\u001b[0m 3ms/step - accuracy: 0.8712 - loss: 0.0201\n",
            "Epoch 9/10\n",
            "\u001b[1m600/600\u001b[0m \u001b[32m━━━━━━━━━━━━━━━━━━━━\u001b[0m\u001b[37m\u001b[0m \u001b[1m3s\u001b[0m 4ms/step - accuracy: 0.8825 - loss: 0.0181\n",
            "Epoch 10/10\n",
            "\u001b[1m600/600\u001b[0m \u001b[32m━━━━━━━━━━━━━━━━━━━━\u001b[0m\u001b[37m\u001b[0m \u001b[1m4s\u001b[0m 3ms/step - accuracy: 0.8924 - loss: 0.0165\n",
            "\u001b[1m313/313\u001b[0m \u001b[32m━━━━━━━━━━━━━━━━━━━━\u001b[0m\u001b[37m\u001b[0m \u001b[1m1s\u001b[0m 2ms/step - accuracy: 0.8812 - loss: 0.0175\n",
            "測試資料正確率 89.68%\n",
            "\u001b[1m313/313\u001b[0m \u001b[32m━━━━━━━━━━━━━━━━━━━━\u001b[0m\u001b[37m\u001b[0m \u001b[1m1s\u001b[0m 2ms/step - accuracy: 0.8812 - loss: 0.0175\n",
            "loss: 0.015317513607442379\n",
            "正確率 0.8967999815940857\n"
          ]
        }
      ]
    },
    {
      "cell_type": "markdown",
      "source": [
        "#四層結果0.896 不如三層0.926"
      ],
      "metadata": {
        "id": "dGartEVBc6TL"
      }
    },
    {
      "cell_type": "markdown",
      "source": [
        "可能性:過度擬合\n",
        "- 神經網路的層數和神經元數量增加導致模型的複雜度也跟著增加。如果訓練資料不足或模型過於複雜，可能會導致過度擬合，即模型在訓練資料上表現很好，但在驗證資料上表現變差。\n",
        "- 增加 Dropout 層：在隱藏層之間加入 Dropout 層，隨機丟棄一部分神經元，防止過度擬合。"
      ],
      "metadata": {
        "id": "nholSP4Lc93u"
      }
    },
    {
      "cell_type": "code",
      "source": [
        "N1 = 128\n",
        "N2 = 64\n",
        "N3 = 32\n",
        "N4 = 16\n",
        "from tensorflow.keras.layers import Dropout # 導入dropout\n",
        "\n",
        "(x_train, y_train), (x_test, y_test) = mnist.load_data()\n",
        "\n",
        "x_train = x_train.reshape(60000, 784)/255\n",
        "x_test = x_test.reshape(10000, 784)/255\n",
        "y_train = to_categorical(y_train, 10)\n",
        "y_test = to_categorical(y_test, 10)\n",
        "model = Sequential()\n",
        "model.add(Dense(N1, input_dim=784, activation='relu'))\n",
        "model.add(Dropout(0.5))  # N1 隨機丟棄 50% 的神經元\n",
        "model.add(Dense(N2, activation='relu'))\n",
        "model.add(Dropout(0.5))  # N2 隨機丟棄 50% 的神經元\n",
        "model.add(Dense(N3, activation='relu'))\n",
        "model.add(Dropout(0.5))  # N3 隨機丟棄 50% 的神經元\n",
        "model.add(Dense(N4, activation='relu'))\n",
        "model.add(Dense(10, activation='softmax'))\n",
        "model.compile(loss='mse', optimizer=SGD(learning_rate=0.087), metrics=['accuracy'])\n",
        "model.summary()\n",
        "model.fit(x_train, y_train, batch_size=100, epochs=10)\n",
        "\n",
        "loss, acc = model.evaluate(x_test, y_test)\n",
        "print(f\"測試資料正確率 {acc*100:.2f}%\")\n",
        "score = model.evaluate(x_test, y_test)\n",
        "print('loss:', score[0])\n",
        "print('正確率', score[1])"
      ],
      "metadata": {
        "colab": {
          "base_uri": "https://localhost:8080/",
          "height": 219
        },
        "id": "lCzJOD1addo-",
        "outputId": "12f5ab2c-de02-40f5-f82d-20f638f35254"
      },
      "execution_count": 2,
      "outputs": [
        {
          "output_type": "error",
          "ename": "NameError",
          "evalue": "name 'mnist' is not defined",
          "traceback": [
            "\u001b[0;31m---------------------------------------------------------------------------\u001b[0m",
            "\u001b[0;31mNameError\u001b[0m                                 Traceback (most recent call last)",
            "\u001b[0;32m<ipython-input-2-63464e679c48>\u001b[0m in \u001b[0;36m<cell line: 0>\u001b[0;34m()\u001b[0m\n\u001b[1;32m      5\u001b[0m \u001b[0;32mfrom\u001b[0m \u001b[0mtensorflow\u001b[0m\u001b[0;34m.\u001b[0m\u001b[0mkeras\u001b[0m\u001b[0;34m.\u001b[0m\u001b[0mlayers\u001b[0m \u001b[0;32mimport\u001b[0m \u001b[0mDropout\u001b[0m \u001b[0;31m# 導入dropout\u001b[0m\u001b[0;34m\u001b[0m\u001b[0;34m\u001b[0m\u001b[0m\n\u001b[1;32m      6\u001b[0m \u001b[0;34m\u001b[0m\u001b[0m\n\u001b[0;32m----> 7\u001b[0;31m \u001b[0;34m(\u001b[0m\u001b[0mx_train\u001b[0m\u001b[0;34m,\u001b[0m \u001b[0my_train\u001b[0m\u001b[0;34m)\u001b[0m\u001b[0;34m,\u001b[0m \u001b[0;34m(\u001b[0m\u001b[0mx_test\u001b[0m\u001b[0;34m,\u001b[0m \u001b[0my_test\u001b[0m\u001b[0;34m)\u001b[0m \u001b[0;34m=\u001b[0m \u001b[0mmnist\u001b[0m\u001b[0;34m.\u001b[0m\u001b[0mload_data\u001b[0m\u001b[0;34m(\u001b[0m\u001b[0;34m)\u001b[0m\u001b[0;34m\u001b[0m\u001b[0;34m\u001b[0m\u001b[0m\n\u001b[0m\u001b[1;32m      8\u001b[0m \u001b[0;34m\u001b[0m\u001b[0m\n\u001b[1;32m      9\u001b[0m \u001b[0mx_train\u001b[0m \u001b[0;34m=\u001b[0m \u001b[0mx_train\u001b[0m\u001b[0;34m.\u001b[0m\u001b[0mreshape\u001b[0m\u001b[0;34m(\u001b[0m\u001b[0;36m60000\u001b[0m\u001b[0;34m,\u001b[0m \u001b[0;36m784\u001b[0m\u001b[0;34m)\u001b[0m\u001b[0;34m/\u001b[0m\u001b[0;36m255\u001b[0m\u001b[0;34m\u001b[0m\u001b[0;34m\u001b[0m\u001b[0m\n",
            "\u001b[0;31mNameError\u001b[0m: name 'mnist' is not defined"
          ]
        }
      ]
    },
    {
      "cell_type": "markdown",
      "source": [
        "表現大幅下降，可能是因為  Dropout 的使用增加了模型的複雜度，訓練時間的增加才可以讓模型良好的收斂"
      ],
      "metadata": {
        "id": "71rOkiyle4sm"
      }
    },
    {
      "cell_type": "code",
      "source": [
        "N1 = 128\n",
        "N2 = 64\n",
        "N3 = 32\n",
        "N4 = 16\n",
        "from tensorflow.keras.layers import Dropout\n",
        "\n",
        "(x_train, y_train), (x_test, y_test) = mnist.load_data()\n",
        "\n",
        "x_train = x_train.reshape(60000, 784)/255\n",
        "x_test = x_test.reshape(10000, 784)/255\n",
        "y_train = to_categorical(y_train, 10)\n",
        "y_test = to_categorical(y_test, 10)\n",
        "model = Sequential()\n",
        "model.add(Dense(N1, input_dim=784, activation='relu'))\n",
        "model.add(Dropout(0.5))\n",
        "model.add(Dense(N2, activation='relu'))\n",
        "model.add(Dropout(0.5))\n",
        "model.add(Dense(N3, activation='relu'))\n",
        "model.add(Dropout(0.5))\n",
        "model.add(Dense(N4, activation='relu'))\n",
        "model.add(Dense(10, activation='softmax'))\n",
        "model.compile(loss='mse', optimizer=SGD(learning_rate=0.087), metrics=['accuracy'])\n",
        "model.summary()\n",
        "model.fit(x_train, y_train, batch_size=100, epochs=100) # epochs from 10 to 100\n",
        "\n",
        "loss, acc = model.evaluate(x_test, y_test)\n",
        "print(f\"測試資料正確率 {acc*100:.2f}%\")\n",
        "score = model.evaluate(x_test, y_test)\n",
        "print('loss:', score[0])\n",
        "print('正確率', score[1])"
      ],
      "metadata": {
        "colab": {
          "base_uri": "https://localhost:8080/",
          "height": 1000
        },
        "id": "ubAzv-UdfTZk",
        "outputId": "92bef5d2-3af7-4a6a-afb3-1b93bab0fdc6"
      },
      "execution_count": null,
      "outputs": [
        {
          "output_type": "display_data",
          "data": {
            "text/plain": [
              "\u001b[1mModel: \"sequential_4\"\u001b[0m\n"
            ],
            "text/html": [
              "<pre style=\"white-space:pre;overflow-x:auto;line-height:normal;font-family:Menlo,'DejaVu Sans Mono',consolas,'Courier New',monospace\"><span style=\"font-weight: bold\">Model: \"sequential_4\"</span>\n",
              "</pre>\n"
            ]
          },
          "metadata": {}
        },
        {
          "output_type": "display_data",
          "data": {
            "text/plain": [
              "┏━━━━━━━━━━━━━━━━━━━━━━━━━━━━━━━━━━━━━━┳━━━━━━━━━━━━━━━━━━━━━━━━━━━━━┳━━━━━━━━━━━━━━━━━┓\n",
              "┃\u001b[1m \u001b[0m\u001b[1mLayer (type)                        \u001b[0m\u001b[1m \u001b[0m┃\u001b[1m \u001b[0m\u001b[1mOutput Shape               \u001b[0m\u001b[1m \u001b[0m┃\u001b[1m \u001b[0m\u001b[1m        Param #\u001b[0m\u001b[1m \u001b[0m┃\n",
              "┡━━━━━━━━━━━━━━━━━━━━━━━━━━━━━━━━━━━━━━╇━━━━━━━━━━━━━━━━━━━━━━━━━━━━━╇━━━━━━━━━━━━━━━━━┩\n",
              "│ dense_18 (\u001b[38;5;33mDense\u001b[0m)                     │ (\u001b[38;5;45mNone\u001b[0m, \u001b[38;5;34m128\u001b[0m)                 │         \u001b[38;5;34m100,480\u001b[0m │\n",
              "├──────────────────────────────────────┼─────────────────────────────┼─────────────────┤\n",
              "│ dropout_3 (\u001b[38;5;33mDropout\u001b[0m)                  │ (\u001b[38;5;45mNone\u001b[0m, \u001b[38;5;34m128\u001b[0m)                 │               \u001b[38;5;34m0\u001b[0m │\n",
              "├──────────────────────────────────────┼─────────────────────────────┼─────────────────┤\n",
              "│ dense_19 (\u001b[38;5;33mDense\u001b[0m)                     │ (\u001b[38;5;45mNone\u001b[0m, \u001b[38;5;34m64\u001b[0m)                  │           \u001b[38;5;34m8,256\u001b[0m │\n",
              "├──────────────────────────────────────┼─────────────────────────────┼─────────────────┤\n",
              "│ dropout_4 (\u001b[38;5;33mDropout\u001b[0m)                  │ (\u001b[38;5;45mNone\u001b[0m, \u001b[38;5;34m64\u001b[0m)                  │               \u001b[38;5;34m0\u001b[0m │\n",
              "├──────────────────────────────────────┼─────────────────────────────┼─────────────────┤\n",
              "│ dense_20 (\u001b[38;5;33mDense\u001b[0m)                     │ (\u001b[38;5;45mNone\u001b[0m, \u001b[38;5;34m32\u001b[0m)                  │           \u001b[38;5;34m2,080\u001b[0m │\n",
              "├──────────────────────────────────────┼─────────────────────────────┼─────────────────┤\n",
              "│ dropout_5 (\u001b[38;5;33mDropout\u001b[0m)                  │ (\u001b[38;5;45mNone\u001b[0m, \u001b[38;5;34m32\u001b[0m)                  │               \u001b[38;5;34m0\u001b[0m │\n",
              "├──────────────────────────────────────┼─────────────────────────────┼─────────────────┤\n",
              "│ dense_21 (\u001b[38;5;33mDense\u001b[0m)                     │ (\u001b[38;5;45mNone\u001b[0m, \u001b[38;5;34m16\u001b[0m)                  │             \u001b[38;5;34m528\u001b[0m │\n",
              "├──────────────────────────────────────┼─────────────────────────────┼─────────────────┤\n",
              "│ dense_22 (\u001b[38;5;33mDense\u001b[0m)                     │ (\u001b[38;5;45mNone\u001b[0m, \u001b[38;5;34m10\u001b[0m)                  │             \u001b[38;5;34m170\u001b[0m │\n",
              "└──────────────────────────────────────┴─────────────────────────────┴─────────────────┘\n"
            ],
            "text/html": [
              "<pre style=\"white-space:pre;overflow-x:auto;line-height:normal;font-family:Menlo,'DejaVu Sans Mono',consolas,'Courier New',monospace\">┏━━━━━━━━━━━━━━━━━━━━━━━━━━━━━━━━━━━━━━┳━━━━━━━━━━━━━━━━━━━━━━━━━━━━━┳━━━━━━━━━━━━━━━━━┓\n",
              "┃<span style=\"font-weight: bold\"> Layer (type)                         </span>┃<span style=\"font-weight: bold\"> Output Shape                </span>┃<span style=\"font-weight: bold\">         Param # </span>┃\n",
              "┡━━━━━━━━━━━━━━━━━━━━━━━━━━━━━━━━━━━━━━╇━━━━━━━━━━━━━━━━━━━━━━━━━━━━━╇━━━━━━━━━━━━━━━━━┩\n",
              "│ dense_18 (<span style=\"color: #0087ff; text-decoration-color: #0087ff\">Dense</span>)                     │ (<span style=\"color: #00d7ff; text-decoration-color: #00d7ff\">None</span>, <span style=\"color: #00af00; text-decoration-color: #00af00\">128</span>)                 │         <span style=\"color: #00af00; text-decoration-color: #00af00\">100,480</span> │\n",
              "├──────────────────────────────────────┼─────────────────────────────┼─────────────────┤\n",
              "│ dropout_3 (<span style=\"color: #0087ff; text-decoration-color: #0087ff\">Dropout</span>)                  │ (<span style=\"color: #00d7ff; text-decoration-color: #00d7ff\">None</span>, <span style=\"color: #00af00; text-decoration-color: #00af00\">128</span>)                 │               <span style=\"color: #00af00; text-decoration-color: #00af00\">0</span> │\n",
              "├──────────────────────────────────────┼─────────────────────────────┼─────────────────┤\n",
              "│ dense_19 (<span style=\"color: #0087ff; text-decoration-color: #0087ff\">Dense</span>)                     │ (<span style=\"color: #00d7ff; text-decoration-color: #00d7ff\">None</span>, <span style=\"color: #00af00; text-decoration-color: #00af00\">64</span>)                  │           <span style=\"color: #00af00; text-decoration-color: #00af00\">8,256</span> │\n",
              "├──────────────────────────────────────┼─────────────────────────────┼─────────────────┤\n",
              "│ dropout_4 (<span style=\"color: #0087ff; text-decoration-color: #0087ff\">Dropout</span>)                  │ (<span style=\"color: #00d7ff; text-decoration-color: #00d7ff\">None</span>, <span style=\"color: #00af00; text-decoration-color: #00af00\">64</span>)                  │               <span style=\"color: #00af00; text-decoration-color: #00af00\">0</span> │\n",
              "├──────────────────────────────────────┼─────────────────────────────┼─────────────────┤\n",
              "│ dense_20 (<span style=\"color: #0087ff; text-decoration-color: #0087ff\">Dense</span>)                     │ (<span style=\"color: #00d7ff; text-decoration-color: #00d7ff\">None</span>, <span style=\"color: #00af00; text-decoration-color: #00af00\">32</span>)                  │           <span style=\"color: #00af00; text-decoration-color: #00af00\">2,080</span> │\n",
              "├──────────────────────────────────────┼─────────────────────────────┼─────────────────┤\n",
              "│ dropout_5 (<span style=\"color: #0087ff; text-decoration-color: #0087ff\">Dropout</span>)                  │ (<span style=\"color: #00d7ff; text-decoration-color: #00d7ff\">None</span>, <span style=\"color: #00af00; text-decoration-color: #00af00\">32</span>)                  │               <span style=\"color: #00af00; text-decoration-color: #00af00\">0</span> │\n",
              "├──────────────────────────────────────┼─────────────────────────────┼─────────────────┤\n",
              "│ dense_21 (<span style=\"color: #0087ff; text-decoration-color: #0087ff\">Dense</span>)                     │ (<span style=\"color: #00d7ff; text-decoration-color: #00d7ff\">None</span>, <span style=\"color: #00af00; text-decoration-color: #00af00\">16</span>)                  │             <span style=\"color: #00af00; text-decoration-color: #00af00\">528</span> │\n",
              "├──────────────────────────────────────┼─────────────────────────────┼─────────────────┤\n",
              "│ dense_22 (<span style=\"color: #0087ff; text-decoration-color: #0087ff\">Dense</span>)                     │ (<span style=\"color: #00d7ff; text-decoration-color: #00d7ff\">None</span>, <span style=\"color: #00af00; text-decoration-color: #00af00\">10</span>)                  │             <span style=\"color: #00af00; text-decoration-color: #00af00\">170</span> │\n",
              "└──────────────────────────────────────┴─────────────────────────────┴─────────────────┘\n",
              "</pre>\n"
            ]
          },
          "metadata": {}
        },
        {
          "output_type": "display_data",
          "data": {
            "text/plain": [
              "\u001b[1m Total params: \u001b[0m\u001b[38;5;34m111,514\u001b[0m (435.60 KB)\n"
            ],
            "text/html": [
              "<pre style=\"white-space:pre;overflow-x:auto;line-height:normal;font-family:Menlo,'DejaVu Sans Mono',consolas,'Courier New',monospace\"><span style=\"font-weight: bold\"> Total params: </span><span style=\"color: #00af00; text-decoration-color: #00af00\">111,514</span> (435.60 KB)\n",
              "</pre>\n"
            ]
          },
          "metadata": {}
        },
        {
          "output_type": "display_data",
          "data": {
            "text/plain": [
              "\u001b[1m Trainable params: \u001b[0m\u001b[38;5;34m111,514\u001b[0m (435.60 KB)\n"
            ],
            "text/html": [
              "<pre style=\"white-space:pre;overflow-x:auto;line-height:normal;font-family:Menlo,'DejaVu Sans Mono',consolas,'Courier New',monospace\"><span style=\"font-weight: bold\"> Trainable params: </span><span style=\"color: #00af00; text-decoration-color: #00af00\">111,514</span> (435.60 KB)\n",
              "</pre>\n"
            ]
          },
          "metadata": {}
        },
        {
          "output_type": "display_data",
          "data": {
            "text/plain": [
              "\u001b[1m Non-trainable params: \u001b[0m\u001b[38;5;34m0\u001b[0m (0.00 B)\n"
            ],
            "text/html": [
              "<pre style=\"white-space:pre;overflow-x:auto;line-height:normal;font-family:Menlo,'DejaVu Sans Mono',consolas,'Courier New',monospace\"><span style=\"font-weight: bold\"> Non-trainable params: </span><span style=\"color: #00af00; text-decoration-color: #00af00\">0</span> (0.00 B)\n",
              "</pre>\n"
            ]
          },
          "metadata": {}
        },
        {
          "output_type": "stream",
          "name": "stdout",
          "text": [
            "Epoch 1/100\n",
            "\u001b[1m600/600\u001b[0m \u001b[32m━━━━━━━━━━━━━━━━━━━━\u001b[0m\u001b[37m\u001b[0m \u001b[1m4s\u001b[0m 4ms/step - accuracy: 0.1003 - loss: 0.0924\n",
            "Epoch 2/100\n",
            "\u001b[1m600/600\u001b[0m \u001b[32m━━━━━━━━━━━━━━━━━━━━\u001b[0m\u001b[37m\u001b[0m \u001b[1m2s\u001b[0m 4ms/step - accuracy: 0.1305 - loss: 0.0894\n",
            "Epoch 3/100\n",
            "\u001b[1m600/600\u001b[0m \u001b[32m━━━━━━━━━━━━━━━━━━━━\u001b[0m\u001b[37m\u001b[0m \u001b[1m3s\u001b[0m 5ms/step - accuracy: 0.1592 - loss: 0.0874\n",
            "Epoch 4/100\n",
            "\u001b[1m600/600\u001b[0m \u001b[32m━━━━━━━━━━━━━━━━━━━━\u001b[0m\u001b[37m\u001b[0m \u001b[1m3s\u001b[0m 5ms/step - accuracy: 0.1858 - loss: 0.0857\n",
            "Epoch 5/100\n",
            "\u001b[1m600/600\u001b[0m \u001b[32m━━━━━━━━━━━━━━━━━━━━\u001b[0m\u001b[37m\u001b[0m \u001b[1m3s\u001b[0m 4ms/step - accuracy: 0.2215 - loss: 0.0844\n",
            "Epoch 6/100\n",
            "\u001b[1m600/600\u001b[0m \u001b[32m━━━━━━━━━━━━━━━━━━━━\u001b[0m\u001b[37m\u001b[0m \u001b[1m3s\u001b[0m 4ms/step - accuracy: 0.2545 - loss: 0.0830\n",
            "Epoch 7/100\n",
            "\u001b[1m600/600\u001b[0m \u001b[32m━━━━━━━━━━━━━━━━━━━━\u001b[0m\u001b[37m\u001b[0m \u001b[1m6s\u001b[0m 6ms/step - accuracy: 0.2750 - loss: 0.0816\n",
            "Epoch 8/100\n",
            "\u001b[1m600/600\u001b[0m \u001b[32m━━━━━━━━━━━━━━━━━━━━\u001b[0m\u001b[37m\u001b[0m \u001b[1m3s\u001b[0m 4ms/step - accuracy: 0.2932 - loss: 0.0797\n",
            "Epoch 9/100\n",
            "\u001b[1m600/600\u001b[0m \u001b[32m━━━━━━━━━━━━━━━━━━━━\u001b[0m\u001b[37m\u001b[0m \u001b[1m3s\u001b[0m 5ms/step - accuracy: 0.3089 - loss: 0.0777\n",
            "Epoch 10/100\n",
            "\u001b[1m600/600\u001b[0m \u001b[32m━━━━━━━━━━━━━━━━━━━━\u001b[0m\u001b[37m\u001b[0m \u001b[1m3s\u001b[0m 4ms/step - accuracy: 0.3219 - loss: 0.0761\n",
            "Epoch 11/100\n",
            "\u001b[1m600/600\u001b[0m \u001b[32m━━━━━━━━━━━━━━━━━━━━\u001b[0m\u001b[37m\u001b[0m \u001b[1m3s\u001b[0m 5ms/step - accuracy: 0.3414 - loss: 0.0744\n",
            "Epoch 12/100\n",
            "\u001b[1m600/600\u001b[0m \u001b[32m━━━━━━━━━━━━━━━━━━━━\u001b[0m\u001b[37m\u001b[0m \u001b[1m3s\u001b[0m 5ms/step - accuracy: 0.3553 - loss: 0.0729\n",
            "Epoch 13/100\n",
            "\u001b[1m600/600\u001b[0m \u001b[32m━━━━━━━━━━━━━━━━━━━━\u001b[0m\u001b[37m\u001b[0m \u001b[1m3s\u001b[0m 5ms/step - accuracy: 0.3698 - loss: 0.0714\n",
            "Epoch 14/100\n",
            "\u001b[1m600/600\u001b[0m \u001b[32m━━━━━━━━━━━━━━━━━━━━\u001b[0m\u001b[37m\u001b[0m \u001b[1m3s\u001b[0m 4ms/step - accuracy: 0.3805 - loss: 0.0704\n",
            "Epoch 15/100\n",
            "\u001b[1m600/600\u001b[0m \u001b[32m━━━━━━━━━━━━━━━━━━━━\u001b[0m\u001b[37m\u001b[0m \u001b[1m3s\u001b[0m 5ms/step - accuracy: 0.3930 - loss: 0.0690\n",
            "Epoch 16/100\n",
            "\u001b[1m600/600\u001b[0m \u001b[32m━━━━━━━━━━━━━━━━━━━━\u001b[0m\u001b[37m\u001b[0m \u001b[1m3s\u001b[0m 4ms/step - accuracy: 0.4030 - loss: 0.0679\n",
            "Epoch 17/100\n",
            "\u001b[1m600/600\u001b[0m \u001b[32m━━━━━━━━━━━━━━━━━━━━\u001b[0m\u001b[37m\u001b[0m \u001b[1m3s\u001b[0m 5ms/step - accuracy: 0.4171 - loss: 0.0667\n",
            "Epoch 18/100\n",
            "\u001b[1m600/600\u001b[0m \u001b[32m━━━━━━━━━━━━━━━━━━━━\u001b[0m\u001b[37m\u001b[0m \u001b[1m6s\u001b[0m 6ms/step - accuracy: 0.4323 - loss: 0.0652\n",
            "Epoch 19/100\n",
            "\u001b[1m600/600\u001b[0m \u001b[32m━━━━━━━━━━━━━━━━━━━━\u001b[0m\u001b[37m\u001b[0m \u001b[1m5s\u001b[0m 5ms/step - accuracy: 0.4484 - loss: 0.0635\n",
            "Epoch 20/100\n",
            "\u001b[1m600/600\u001b[0m \u001b[32m━━━━━━━━━━━━━━━━━━━━\u001b[0m\u001b[37m\u001b[0m \u001b[1m5s\u001b[0m 5ms/step - accuracy: 0.4718 - loss: 0.0614\n",
            "Epoch 21/100\n",
            "\u001b[1m600/600\u001b[0m \u001b[32m━━━━━━━━━━━━━━━━━━━━\u001b[0m\u001b[37m\u001b[0m \u001b[1m5s\u001b[0m 4ms/step - accuracy: 0.5062 - loss: 0.0597\n",
            "Epoch 22/100\n",
            "\u001b[1m600/600\u001b[0m \u001b[32m━━━━━━━━━━━━━━━━━━━━\u001b[0m\u001b[37m\u001b[0m \u001b[1m5s\u001b[0m 4ms/step - accuracy: 0.5403 - loss: 0.0579\n",
            "Epoch 23/100\n",
            "\u001b[1m600/600\u001b[0m \u001b[32m━━━━━━━━━━━━━━━━━━━━\u001b[0m\u001b[37m\u001b[0m \u001b[1m3s\u001b[0m 5ms/step - accuracy: 0.5631 - loss: 0.0559\n",
            "Epoch 24/100\n",
            "\u001b[1m600/600\u001b[0m \u001b[32m━━━━━━━━━━━━━━━━━━━━\u001b[0m\u001b[37m\u001b[0m \u001b[1m5s\u001b[0m 5ms/step - accuracy: 0.5717 - loss: 0.0549\n",
            "Epoch 25/100\n",
            "\u001b[1m600/600\u001b[0m \u001b[32m━━━━━━━━━━━━━━━━━━━━\u001b[0m\u001b[37m\u001b[0m \u001b[1m3s\u001b[0m 4ms/step - accuracy: 0.5780 - loss: 0.0539\n",
            "Epoch 26/100\n",
            "\u001b[1m600/600\u001b[0m \u001b[32m━━━━━━━━━━━━━━━━━━━━\u001b[0m\u001b[37m\u001b[0m \u001b[1m3s\u001b[0m 4ms/step - accuracy: 0.5942 - loss: 0.0523\n",
            "Epoch 27/100\n",
            "\u001b[1m600/600\u001b[0m \u001b[32m━━━━━━━━━━━━━━━━━━━━\u001b[0m\u001b[37m\u001b[0m \u001b[1m3s\u001b[0m 6ms/step - accuracy: 0.5935 - loss: 0.0517\n",
            "Epoch 28/100\n",
            "\u001b[1m600/600\u001b[0m \u001b[32m━━━━━━━━━━━━━━━━━━━━\u001b[0m\u001b[37m\u001b[0m \u001b[1m5s\u001b[0m 5ms/step - accuracy: 0.6079 - loss: 0.0501\n",
            "Epoch 29/100\n",
            "\u001b[1m600/600\u001b[0m \u001b[32m━━━━━━━━━━━━━━━━━━━━\u001b[0m\u001b[37m\u001b[0m \u001b[1m3s\u001b[0m 5ms/step - accuracy: 0.6161 - loss: 0.0493\n",
            "Epoch 30/100\n",
            "\u001b[1m600/600\u001b[0m \u001b[32m━━━━━━━━━━━━━━━━━━━━\u001b[0m\u001b[37m\u001b[0m \u001b[1m5s\u001b[0m 4ms/step - accuracy: 0.6226 - loss: 0.0483\n",
            "Epoch 31/100\n",
            "\u001b[1m600/600\u001b[0m \u001b[32m━━━━━━━━━━━━━━━━━━━━\u001b[0m\u001b[37m\u001b[0m \u001b[1m3s\u001b[0m 4ms/step - accuracy: 0.6350 - loss: 0.0472\n",
            "Epoch 32/100\n",
            "\u001b[1m600/600\u001b[0m \u001b[32m━━━━━━━━━━━━━━━━━━━━\u001b[0m\u001b[37m\u001b[0m \u001b[1m3s\u001b[0m 4ms/step - accuracy: 0.6393 - loss: 0.0468\n",
            "Epoch 33/100\n",
            "\u001b[1m600/600\u001b[0m \u001b[32m━━━━━━━━━━━━━━━━━━━━\u001b[0m\u001b[37m\u001b[0m \u001b[1m6s\u001b[0m 5ms/step - accuracy: 0.6549 - loss: 0.0459\n",
            "Epoch 34/100\n",
            "\u001b[1m600/600\u001b[0m \u001b[32m━━━━━━━━━━━━━━━━━━━━\u001b[0m\u001b[37m\u001b[0m \u001b[1m4s\u001b[0m 4ms/step - accuracy: 0.6654 - loss: 0.0450\n",
            "Epoch 35/100\n",
            "\u001b[1m600/600\u001b[0m \u001b[32m━━━━━━━━━━━━━━━━━━━━\u001b[0m\u001b[37m\u001b[0m \u001b[1m6s\u001b[0m 6ms/step - accuracy: 0.6755 - loss: 0.0443\n",
            "Epoch 36/100\n",
            "\u001b[1m600/600\u001b[0m \u001b[32m━━━━━━━━━━━━━━━━━━━━\u001b[0m\u001b[37m\u001b[0m \u001b[1m3s\u001b[0m 5ms/step - accuracy: 0.6873 - loss: 0.0434\n",
            "Epoch 37/100\n",
            "\u001b[1m600/600\u001b[0m \u001b[32m━━━━━━━━━━━━━━━━━━━━\u001b[0m\u001b[37m\u001b[0m \u001b[1m3s\u001b[0m 5ms/step - accuracy: 0.6960 - loss: 0.0425\n",
            "Epoch 38/100\n",
            "\u001b[1m600/600\u001b[0m \u001b[32m━━━━━━━━━━━━━━━━━━━━\u001b[0m\u001b[37m\u001b[0m \u001b[1m3s\u001b[0m 5ms/step - accuracy: 0.7025 - loss: 0.0415\n",
            "Epoch 39/100\n",
            "\u001b[1m600/600\u001b[0m \u001b[32m━━━━━━━━━━━━━━━━━━━━\u001b[0m\u001b[37m\u001b[0m \u001b[1m3s\u001b[0m 6ms/step - accuracy: 0.7088 - loss: 0.0405\n",
            "Epoch 40/100\n",
            "\u001b[1m600/600\u001b[0m \u001b[32m━━━━━━━━━━━━━━━━━━━━\u001b[0m\u001b[37m\u001b[0m \u001b[1m3s\u001b[0m 4ms/step - accuracy: 0.7123 - loss: 0.0401\n",
            "Epoch 41/100\n",
            "\u001b[1m600/600\u001b[0m \u001b[32m━━━━━━━━━━━━━━━━━━━━\u001b[0m\u001b[37m\u001b[0m \u001b[1m3s\u001b[0m 4ms/step - accuracy: 0.7206 - loss: 0.0389\n",
            "Epoch 42/100\n",
            "\u001b[1m600/600\u001b[0m \u001b[32m━━━━━━━━━━━━━━━━━━━━\u001b[0m\u001b[37m\u001b[0m \u001b[1m5s\u001b[0m 5ms/step - accuracy: 0.7253 - loss: 0.0380\n",
            "Epoch 43/100\n",
            "\u001b[1m600/600\u001b[0m \u001b[32m━━━━━━━━━━━━━━━━━━━━\u001b[0m\u001b[37m\u001b[0m \u001b[1m3s\u001b[0m 5ms/step - accuracy: 0.7283 - loss: 0.0375\n",
            "Epoch 44/100\n",
            "\u001b[1m600/600\u001b[0m \u001b[32m━━━━━━━━━━━━━━━━━━━━\u001b[0m\u001b[37m\u001b[0m \u001b[1m5s\u001b[0m 5ms/step - accuracy: 0.7302 - loss: 0.0371\n",
            "Epoch 45/100\n",
            "\u001b[1m600/600\u001b[0m \u001b[32m━━━━━━━━━━━━━━━━━━━━\u001b[0m\u001b[37m\u001b[0m \u001b[1m3s\u001b[0m 5ms/step - accuracy: 0.7424 - loss: 0.0355\n",
            "Epoch 46/100\n",
            "\u001b[1m600/600\u001b[0m \u001b[32m━━━━━━━━━━━━━━━━━━━━\u001b[0m\u001b[37m\u001b[0m \u001b[1m4s\u001b[0m 4ms/step - accuracy: 0.7424 - loss: 0.0352\n",
            "Epoch 47/100\n",
            "\u001b[1m600/600\u001b[0m \u001b[32m━━━━━━━━━━━━━━━━━━━━\u001b[0m\u001b[37m\u001b[0m \u001b[1m3s\u001b[0m 5ms/step - accuracy: 0.7472 - loss: 0.0345\n",
            "Epoch 48/100\n",
            "\u001b[1m600/600\u001b[0m \u001b[32m━━━━━━━━━━━━━━━━━━━━\u001b[0m\u001b[37m\u001b[0m \u001b[1m4s\u001b[0m 7ms/step - accuracy: 0.7478 - loss: 0.0343\n",
            "Epoch 49/100\n",
            "\u001b[1m600/600\u001b[0m \u001b[32m━━━━━━━━━━━━━━━━━━━━\u001b[0m\u001b[37m\u001b[0m \u001b[1m4s\u001b[0m 6ms/step - accuracy: 0.7553 - loss: 0.0333\n",
            "Epoch 50/100\n",
            "\u001b[1m600/600\u001b[0m \u001b[32m━━━━━━━━━━━━━━━━━━━━\u001b[0m\u001b[37m\u001b[0m \u001b[1m5s\u001b[0m 5ms/step - accuracy: 0.7610 - loss: 0.0328\n",
            "Epoch 51/100\n",
            "\u001b[1m600/600\u001b[0m \u001b[32m━━━━━━━━━━━━━━━━━━━━\u001b[0m\u001b[37m\u001b[0m \u001b[1m4s\u001b[0m 6ms/step - accuracy: 0.7612 - loss: 0.0327\n",
            "Epoch 52/100\n",
            "\u001b[1m600/600\u001b[0m \u001b[32m━━━━━━━━━━━━━━━━━━━━\u001b[0m\u001b[37m\u001b[0m \u001b[1m3s\u001b[0m 5ms/step - accuracy: 0.7688 - loss: 0.0317\n",
            "Epoch 53/100\n",
            "\u001b[1m600/600\u001b[0m \u001b[32m━━━━━━━━━━━━━━━━━━━━\u001b[0m\u001b[37m\u001b[0m \u001b[1m5s\u001b[0m 4ms/step - accuracy: 0.7731 - loss: 0.0311\n",
            "Epoch 54/100\n",
            "\u001b[1m600/600\u001b[0m \u001b[32m━━━━━━━━━━━━━━━━━━━━\u001b[0m\u001b[37m\u001b[0m \u001b[1m3s\u001b[0m 5ms/step - accuracy: 0.7751 - loss: 0.0310\n",
            "Epoch 55/100\n",
            "\u001b[1m600/600\u001b[0m \u001b[32m━━━━━━━━━━━━━━━━━━━━\u001b[0m\u001b[37m\u001b[0m \u001b[1m3s\u001b[0m 5ms/step - accuracy: 0.7754 - loss: 0.0307\n",
            "Epoch 56/100\n",
            "\u001b[1m600/600\u001b[0m \u001b[32m━━━━━━━━━━━━━━━━━━━━\u001b[0m\u001b[37m\u001b[0m \u001b[1m5s\u001b[0m 5ms/step - accuracy: 0.7806 - loss: 0.0303\n",
            "Epoch 57/100\n",
            "\u001b[1m600/600\u001b[0m \u001b[32m━━━━━━━━━━━━━━━━━━━━\u001b[0m\u001b[37m\u001b[0m \u001b[1m2s\u001b[0m 4ms/step - accuracy: 0.7873 - loss: 0.0296\n",
            "Epoch 58/100\n",
            "\u001b[1m600/600\u001b[0m \u001b[32m━━━━━━━━━━━━━━━━━━━━\u001b[0m\u001b[37m\u001b[0m \u001b[1m3s\u001b[0m 5ms/step - accuracy: 0.7832 - loss: 0.0298\n",
            "Epoch 59/100\n",
            "\u001b[1m600/600\u001b[0m \u001b[32m━━━━━━━━━━━━━━━━━━━━\u001b[0m\u001b[37m\u001b[0m \u001b[1m3s\u001b[0m 4ms/step - accuracy: 0.7901 - loss: 0.0292\n",
            "Epoch 60/100\n",
            "\u001b[1m600/600\u001b[0m \u001b[32m━━━━━━━━━━━━━━━━━━━━\u001b[0m\u001b[37m\u001b[0m \u001b[1m3s\u001b[0m 4ms/step - accuracy: 0.7916 - loss: 0.0288\n",
            "Epoch 61/100\n",
            "\u001b[1m600/600\u001b[0m \u001b[32m━━━━━━━━━━━━━━━━━━━━\u001b[0m\u001b[37m\u001b[0m \u001b[1m3s\u001b[0m 4ms/step - accuracy: 0.7957 - loss: 0.0284\n",
            "Epoch 62/100\n",
            "\u001b[1m600/600\u001b[0m \u001b[32m━━━━━━━━━━━━━━━━━━━━\u001b[0m\u001b[37m\u001b[0m \u001b[1m3s\u001b[0m 6ms/step - accuracy: 0.7947 - loss: 0.0282\n",
            "Epoch 63/100\n",
            "\u001b[1m600/600\u001b[0m \u001b[32m━━━━━━━━━━━━━━━━━━━━\u001b[0m\u001b[37m\u001b[0m \u001b[1m4s\u001b[0m 4ms/step - accuracy: 0.8003 - loss: 0.0279\n",
            "Epoch 64/100\n",
            "\u001b[1m600/600\u001b[0m \u001b[32m━━━━━━━━━━━━━━━━━━━━\u001b[0m\u001b[37m\u001b[0m \u001b[1m3s\u001b[0m 4ms/step - accuracy: 0.8034 - loss: 0.0278\n",
            "Epoch 65/100\n",
            "\u001b[1m600/600\u001b[0m \u001b[32m━━━━━━━━━━━━━━━━━━━━\u001b[0m\u001b[37m\u001b[0m \u001b[1m6s\u001b[0m 5ms/step - accuracy: 0.8035 - loss: 0.0276\n",
            "Epoch 66/100\n",
            "\u001b[1m600/600\u001b[0m \u001b[32m━━━━━━━━━━━━━━━━━━━━\u001b[0m\u001b[37m\u001b[0m \u001b[1m4s\u001b[0m 4ms/step - accuracy: 0.8107 - loss: 0.0273\n",
            "Epoch 67/100\n",
            "\u001b[1m600/600\u001b[0m \u001b[32m━━━━━━━━━━━━━━━━━━━━\u001b[0m\u001b[37m\u001b[0m \u001b[1m3s\u001b[0m 4ms/step - accuracy: 0.8109 - loss: 0.0271\n",
            "Epoch 68/100\n",
            "\u001b[1m600/600\u001b[0m \u001b[32m━━━━━━━━━━━━━━━━━━━━\u001b[0m\u001b[37m\u001b[0m \u001b[1m3s\u001b[0m 5ms/step - accuracy: 0.8161 - loss: 0.0266\n",
            "Epoch 69/100\n",
            "\u001b[1m600/600\u001b[0m \u001b[32m━━━━━━━━━━━━━━━━━━━━\u001b[0m\u001b[37m\u001b[0m \u001b[1m4s\u001b[0m 4ms/step - accuracy: 0.8196 - loss: 0.0265\n",
            "Epoch 70/100\n",
            "\u001b[1m600/600\u001b[0m \u001b[32m━━━━━━━━━━━━━━━━━━━━\u001b[0m\u001b[37m\u001b[0m \u001b[1m3s\u001b[0m 5ms/step - accuracy: 0.8205 - loss: 0.0266\n",
            "Epoch 71/100\n",
            "\u001b[1m600/600\u001b[0m \u001b[32m━━━━━━━━━━━━━━━━━━━━\u001b[0m\u001b[37m\u001b[0m \u001b[1m5s\u001b[0m 6ms/step - accuracy: 0.8262 - loss: 0.0260\n",
            "Epoch 72/100\n",
            "\u001b[1m600/600\u001b[0m \u001b[32m━━━━━━━━━━━━━━━━━━━━\u001b[0m\u001b[37m\u001b[0m \u001b[1m3s\u001b[0m 4ms/step - accuracy: 0.8236 - loss: 0.0260\n",
            "Epoch 73/100\n",
            "\u001b[1m600/600\u001b[0m \u001b[32m━━━━━━━━━━━━━━━━━━━━\u001b[0m\u001b[37m\u001b[0m \u001b[1m6s\u001b[0m 5ms/step - accuracy: 0.8285 - loss: 0.0259\n",
            "Epoch 74/100\n",
            "\u001b[1m600/600\u001b[0m \u001b[32m━━━━━━━━━━━━━━━━━━━━\u001b[0m\u001b[37m\u001b[0m \u001b[1m4s\u001b[0m 6ms/step - accuracy: 0.8300 - loss: 0.0255\n",
            "Epoch 75/100\n",
            "\u001b[1m600/600\u001b[0m \u001b[32m━━━━━━━━━━━━━━━━━━━━\u001b[0m\u001b[37m\u001b[0m \u001b[1m5s\u001b[0m 5ms/step - accuracy: 0.8325 - loss: 0.0254\n",
            "Epoch 76/100\n",
            "\u001b[1m600/600\u001b[0m \u001b[32m━━━━━━━━━━━━━━━━━━━━\u001b[0m\u001b[37m\u001b[0m \u001b[1m6s\u001b[0m 7ms/step - accuracy: 0.8367 - loss: 0.0249\n",
            "Epoch 77/100\n",
            "\u001b[1m600/600\u001b[0m \u001b[32m━━━━━━━━━━━━━━━━━━━━\u001b[0m\u001b[37m\u001b[0m \u001b[1m3s\u001b[0m 4ms/step - accuracy: 0.8362 - loss: 0.0250\n",
            "Epoch 78/100\n",
            "\u001b[1m600/600\u001b[0m \u001b[32m━━━━━━━━━━━━━━━━━━━━\u001b[0m\u001b[37m\u001b[0m \u001b[1m3s\u001b[0m 4ms/step - accuracy: 0.8368 - loss: 0.0250\n",
            "Epoch 79/100\n",
            "\u001b[1m600/600\u001b[0m \u001b[32m━━━━━━━━━━━━━━━━━━━━\u001b[0m\u001b[37m\u001b[0m \u001b[1m3s\u001b[0m 4ms/step - accuracy: 0.8404 - loss: 0.0248\n",
            "Epoch 80/100\n",
            "\u001b[1m600/600\u001b[0m \u001b[32m━━━━━━━━━━━━━━━━━━━━\u001b[0m\u001b[37m\u001b[0m \u001b[1m3s\u001b[0m 5ms/step - accuracy: 0.8415 - loss: 0.0243\n",
            "Epoch 81/100\n",
            "\u001b[1m600/600\u001b[0m \u001b[32m━━━━━━━━━━━━━━━━━━━━\u001b[0m\u001b[37m\u001b[0m \u001b[1m5s\u001b[0m 4ms/step - accuracy: 0.8473 - loss: 0.0238\n",
            "Epoch 82/100\n",
            "\u001b[1m600/600\u001b[0m \u001b[32m━━━━━━━━━━━━━━━━━━━━\u001b[0m\u001b[37m\u001b[0m \u001b[1m5s\u001b[0m 4ms/step - accuracy: 0.8465 - loss: 0.0238\n",
            "Epoch 83/100\n",
            "\u001b[1m600/600\u001b[0m \u001b[32m━━━━━━━━━━━━━━━━━━━━\u001b[0m\u001b[37m\u001b[0m \u001b[1m3s\u001b[0m 5ms/step - accuracy: 0.8510 - loss: 0.0234\n",
            "Epoch 84/100\n",
            "\u001b[1m600/600\u001b[0m \u001b[32m━━━━━━━━━━━━━━━━━━━━\u001b[0m\u001b[37m\u001b[0m \u001b[1m4s\u001b[0m 4ms/step - accuracy: 0.8533 - loss: 0.0235\n",
            "Epoch 85/100\n",
            "\u001b[1m600/600\u001b[0m \u001b[32m━━━━━━━━━━━━━━━━━━━━\u001b[0m\u001b[37m\u001b[0m \u001b[1m3s\u001b[0m 4ms/step - accuracy: 0.8581 - loss: 0.0228\n",
            "Epoch 86/100\n",
            "\u001b[1m600/600\u001b[0m \u001b[32m━━━━━━━━━━━━━━━━━━━━\u001b[0m\u001b[37m\u001b[0m \u001b[1m2s\u001b[0m 4ms/step - accuracy: 0.8607 - loss: 0.0224\n",
            "Epoch 87/100\n",
            "\u001b[1m600/600\u001b[0m \u001b[32m━━━━━━━━━━━━━━━━━━━━\u001b[0m\u001b[37m\u001b[0m \u001b[1m3s\u001b[0m 5ms/step - accuracy: 0.8641 - loss: 0.0220\n",
            "Epoch 88/100\n",
            "\u001b[1m600/600\u001b[0m \u001b[32m━━━━━━━━━━━━━━━━━━━━\u001b[0m\u001b[37m\u001b[0m \u001b[1m4s\u001b[0m 4ms/step - accuracy: 0.8653 - loss: 0.0217\n",
            "Epoch 89/100\n",
            "\u001b[1m600/600\u001b[0m \u001b[32m━━━━━━━━━━━━━━━━━━━━\u001b[0m\u001b[37m\u001b[0m \u001b[1m2s\u001b[0m 4ms/step - accuracy: 0.8678 - loss: 0.0214\n",
            "Epoch 90/100\n",
            "\u001b[1m600/600\u001b[0m \u001b[32m━━━━━━━━━━━━━━━━━━━━\u001b[0m\u001b[37m\u001b[0m \u001b[1m3s\u001b[0m 4ms/step - accuracy: 0.8705 - loss: 0.0209\n",
            "Epoch 91/100\n",
            "\u001b[1m600/600\u001b[0m \u001b[32m━━━━━━━━━━━━━━━━━━━━\u001b[0m\u001b[37m\u001b[0m \u001b[1m3s\u001b[0m 5ms/step - accuracy: 0.8686 - loss: 0.0211\n",
            "Epoch 92/100\n",
            "\u001b[1m600/600\u001b[0m \u001b[32m━━━━━━━━━━━━━━━━━━━━\u001b[0m\u001b[37m\u001b[0m \u001b[1m2s\u001b[0m 4ms/step - accuracy: 0.8734 - loss: 0.0203\n",
            "Epoch 93/100\n",
            "\u001b[1m600/600\u001b[0m \u001b[32m━━━━━━━━━━━━━━━━━━━━\u001b[0m\u001b[37m\u001b[0m \u001b[1m2s\u001b[0m 4ms/step - accuracy: 0.8760 - loss: 0.0199\n",
            "Epoch 94/100\n",
            "\u001b[1m600/600\u001b[0m \u001b[32m━━━━━━━━━━━━━━━━━━━━\u001b[0m\u001b[37m\u001b[0m \u001b[1m2s\u001b[0m 4ms/step - accuracy: 0.8783 - loss: 0.0194\n",
            "Epoch 95/100\n",
            "\u001b[1m600/600\u001b[0m \u001b[32m━━━━━━━━━━━━━━━━━━━━\u001b[0m\u001b[37m\u001b[0m \u001b[1m4s\u001b[0m 6ms/step - accuracy: 0.8786 - loss: 0.0193\n",
            "Epoch 96/100\n",
            "\u001b[1m600/600\u001b[0m \u001b[32m━━━━━━━━━━━━━━━━━━━━\u001b[0m\u001b[37m\u001b[0m \u001b[1m4s\u001b[0m 4ms/step - accuracy: 0.8803 - loss: 0.0192\n",
            "Epoch 97/100\n",
            "\u001b[1m600/600\u001b[0m \u001b[32m━━━━━━━━━━━━━━━━━━━━\u001b[0m\u001b[37m\u001b[0m \u001b[1m2s\u001b[0m 4ms/step - accuracy: 0.8801 - loss: 0.0192\n",
            "Epoch 98/100\n",
            "\u001b[1m600/600\u001b[0m \u001b[32m━━━━━━━━━━━━━━━━━━━━\u001b[0m\u001b[37m\u001b[0m \u001b[1m3s\u001b[0m 4ms/step - accuracy: 0.8851 - loss: 0.0184\n",
            "Epoch 99/100\n",
            "\u001b[1m600/600\u001b[0m \u001b[32m━━━━━━━━━━━━━━━━━━━━\u001b[0m\u001b[37m\u001b[0m \u001b[1m4s\u001b[0m 6ms/step - accuracy: 0.8841 - loss: 0.0184\n",
            "Epoch 100/100\n",
            "\u001b[1m600/600\u001b[0m \u001b[32m━━━━━━━━━━━━━━━━━━━━\u001b[0m\u001b[37m\u001b[0m \u001b[1m4s\u001b[0m 4ms/step - accuracy: 0.8857 - loss: 0.0185\n",
            "\u001b[1m313/313\u001b[0m \u001b[32m━━━━━━━━━━━━━━━━━━━━\u001b[0m\u001b[37m\u001b[0m \u001b[1m1s\u001b[0m 2ms/step - accuracy: 0.9318 - loss: 0.0120\n",
            "測試資料正確率 94.21%\n",
            "\u001b[1m313/313\u001b[0m \u001b[32m━━━━━━━━━━━━━━━━━━━━\u001b[0m\u001b[37m\u001b[0m \u001b[1m1s\u001b[0m 2ms/step - accuracy: 0.9318 - loss: 0.0120\n",
            "loss: 0.010455216281116009\n",
            "正確率 0.9420999884605408\n"
          ]
        }
      ]
    },
    {
      "cell_type": "markdown",
      "source": [
        "# 心得和總結"
      ],
      "metadata": {
        "id": "dSLFHKOwkPBq"
      }
    },
    {
      "cell_type": "markdown",
      "source": [
        "1. **初始模型（三層神經網路）**\n",
        "   - **架構**：N1=20, N2=20, N3=20\n",
        "   - **結果**：\n",
        "     - Loss: 0.0117\n",
        "     - 正確率: 92.7%\n",
        "   - 我先測試老師示範的三層神經網路（20-20-20），它的表現不錯，正確率達到 92.7%，比老師在課堂上的結果好一些，我想知道，如果增加模型的複雜度，是否能夠讓它更上一層樓？於是將模型擴展為四層（128-64-32-16）\n",
        "\n",
        "2. **增加模型複雜度（四層神經網路）**\n",
        "   - **架構**：N1=128, N2=64, N3=32, N4=16\n",
        "   - **結果**：\n",
        "     - Loss: 0.0153\n",
        "     - 正確率: 89.7%\n",
        "   -　結果出乎意料——正確率不升反降掉到了 89.7%。這讓我意識到，模型的複雜度並非越高越好，過多的層數和神經元可能會讓模型迷失在資料的海洋中，無法找到正確的方向。當然用專業一點的說法就是 over-fitting。\n",
        "\n",
        "3. **加入 Dropout 防止過度擬合**\n",
        "   - **架構**：四層神經網路 + Dropout（比率 0.5）\n",
        "   - **結果**：\n",
        "     - Loss: 0.0634\n",
        "     - 正確率: 50.4%\n",
        "   -　為了防止過度擬合，我加入 Dropout 層，並將比率設為 0.5。然而這一次的嘗試的正確率暴跌至 50.4%，我體會到，Dropout 雖然是一個強大的工具，但如果使用不當，反而會讓模型失去學習的能力。\n",
        "\n",
        "4. **調整訓練參數**\n",
        "   - **改進措施**：\n",
        "     - 增加訓練 Epochs 至 100\n",
        "   - **結果**：\n",
        "     - Loss: 0.0105\n",
        "     - 正確率: 94.2%\n",
        "   -　最後我增加了訓練的 Epochs 至 100。這一次，模型終於展現出了它的潛力，正確率提升到了 94.2%，Loss 值也顯著降低。這讓我明白，調參不僅需要勇氣，更需要細心與耐心。"
      ],
      "metadata": {
        "id": "T4GmYbZ0rlvG"
      }
    },
    {
      "cell_type": "markdown",
      "source": [
        "![下載 (2).png](data:image/png;base64,iVBORw0KGgoAAAANSUhEUgAAA5EAAAIhCAYAAADXbz5+AAAAOXRFWHRTb2Z0d2FyZQBNYXRwbG90bGliIHZlcnNpb24zLjkuMiwgaHR0cHM6Ly9tYXRwbG90bGliLm9yZy8hTgPZAAAACXBIWXMAAA9hAAAPYQGoP6dpAACk2UlEQVR4nOzdeXhM5//G8XuyyEZCLInYqa32vUUl9iX2hqJ2Skupqp1qqKVU0VKlra0tpbRU1a4EpfZdq9Xaat+pJbKc3x/nl/mKREwiMZN4v64rF+fMmTOfOcmZmXue5zyPxTAMQwAAAAAA2MDJ3gUAAAAAAFIPQiQAAAAAwGaESAAAAACAzQiRAAAAAACbESIBAAAAADYjRAIAAAAAbEaIBAAAAADYjBAJAAAAALAZIRIAAAAAYDNCJBLlk08+kcViUfHixe1dSpp14sQJBQcHy9fXVxaLRX369Hnktnnz5pXFYpHFYpGTk5N8fHxUtGhRtW/fXmvWrIn3PhaLRaGhobHWrV+/XuXLl5eXl5csFouWLl0qSVq4cKGKFSsmDw8PWSwW7du3L3meZDK7c+eOQkNDtXHjRpu2P3HihPW4LViwIM7toaGhslgsunz5cjJXmvyCgoIUFBRk03YWi0X16tWLc1vM8ZgwYUKiHz+xx/5pyZs3rxo2bPjE+ylbtmySj40tbK1z48aNslgssY7zihUr4pzLKeFpPU5aEN/r64NizsPH/Tzp8Y7v7yUxkqOGpHr4WPj4+CgoKEg///yzXep5mqZNm6Y5c+bYuwzAJoRIJMqsWbMkSYcPH9b27dvtXE3a9Pbbb2v79u2aNWuWtm3bprfffjvB7atUqaJt27Zp69at+v777/Xmm2/q+PHjqlu3rkJCQhQRERFr+23btqlr167WZcMw1LJlS7m6umrZsmXatm2bAgMDdenSJbVr104FChTQqlWrtG3bNhUqVChFnvOTunPnjkaMGJGkD0xDhw6Nc4zSstWrV+uXX35Jtv09ybF3dPv27dPevXslSTNnzrRrLWXLltW2bdtUtmxZ67oVK1ZoxIgRKf7YT+txngXTpk3Ttm3brD/Dhg2TJM2ePTvW+gdfo5Mivr+XxEiOGp5ESEiItm3bpl9//VWffvqpzp8/r0aNGqX5IEmIRGriYu8CkHrs2rVL+/fvV3BwsH7++WfNnDlTlSpVsndZ8bpz5448PT3tXUaSHDp0SBUrVlTTpk1t2j5jxox64YUXrMu1atVSz549FRoaqhEjRmjYsGEaN26c9fYHt5Wks2fP6urVq2rWrJlq1qxpXf/rr78qIiJCbdu2VWBg4JM9qf939+5dubu7y2KxJMv+nlT9+vW1cuVKTZ8+Xb169bJ3OTIMQ/fu3ZOHh0eK7L9QoUKKjIzUgAEDtHPnTof5PSSn5Dz3v/zyS0myvuZt3bpVlStXfqo1xPD29o5z7qZ2qfl1Oqmef/75WMt//PGHJKl48eIqX778I++X2GP1pH8v9v5b8/Pzs9ZQuXJlvfjii3ruuec0efJkBQcHP9G+n7W/u5R+X8Gzi5ZI2Czmm/gPPvhAlStX1oIFC3Tnzp042505c0bdunVTrly5lC5dOgUEBCgkJEQXLlywbnP9+nW98847yp8/v9zc3JQtWzY1aNDA+ob6qK44Md3uHvymrmPHjkqfPr0OHjyoOnXqKEOGDNYwtHbtWjVp0kQ5c+aUu7u7nnvuOXXv3j3ebop//PGHWrduLT8/P7m5uSl37txq3769wsPDdeLECbm4uGjs2LFx7rdp0yZZLBYtWrQoweN36tQptW3bVtmyZZObm5uKFi2qjz76SNHR0bGe87Fjx7Ry5UprV54TJ04kuN9HCQ0NVbFixTR16lTdu3fPuv7BbkqhoaHKmTOnJGngwIGyWCzKmzevOnbsqKpVq0qSXnnlFVksllhdJnft2qXGjRvL19dX7u7uKlOmjL777rtYjz9nzhxZLBatWbNGnTt3VtasWeXp6anw8HBJZlfZF198UV5eXkqfPr3q1q1rbfWJEfO7PXbsmBo0aKD06dMrV65ceuedd6z7OXHihLJmzSpJGjFihPW4dezY8bHHqEaNGqpbt67ef/993bp167Hbr1u3TjVr1pS3t7c8PT1VpUoVrV+/Pk7NefPmjXPfmC6yD7JYLHrzzTc1ffp0FS1aVG5ubpo7d671uVSqVEm+vr7y9vZW2bJlNXPmTBmG8dg6H8XV1VWjR4/W7t27tXDhwsduf/78eXXv3l05c+ZUunTplC9fPo0YMUKRkZGSEj72hw8fjnNe7N69WxaLRcWKFYv1OI0bN1a5cuWsy9HR0Ro/fryKFClifX1o3769/v3331j3CwoKUvHixbVp0yZVrlxZnp6e6ty58yOfz7Rp0+Ti4qL33nvvsc/93r17mj9/vsqVK6dJkyZJ+l9PjAfF/F737NmjkJAQZcqUSQUKFLA+jylTpqh06dLy8PCwfuGzbNmyOPtZtWqVypYtKw8PDxUpUiTOYz38mtixY0d9+umnkmJ3/4t5vTAMQ9OmTbM+dqZMmRQSEqJ//vkn3seuWbOmfHx85OnpqaJFi1pf6xJ6nPhej2M83B0yoeNka6179+5Vw4YNra+hAQEBCg4OjvN38TBb3wdiajx8+LBat24tHx8f+fn5qXPnzrpx40asbW/evKnXXntNmTNnVvr06VWvXj39+eefCdZhq4SO1a5du9SqVSvlzZtXHh4eyps3r1q3bq2TJ0/G2kd876G2vJ7GePj3F/N6vmHDBr3xxhvKkiWLMmfOrObNm+vs2bOx7hseHq533nlH/v7+8vT0VLVq1bR7927re0tSFChQQFmzZrU+z8T+Tp/kWMY8919++cX6O/f29lb79u11+/ZtnT9/Xi1btlTGjBmVPXt29evXL07vlvv372vUqFHW17SsWbOqU6dOunTpknWbvHnz6vDhwwoLC7OeZw++l9y8eVP9+vVTvnz5lC5dOuXIkUN9+vTR7du3Yz1WQu8rn332mUqVKqX06dMrQ4YMKlKkiIYMGZKk3wlASyRscvfuXX377beqUKGCihcvrs6dO6tr165atGiROnToYN3uzJkzqlChgiIiIjRkyBCVLFlSV65c0erVq3Xt2jX5+fnp1q1bqlq1qk6cOKGBAweqUqVK+u+//7Rp0yadO3dORYoUSXR99+/fV+PGjdW9e3cNGjTI+iH377//1osvvqiuXbvKx8dHJ06c0MSJE1W1alUdPHhQrq6ukqT9+/eratWqypIli0aOHKmCBQvq3LlzWrZsme7fv6+8efOqcePGmj59ugYMGCBnZ2frY0+dOlUBAQFq1qzZI+u7dOmSKleurPv37+v9999X3rx5tXz5cvXr109///23pk2bZu1+1KxZMxUoUMB6DVb27NkTfTxiNGrUSB988IF27dplDYUP6tq1q0qVKqXmzZurV69eatOmjdzc3OTt7a2KFSuqZ8+eGjNmjKpXry5vb29J0oYNG1SvXj1VqlRJ06dPl4+PjxYsWKBXXnlFd+7cifMhoXPnzgoODtbXX3+t27dvy9XVVWPGjNGwYcPUqVMnDRs2TPfv39eHH36ol156STt27Ij1bX1ERIQaN26sLl266J133tGmTZv0/vvvy8fHR8OHD1f27Nm1atUq1atXT126dLF2wYoJN48zbtw4lSlTRh9++KFGjhz5yO2++eYbtW/fXk2aNNHcuXPl6uqqGTNmqG7dulq9enWsVtzEWLp0qTZv3qzhw4fL399f2bJlk2QGtO7duyt37tySpN9++029evXSmTNnNHz48CQ9lmR+KTBhwgQNGzZML7/8svUceNj58+dVsWJFOTk5afjw4SpQoIC2bdumUaNG6cSJE5o9e3aCx75AgQLKnj271q1bpxYtWkgyQ7iHh4eOHDmis2fPKiAgQJGRkQoLC9Prr79ufew33nhDn3/+ud588001bNhQJ06c0LvvvquNGzdqz549ypIli3Xbc+fOqW3bthowYIDGjBkjJ6e4340ahqH+/fvrk08+0ZdffmnTB9kffvhB165dU+fOnVWwYEFVrVpVCxcu1OTJk5U+ffo42zdv3lytWrXS66+/bv1Q17FjR33zzTfq0qWLRo4cqXTp0mnPnj1xvhjav3+/3nnnHQ0aNEh+fn768ssv1aVLFz333HOqVq1avPW9++67un37thYvXqxt27ZZ18e8XnTv3l1z5sxR7969NW7cOF29elUjR45U5cqVtX//fvn5+Ukyvxx87bXXFBgYqOnTpytbtmz6888/dejQocc+zrlz5x57HG05TrbUevv2bdWuXVv58uXTp59+Kj8/P50/f14bNmx47BdAtr4PxHj55Zf1yiuvqEuXLjp48KAGDx4s6X9fIhiGoaZNm2rr1q0aPny4KlSooF9//VX169dP9PFI7LE6ceKEChcurFatWsnX11fnzp3TZ599pgoVKujIkSOxzo34PO719HG6du2q4OBgzZ8/X6dPn1b//v3Vtm3bWF3kO3XqpIULF2rAgAGqUaOGjhw5ombNmunmzZtJPhbXrl3TlStXVLBgQUmJ/50mx7Hs2rWrmjdvrgULFmjv3r0aMmSIIiMjdfToUTVv3lzdunXTunXrNG7cOAUEBKhv376SzC+TmjRpos2bN2vAgAGqXLmyTp48qffee09BQUHatWuXPDw8tGTJEoWEhMjHx0fTpk2TJLm5uUkyW08DAwP177//Wj9bHT58WMOHD9fBgwe1bt26WF9Sxve+smDBAvXo0UO9evXShAkT5OTkpGPHjunIkSNJ/r3gGWcANvjqq68MScb06dMNwzCMW7duGenTpzdeeumlWNt17tzZcHV1NY4cOfLIfY0cOdKQZKxdu/aR22zYsMGQZGzYsCHW+uPHjxuSjNmzZ1vXdejQwZBkzJo1K8HnEB0dbURERBgnT540JBk//vij9bYaNWoYGTNmNC5evPjYmpYsWWJdd+bMGcPFxcUYMWJEgo89aNAgQ5Kxffv2WOvfeOMNw2KxGEePHrWuy5MnjxEcHJzg/mzd9rPPPjMkGQsXLrSuk2S899571uWYY/rhhx/Gum/M8120aFGs9UWKFDHKlCljRERExFrfsGFDI3v27EZUVJRhGIYxe/ZsQ5LRvn37WNudOnXKcHFxMXr16hVr/a1btwx/f3+jZcuW1nUxv9vvvvsu1rYNGjQwChcubF2+dOlSnOeVkIef86uvvmp4eXkZ586dMwzDMN577z1DknHp0iXDMAzj9u3bhq+vr9GoUaNY+4mKijJKlSplVKxYMVbNefLkifOYMft8kCTDx8fHuHr1aoL1RkVFGREREcbIkSONzJkzG9HR0dbbAgMDjcDAwMc+58DAQKNYsWKGYRjGunXrDEnGlClT4j0ehmEY3bt3N9KnT2+cPHky1n4mTJhgSDIOHz5sGEbCx75t27ZG/vz5rcu1atUyXnvtNSNTpkzG3LlzDcMwjF9//dWQZKxZs8YwDMP4/fffDUlGjx49Yu1r+/bthiRjyJAhsZ6TJGP9+vVxHjvm3Lhz547x8ssvGz4+Psa6desee5xi1KhRw3B3dzeuXbtmGMb//p5nzpwZa7uY3+vw4cNjrd+0aZMhyRg6dGiCj5MnTx7D3d091nG+e/eu4evra3Tv3t26Lr7XxJ49e8b5mzIMw9i2bZshyfjoo49irT99+rTh4eFhDBgwwDAM85zz9vY2qlatGutv6mGPepz4Xo9jPPw38ajjZGutu3btMiQZS5cufWSdtkjofSCmxvHjx8e6T48ePQx3d3frMVq5cqUhyfj4449jbTd69OhEvQ4Zxv/+rnbu3BmnjoePVXwiIyON//77z/Dy8opVT3x/L7a+nhpG3N9fTJ0Pn5fjx483JFlfOw8fPmxIMgYOHBhru2+//daQZHTo0OGxzynmcSIiIoz79+8bv//+u1G/fn1DkvHpp5/G2d6W3+mTHMuY5/7we1bTpk0NScbEiRNjrS9durRRtmzZOM/9+++/j7Xdzp07DUnGtGnTrOuKFSsW7+v52LFjDScnp1h/J4ZhGIsXLzYkGStWrLCue9T7yptvvmlkzJjxMUcBsB3dWWGTmTNnysPDQ61atZIkpU+fXi1atNDmzZv1119/WbdbuXKlqlevrqJFiz5yXytXrlShQoVUq1atZK3x5ZdfjrPu4sWLev3115UrVy65uLjI1dVVefLkkST9/vvvksxv+MLCwtSyZcsEW6+CgoJUqlQpa9cuSZo+fbosFou6deuWYG2//PKLnn/+eVWsWDHW+o4dO8owjGQd6ORBxhN0fYzPsWPH9Mcff+jVV1+VJEVGRlp/GjRooHPnzuno0aOx7vPw72X16tWKjIxU+/btY93f3d1dgYGBcbowWywWNWrUKNa6kiVLxuly9CRGjRqliIiIRw4esnXrVl29elUdOnSIVXN0dLTq1aunnTt3xulSZKsaNWooU6ZMcdb/8ssvqlWrlnx8fOTs7CxXV1cNHz5cV65c0cWLF5P0WDFq1qypOnXqaOTIkY9sxVm+fLmqV69ubS2M+YlpbQkLC7Ppcf755x8dP35c9+7d05YtW1SvXj1Vr15da9eulWS2Trq5uVlbyjds2CBJcVoLK1asqKJFi8bpPpwpUybVqFEj3se/cuWKatSooR07dmjLli02txYfP35cGzZsUPPmzZUxY0ZJUosWLZQhQ4Z4u7RKcf/OV65cKUnq2bPnYx+vdOnS1hZnSXJ3d1ehQoWS/De+fPlyWSwWtW3bNtbvzt/fX6VKlbKeY1u3btXNmzfVo0ePp3Z97MPHydZan3vuOWXKlEkDBw7U9OnTE9V6Ysv7wIMaN24ca7lkyZK6d++e9byL+RuNeR2M0aZNG5trskV872n//fefBg4cqOeee04uLi5ycXFR+vTpdfv27Xify8Oe9PU0vmMjyXr/mNeFli1bxtouJCRELi62d36bNm2aXF1dlS5dOhUtWlRbt27VyJEj1aNHD0mJ/50mx7F8eBTlmM85D1+jWbRo0VjHc/ny5cqYMaMaNWoU62+8dOnS8vf3t2lQsuXLl6t48eIqXbp0rH3UrVs33kt/4ntfqVixoq5fv67WrVvrxx9/TBWjj8Ox0Z0Vj3Xs2DFt2rRJL7/8sgzD0PXr1yWZbwqzZ8/WrFmzrNfPXLp0yXqN3aNcunQp1gem5ODp6WntbhkjOjpaderU0dmzZ/Xuu++qRIkS8vLyUnR0tF544QXdvXtXktlNJioq6rF1S1Lv3r3VtWtXHT16VPnz59cXX3yhkJAQ+fv7J3i/K1euxHudXEBAgPX2lBDzRhbzOE8q5rrWfv36qV+/fvFu8/Ab08PdcWP2UaFChXjv/3B3RE9PT7m7u8da5+bmFus6zyeVN29e9ejRQ1OnTrV2QXpQTM0hISGP3MfVq1fl5eWV6MeOr7vyjh07VKdOHQUFBemLL76wXpO4dOlSjR492vq3+yTGjRunsmXLasKECerUqVOc2y9cuKCffvrpkd1dbfkAEvNF0bp165QvXz5FRESoRo0aunDhgt5//33rbVWqVLEO+hBzLsR3XAICAuJ82E2ou/eff/6pa9eu6bXXXkvUtESzZs2SYRgKCQmxvt5J5gfoefPm6Y8//ojT7f7hOi5duiRnZ+fHvjZIUubMmeOsc3NzS/Lv+cKFCzIMw9pl9WH58+e31ijJpte+5BLf64Ettfr4+CgsLEyjR4/WkCFDdO3aNWXPnl2vvfaahg0b9si/U1vfBx708O8jpkthzLZXrlyRi4tLnO1s+V0nRnx/223atNH69ev17rvvqkKFCvL29pbFYlGDBg1s+nt50tdTW46NpDi/z/iOV0Jatmyp/v37y2KxKEOGDCpQoID1MpKk/E6T41j6+vrGWk6XLt0j1z94PC9cuKDr169bt3+YLa+lFy5c0LFjx2x+PY7v+bZr106RkZH64osv9PLLLys6OloVKlTQqFGjVLt27cfWADyMEInHivlAtXjxYi1evDjO7XPnztWoUaPk7OysrFmzPnaQA1u2iXmTe/hi/0e92Mb3LfqhQ4e0f/9+zZkzJ9Z1m8eOHYu1na+vr5ydnR9bk2S+6QwcOFCffvqpXnjhBZ0/f96mlobMmTPHe/1QzIAEj7uOJSkMw9BPP/0kLy+vBEf9S4yYOgcPHqzmzZvHu03hwoVjLT/8u4nZx+LFi63fHDuCYcOGadasWRoyZEicgV9iap4yZcojRy2M+dDk7u4e5+9WStzf7oIFC+Tq6qrly5fH+sAXM39ncihdurRat26tiRMnqkGDBnFuz5Ili0qWLKnRo0fHe39bvpjImTOnChUqpHXr1ilv3rwqX768MmbMqJo1a6pHjx7avn27fvvtt1gtwDEfNM+dOxcn3Jw9ezbOuZJQC9qLL76oFi1aqEuXLpLMQSXiu2byQdHR0daBYh71Nz5r1iyNHz8+wTqyZs2qqKgonT9//omua06KLFmyyGKxaPPmzdYP+Q+KWRfT88KW1774POp1OqEvxeJ7PbClVkkqUaKEFixYIMMwdODAAc2ZM0cjR46Uh4eHBg0aFO/j2fo+kBiZM2dWZGSkrly5EisYnT9/Psn7jM/Dx+rGjRtavny53nvvvVjPNzw8XFevXk3Wx06qmONx4cIF5ciRw7o+5njZKmvWrI9830rK79SexzJmEKJVq1bFe3uGDBls2oeHh8cje0LY+rrYqVMnderUSbdv39amTZv03nvvqWHDhvrzzz8d6v0YqQMhEgmKiorS3LlzVaBAAetw9w9avny5PvroI61cuVINGzZU/fr19fXXX+vo0aNxwkSM+vXra/jw4frll18e2Q0tptXuwIEDqlu3rnV9fKMaPkrMi+jDH0xmzJgRa9nDw0OBgYFatGiRRo8enWCgc3d3V7du3TR16lRt3bpVpUuXVpUqVR5bS82aNTV27Fjt2bMn1rxdX331lSwWi6pXr27z87LViBEjdOTIEQ0ZMiTON89JVbhwYRUsWFD79+/XmDFjkrSPunXrysXFRX///Xe8XYyS4uFvw5Mic+bMGjhwoIYOHRqna2qVKlWUMWNGHTlyRG+++WaC+8mbN68uXryoCxcuWIPl/fv3tXr1aptrsVgscnFxiTWA0927d/X1118n4hk93qhRo7R48eJ4u/E2bNhQK1asUIECBeLtbhvjcce+Vq1a+u6775QrVy5rt69ChQopd+7cGj58uCIiImJ1bY95Tfjmm29itVbv3LlTv//+u4YOHZqo59ihQwd5eXmpTZs2un37tubOnRvruD5s9erV+vfff9WzZ894W57ffPNNffXVVxozZkyC3fPq16+vsWPH6rPPPktwwKYn8eCxf3D4/oYNG+qDDz7QmTNn4nQrfFDlypXl4+Oj6dOnq1WrVo/84Pmox/Hz85O7u7sOHDgQa/sff/zR5udga60PslgsKlWqlCZNmqQ5c+Zoz549CW774HOI8fD7QGJUr15d48eP17x589S7d2/r+vnz5yd5n7awWCwyDCPOc/nyyy8VFRWVoo9tq5iBoBYuXBjrvW7x4sXWAe+eVHL8Tp/msWzYsKEWLFigqKiox06L9qgeCA0bNtSYMWOUOXNm5cuX74lr8vLyUv369XX//n01bdpUhw8fJkQi0QiRSNDKlSt19uxZjRs3LtYUDzGKFy+uqVOnaubMmWrYsKFGjhyplStXqlq1ahoyZIhKlCih69eva9WqVerbt6+KFCmiPn36aOHChWrSpIkGDRqkihUr6u7duwoLC1PDhg1VvXp1+fv7q1atWho7dqwyZcqkPHnyaP369frhhx9srr1IkSIqUKCABg0aJMMw5Ovrq59++sl6LdaDYkZ1q1SpkgYNGqTnnntOFy5c0LJlyzRjxoxY3xT26NFD48eP1+7du+MN1vF5++239dVXXyk4OFgjR45Unjx59PPPP2vatGl64403VKhQIZuf18OuX7+u3377TZJ0+/ZtHT16VAsWLNDmzZvVsmXLZJ8kfMaMGapfv77q1q2rjh07KkeOHLp69ap+//137dmz57FTneTNm1cjR47U0KFD9c8//6hevXrKlCmTLly4oB07dsjLyyvRNWfIkEF58uTRjz/+qJo1a8rX11dZsmSJtwtxQvr06aNPP/3Uej1bjPTp02vKlCnq0KGDrl69qpCQEGXLlk2XLl3S/v37denSJX322WeSzNFPhw8frlatWql///66d++ePvnkk0R9MAkODtbEiRPVpk0bdevWTVeuXNGECRPibal5Evny5dMbb7yhjz/+OM5tI0eO1Nq1a1W5cmX17t1bhQsX1r1793TixAmtWLFC06dPV86cOR977GvWrKlp06bp8uXLmjx5snX/NWvW1OzZs5UpU6ZY03sULlxY3bp105QpU+Tk5KT69etbR2fNlSuX3n777UQ/z5CQEHl6eiokJMQ60vSjupbNnDlTLi4uGjJkSLytrd27d1fv3r31888/q0mTJo98zJdeeknt2rXTqFGjdOHCBTVs2FBubm7au3evPD09k2Ve0hIlSkgyuybXr19fzs7OKlmypKpUqaJu3bqpU6dO2rVrl6pVqyYvLy+dO3dOW7ZsUYkSJfTGG28offr0+uijj9S1a1fVqlVLr732mvz8/HTs2DHt379fU6dOTfBx0qVLp7Zt22rWrFkqUKCASpUqpR07diQqTNla6/LlyzVt2jQ1bdpU+fPnl2EY+uGHH3T9+vUEu+Il5n3AVnXq1FG1atU0YMAA3b59W+XLl9evv/6a7F/yPMzb21vVqlXThx9+aD3HwsLCNHPmTOu1u/ZWrFgxtW7dWh999JGcnZ1Vo0YNHT58WB999JF8fHwe2xPAFsnxO32ax7JVq1aaN2+eGjRooLfeeksVK1aUq6ur/v33X23YsEFNmjSxju4e09q+cOFC5c+fX+7u7ipRooT69Omj77//XtWqVdPbb7+tkiVLKjo6WqdOndKaNWv0zjvvPDagvvbaa/Lw8FCVKlWUPXt2nT9/XmPHjpWPj88jLy8BEmSHwXyQijRt2tRIly5dgqOWtmrVynBxcTHOnz9vGIY5ql7nzp0Nf39/w9XV1QgICDBatmxpXLhwwXqfa9euGW+99ZaRO3duw9XV1ciWLZsRHBxs/PHHH9Ztzp07Z4SEhBi+vr6Gj4+P0bZtW+sIfQ+Pzurl5RVvbUeOHDFq165tZMiQwciUKZPRokUL49SpU/GOoHfkyBGjRYsWRubMmY106dIZuXPnNjp27Gjcu3cvzn6DgoIMX19f486dO7YcRsMwDOPkyZNGmzZtjMyZMxuurq5G4cKFjQ8//NA6mmmMxI7OKsmQZFgsFiN9+vRG4cKFjXbt2hmrV6+O9z4PP/fEjs5qGIaxf/9+o2XLlka2bNkMV1dXw9/f36hRo4Z19F7DiH/UwQctXbrUqF69uuHt7W24ubkZefLkMUJCQmKNoPmo3218I52uW7fOKFOmjOHm5vbYUQAf9ZwNwzA+//xz6zGNGZ01RlhYmBEcHGz4+voarq6uRo4cOYzg4OA4x2jFihVG6dKlDQ8PDyN//vzG1KlTHzk6a8+ePeOtcdasWUbhwoUNNzc3I3/+/MbYsWONmTNnGpKM48ePW7dLyuisD7p06ZLh7e0d7/G4dOmS0bt3byNfvnyGq6ur4evra5QrV84YOnSo8d9//1m3S+jYX7t2zXBycjK8vLyM+/fvW9fPmzfPkGQ0b948Tk1RUVHGuHHjjEKFChmurq5GlixZjLZt2xqnT5+26TkZRvzn0YYNG4z06dMb9erVi/fcvXTpkpEuXTqjadOm8e4z5vl4eHhYR+p9eCTfh5/HpEmTjOLFixvp0qUzfHx8jBdffNH46aefEqwz5rk9+HuNb7TN8PBwo2vXrkbWrFkNi8US529j1qxZRqVKlQwvLy/Dw8PDKFCggNG+fXtj165dsR5rxYoVRmBgoOHl5WV4enoazz//vDFu3DibHufGjRtG165dDT8/P8PLy8to1KiRceLEiUeOzhrfcbKl1j/++MNo3bq1UaBAAcPDw8Pw8fExKlasaMyZMyfe/T3I1veBR9UY81r24LG9fv260blzZyNjxoyGp6enUbt2beOPP/5I1tFZ4ztW//77r/Hyyy8bmTJlMjJkyGDUq1fPOHTokJEnT55Y592jRme19fX04efxqNfz+B7n3r17Rt++fY1s2bIZ7u7uxgsvvGBs27bN8PHxMd5+++3HHpOEXhdjPOnv1DBsP5aPeu6P2nd8xzkiIsKYMGGCUapUKcPd3d1Inz69UaRIEaN79+7GX3/9Zd3uxIkTRp06dYwMGTIYkmKN9P3ff/8Zw4YNMwoXLmx9PSlRooTx9ttvWz9/JXT85s6da1SvXt3w8/Mz0qVLZ/1sduDAgQSPNfAoFsNI5uEbgTTu4sWLypMnj3r16hXnuigAABDb1q1bVaVKFc2bNy/ZR7EFYB+ESMBG//77r/755x99+OGH+uWXX/Tnn3/GGjgAAIBn3dq1a7Vt2zaVK1dOHh4e2r9/vz744AP5+PjowIEDyXaNPgD74ppIwEZffvmlRo4cqbx582revHkESAAAHuLt7a01a9Zo8uTJunXrlrJkyWIdaIoACaQdtEQCAAAAAGz25MNkPaFNmzapUaNGCggIkMViiTMPmmEYCg0NVUBAgDw8PBQUFKTDhw/H2iY8PFy9evVSlixZ5OXlpcaNGyd53isAAAAAwKPZPUTevn1bpUqVsg4l/rDx48dr4sSJmjp1qnbu3Cl/f3/Vrl1bt27dsm7Tp08fLVmyRAsWLNCWLVv033//qWHDhg4zbxIAAAAApBUO1Z3VYrFoyZIlatq0qSSzFTIgIEB9+vTRwIEDJZmtjn5+fho3bpy6d++uGzduKGvWrPr666/1yiuvSJLOnj2rXLlyacWKFbEmqgcAAAAAPBmHHljn+PHjOn/+vOrUqWNd5+bmpsDAQG3dulXdu3fX7t27FREREWubgIAAFS9eXFu3bo03RIaHhys8PNy6HB0dratXrypz5syyWCwp+6QAAAAAOCzDMHTr1i0FBATIycnuHTcdkkOHyPPnz0uS/Pz8Yq338/PTyZMnrdukS5dOmTJlirNNzP0fNnbsWI0YMSIFKgYAAACQFpw+fVo5c+a0dxkOyaFDZIyHWwcNw3hsi2FC2wwePFh9+/a1Lt+4cUO5c+fW8ePHlSFDhicv+AlFRERow4YNql69ulxdXe1dDoB4cJ4CqQPnKpA6ONK5euvWLeXLl88hcoGjcugQ6e/vL8lsbcyePbt1/cWLF62tk/7+/rp//76uXbsWqzXy4sWLqly5crz7dXNzk5ubW5z1vr6+8vb2Ts6nkCQRERHy9PRU5syZ7X4SAYgf5ymQOnCuAqmDI52rMY/PZW6P5tCdfPPlyyd/f3+tXbvWuu7+/fsKCwuzBsRy5crJ1dU11jbnzp3ToUOHHhkiAQAAADyZW7duqU+fPsqTJ488PDxUuXJl7dy5M95tu3fvLovFosmTJye4z5kzZ+qll15SpkyZlClTJtWqVUs7duyItc28efOUK1cu+fr6qn///rFuO3HihAoVKqSbN28+0XNDwuzeEvnff//p2LFj1uXjx49r37598vX1Ve7cudWnTx+NGTNGBQsWVMGCBTVmzBh5enqqTZs2kiQfHx916dJF77zzjjJnzixfX1/169dPJUqUUK1atez1tAAAAIA0rWvXrjp06JC+/vprBQQE6JtvvlGtWrV05MgR5ciRw7rd0qVLtX37dgUEBDx2n2FhYWrdurUqV64sd3d3jR8/XnXq1NHhw4eVI0cOXb58WV27dtWcOXOUP39+BQcHKygoSMHBwZKkN954Qx988IFD9C5My+weInft2qXq1atbl2OuVezQoYPmzJmjAQMG6O7du+rRo4euXbumSpUqac2aNbH6KE+aNEkuLi5q2bKl7t69q5o1a2rOnDlydnZ+6s8HAAAASOvu3r2r77//Xj/++KOqVasmSQoNDdXSpUv12WefadSoUZKkM2fO6M0339Tq1autQS8hX331VazurF988YUWL16s9evXq3379vrnn3/k4+NjndqvevXqOnLkiIKDgzV//nylS5dOzZs3T4FnjAfZPUQGBQUpoakqLRaLQkNDFRoa+sht3N3dNWXKFE2ZMiUFKgQAAADwoMjISEVFRcnd3T3Weg8PD23ZskWSOY1eu3bt1L9/fxUrVixJj3Pnzh1FRETI19dXklSwYEHduXNHe/fuVZ48ebRz50517txZV69e1fDhw7Vhw4Yne2KwiUNfEwkAAADA8WTIkEEvvvii3n//fZ09e1ZRUVH65ptvtH37dp07d06SNG7cOLm4uKh3795JfpxBgwYpR44c1svUMmXKpLlz56p9+/aqWLGi2rdvr7p166pfv37q1auXjh8/rjJlyqh48eJavHhxsjxXxGX3lkgAAAAAqc/XX3+tzp07K0eOHHJ2dlbZsmXVpk0b7dmzR7t379bHH3+sPXv2JHmU0/Hjx+vbb7/Vxo0bY7V4NmvWTM2aNbMub9y4UQcPHtTUqVP13HPP6dtvv5W/v78qVqyoatWqKVu2bE/8XBEbLZEAAAAAEq1AgQIKCwvTf//9p9OnT2vHjh2KiIhQvnz5tHnzZl28eFG5c+eWi4uLXFxcdPLkSb3zzjvKmzfvY/c9YcIEjRkzRmvWrFHJkiUfuV14eLh69OihGTNm6NixY4qMjFRgYKAKFy6sQoUKafv27cn4jBGDEJkMEhreOCIiQgMHDlSJEiXk5eWlgIAAtW/fXmfPnk1wn0OHDlW6dOlksVhi/Tx4QTLDGwMAAMDevLy8lD17dl27dk2rV69WkyZN1K5dOx04cED79u2z/gQEBKh///5avXp1gvv78MMP9f7772vVqlUqX758gtu+//77ql+/vsqWLauoqChFRkZab4uIiFBUVFSyPEfERnfWZJDQ8Mbp06fXnj179O6776pUqVK6du2a+vTpo8aNG2vXrl2P3OegQYMUGBhoHZ3qypUrKlWqlFq0aCFJDG8MAAAAu1q9erUMw1DhwoV17Ngx9e/fX4ULF1anTp3k6uqqzJkzx9re1dVV/v7+Kly4sHVd+/btlSNHDo0cOVKS2QIZGhqq+fPnK2/evDp//rwkKX369EqfPn2s/R0+fFgLFy7Uvn37JElFihSRk5OTZs6cKX9/f/3xxx+qUKFCCh6BZxch8gnZMrzx2rVrY91nypQpqlixok6dOqXcuXPHu98MGTLI39/fGiIXLFggT09Pa4hkeGMAAADY040bNzR48GD9+++/8vX11csvv6zRo0fHmqLjcU6dOiUnp/91jpwxY4bu37+vkJCQWNu99957sWZrMAxD3bp106RJk+Tl5SXJHBl2zpw56tmzp8LDwzV16tRY81Ui+RAin5Atwxs/7MaNG7JYLMqYMaPNjzNz5ky1atXKepIwvDEAAADsqWXLlmrZsqXN2584cSLOuo0bN0oyu55K0l9//WVTCLVYLPr111/jrG/YsKEaNmxoc01IGq6JfEK2DG/8oHv37mnQoEFq06aNzV1Nd+zYoUOHDqlr167WdQxvDAAAAMAeaIlMBgkNb/ygiIgItWrVStHR0Zo2bZrN+585c6aKFy+uihUrxlrP8MYAAAAAnjZaIpNBQsMbx4iIiFDLli11/PhxrV271uZWyDt37mjBggWxWiHjw/DGAAAAAJ4GQmQyim94Y+l/AfKvv/7SunXr4oxUlZDvvvtO4eHhatu2bYLbMbwxAAAAgKeB7qzJIKHhjSMjIxUSEqI9e/Zo+fLlioqKsg5V7Ovrq3Tp0kn63/DGY8eOjbXvmTNnqmnTpgkGT4Y3BgAAAPC0ECKTQULDG584cULLli2TJJUuXTrW/TZs2KCgoCBJcYc3lqQ///xTW7Zs0Zo1ax752AxvDAAAAOBpIkQmg4SGN86bN68Mw3jsPmKGN35QoUKFHntfhjcGAAAA8DRxTSQAAAAAwGaESAAAAAB2ExUlhYVZtGlTDoWFWcR4kI6PEAkAAADALn74QcqbV6pd20UTJ5ZX7douypvXXA/HRYgE8EyIjIzUsGHDlC9fPnl4eCh//vwaOXKkoqOjrdtcuHBBHTt2VEBAgDw9PVWvXj399ddfCe63Vq1aslgscX6Cg4Ot28ybN0+5cuWSr6+v+vfvH+v+J06cUKFChXTz5s3kfcIAADi4H36QQkKkf/+Nvf7MGXM9QdJxMbAOgGfCuHHjNH36dM2dO1fFihXTrl271KlTJ/n4+Oitt96SYRhq2rSpXF1d9eOPP8rb21sTJ05UrVq1dOTIEevoxw/77rvvYg2AdeXKFZUqVUotWrSQJF2+fFldu3bVnDlzlD9/fgUHBysoKMgaMt944w198MEH8vb2TvmDAACAg4iKkt56S4pvDEnDkCwWqU8fqUkTydn5qZeHxyBEAngmbNu2TU2aNLGGt7x58+rbb7/Vrl27JEl//fWXfvvtNx06dEjFihWTJE2bNk3ZsmXTt99+q65du8a7X19fX7m6ulqXFyxYIE9PT2uI/Oeff+Tj46NXXnlFklS9enUdOXJEwcHBmj9/vtKlS6fmzZun2PMGAMARbd4ctwXyQYYhnT5tbvf/M+LBgdCdFcAzoWrVqlq/fr3+/PNPSdL+/fu1ZcsWNWjQQJIUHh4uSXJ3d7fex9nZWenSpdOWLVtsfpyZM2eqVatW1pbLggUL6s6dO9q7d6+uXr2qnTt3qmTJkrp69aqGDx+uqVOnJtdTBAAg1Th3Lnm3w9NFiHQwjE4FpIyBAweqdevWKlKkiFxdXVWmTBn16dNHrVu3liQVKVJEefLk0eDBg3Xt2jXdv39fH3zwgc6fP69zNr6D7dixQ4cOHYrVapkpUybNnTtX7du3V8WKFdW+fXvVrVtX/fr1U69evXT8+HGVKVNGxYsX1+LFi1PkuQMA4GgyZLBtu+zZU7YOJA3dWR3IDz+YfcP//ddFUnlNnCjlzCl9/LFEbzfgySxcuFDffPON5s+fr2LFimnfvn3q06ePAgIC1KFDB7m6uur7779Xly5d5OvrK2dnZ9WqVUv169e3+TFmzpyp4sWLq2LFirHWN2vWTM2aNbMub9y4UQcPHtTUqVP13HPP6dtvv5W/v78qVqyoatWqKVu2bMn2vAEAcDQnT0oDBiS8jcVifg5+6aWnUxMSh5ZIB8HoVEDK6t+/vwYNGqRWrVqpRIkSateund5++22NHTvWuk25cuW0b98+Xb9+XefOndOqVat05coV5cuX77H7v3PnjhYsWPDIaydjhIeHq0ePHpoxY4aOHTumyMhIBQYGqnDhwipUqJC2b9/+xM8VAABHtXOnVKmS9PvvUqZMZli0WGJvE7M8eTKD6jgqQqQDeNzoVJI5OhVdW4Gku3PnjpycYr/kOTs7x5riI4aPj4+yZs2qv/76S7t27VKTJk0eu//vvvtO4eHhatu2bYLbvf/++6pfv77Kli2rqKgoRUZGWm+LiIhQFCc6ACCNWrpUCgyULlyQSpaUDhyQFi+WcuSIvV3OnOZ6euI5LrqzOgBbR6eaMsUcncrHx/zx9pZc+A0CNmnUqJFGjx6t3Llzq1ixYtq7d68mTpyozp07W7dZtGiRsmbNqty5c+vgwYN666231LRpU9WpU8e6Tfv27ZUjRw6NHDky1v5nzpyppk2bKnPmzI+s4fDhw1q4cKH27dsnybwO08nJSTNnzpS/v7/++OMPVahQIXmfOAAAdmYYZqviO++Y/69XT/ruO/O6yJw5zWk8NmyI1MqV+1S/fmlVr+5CC6SDI4I4AFtHnXr77bjrvLz+Fyp9fKSMGWMvP+onZjtvb7oJ4NkwZcoUvfvuu+rRo4cuXryogIAAde/eXcOHD7duc+7cOfXt21cXLlxQ9uzZ1b59e7377rux9nPq1Kk4LZp//vmntmzZojVr1jzy8Q3DULdu3TRp0iTryK0eHh6aM2eOevbsqfDwcE2dOlU5Hv46FgCAVCwy0uxR9+mn5vLrr5sNIw82hDg7S4GBhm7fPqPAwFJ8Nk0FLIYRXyfKZ8vNmzfl4+OjGzdu2GXC740bperVH79drlzmiXj9unT3bvI9fvr0CQfNx4XRDBkIonj2REREaMWKFWrQoEGseSIBOBbOVcB+bt2SWrWSVqwwr3OcMMFsFHn4GkjJsc5Ve2eD1ICWSAfw0ktmU/6ZM/FfFxkzOtXx4/8LaxER0o0bj/65fj3h22/c+F8Q/e8/8+fMmaQ/hwwZHt/qmdCPt7fkxBW6AAAAacKZM1LDhtK+fZKHh/TNN1zjmJYQIh2As7M5jUdIiBkYHwySjxqdytVVypLF/Emq+/cfHzQfF0jv3TP3deuW+ZPQtZ0JsVgSDqK2hNEMGQiiAAAA9rZ/vxQcbAbJbNmkn36SHpr9CqkcIdJBNG9ujkJlzhP5v/U5c5oBMiW+uUmXTsqa1fxJqpggakvL56O2CQ83g/PNm+bP6dNJq8ViMVs0E3NN6MM/6dMTRAEAAJJqxQrplVfMXm5Fi5rLefPauyokN0KkA2nePPWNTpUcQTQ8PPFdcR/e5v59M4jGLCfVg0HU1mtC4wui8fX1BwAASMs++0x6800pOlqqUUP6/nvzsxLSHkKkg3kWR6dyczO7OmTLlvR93LuXtOtCH9wmIiJ2ED11Kmm1ODnFbhFNShj18iKIAgCA1CE6WhowQProI3O5Y0dpxgyzsQFpEyESaYK7u/nj55e0+xtG/EHU1jAas11kpPlCev26+ZNUzs7xd81NTCD19CSIAgCAlHXnjtS2rbRkibk8apQ0ZAifQdI6QiQg84XOw8P88fdP2j4Mwxzx9klHzY2MlKKipGvXzJ+kcnZ+shFzM2Y0jwdvAgAAID4XLkiNG0s7dpitjnPmSK1b27sqPA2ESCCZWCxm65+np5Q9e9L2YRjmN3pPMmLujRtmCI2Kkq5eNX+SysXlyUbM9fFJm0E0KkoKC7No06Yc8vKyqHp15koFADxbjhyRGjSQTp6UMmeWli6Vqla1d1V4WgiRgAOxWMzrIb28pICApO0jJogmphtufOujo81W0StXzJ+kcnV9shFzfXzMrsqOEkR/+CFmFGUXSeU1caI5ivLHHzP/FQDg2bB+vfTyy+bnhYIFpZ9/Nv/Fs4MQCaQxDwbRHDmStg/DkG7ffrIRc2/eNINoRIR0+bL5k1QxQTSpI+bGBNEn9cMP5nyuD87lKpnzYIWEmNP0ECQBAGnZrFlS9+7mF81Vq5otkJkz27sqPG2ESABxWCzmVCXp0z9ZEP3vvycbNffmTXM/yRFE06V7shFz06c3WyAfDpAxz9Vikfr0MafpoWsrACCtiY6W3n1XGjPGXG7d2gyUyfElLVIfQiSAFGGxSBkymD85cyZtH9HR8QfRxITRW7fMkHf/vnTpkvmTEgxDOn1a2rxZCgpKmccAAMAe7t2TOnWSFiwwl4cNk0aOdJxLTfD0ESIBOKyYOTe9vaVcuZK2j+hoM0g+yYi5N2/a/njnziWtTgAAHNHly1LTptKvv5oD7n3+uRko8WwjRAJI05yc/tclNamioqSVK6VGjR6/bVJH5gUAwNH89Zc5AuuxY+b76A8/SDVq2LsqOAInexcAAI7O2VmqX9/slptQ1x1XV0IkACBt2LxZeuEFM0DmzStt3UqAxP8QIgHABs7O5jQe0qODZESEVKmS9OOPT68uAACS2/z5Uq1a5lzTFStKv/0mPf+8vauCIyFEAoCNmjc3p/F4eMTaXLnMa0QqVzavoWzaVBo82Bz+HACA1MIwpFGjpFdfNQeka95c2rBB8vOzd2VwNIRIAEiE5s2lEyektWsj1bfvLq1dG6njx6XXXpM2bjSn+ZCkDz6Q6tSRLlywY7EAANjo/n2pc2dzGg9J6tdPWrRI8vS0b11wTIRIAEgkZ2cpMNBQtWpnFBhoWOeFdHWVJk2SFi4055XcsEEqW9Yc0Q4AAEd17ZpUr540Z475HvfZZ9KHH5qD0wHx4U8DAJJZy5bSjh1S0aLS2bPmvJEff2x2EwIAwJEcP25ejrFhg/kF6PLl0uuv27sqODpCJACkgKJFzSDZqpV5bWSfPub/b92yd2UAAJi2bzcHhPvjD/N6/y1bzBZJ4HEIkQCQQtKnN0e4++QTc4Lm774zR7k7csTelQEAnnXff2/2lLl0SSpTxgyUpUrZuyqkFoRIAEhBFovUq5e0aZP5Le8ff5hBcsECe1cGAHgWGYY0YYLUooV0754UHPy/9yjAVoRIAHgKXnxR2rPHnKj59m2pdWupd29zNDwAAJ6GyEjpjTek/v3NMNmzp7R0qdlzBkgMQiQAPCXZsklr1khDhpjLU6ZIgYHSv//aty4AQNp386bUqJE0Y4bZS2bSJPN9yMXF3pUhNSJEAsBT5OwsjR4tLVsm+fhIv/1mXouyfr29KwMApFWnT0svvSStWmXO+7hkiTngm8Vi78qQWhEiAcAOGjUyu7eWKSNdvizVqSONGSNFR9u7MgBAWrJ3r/TCC9KBA5K/vxQWJjVpYu+qkNoRIgHATvLnl379VerSxQyPQ4eab+zXrtm7MgBAWrB8udkCefasVKyY2fulfHl7V4W0gBAJAHbk4SF9+aX54+ZmvuGXK2d+cwwAQFJNmWJ+MXn7tlS7tvmlZZ489q4KaQUhEgAcQJcu0rZtUr580vHj5mius2bZuyoAQGoTFWVe79i7t9nLpWtX6eefzevwgeRCiAQAB1GmjLR7t9SwoRQebgbLLl2ku3ftXRkAIDW4fVtq3lz6+GNzeexY6fPPJVdX+9aFtIcQCQAOJFMm6ccfzRFcnZzM1sjKlaV//rF3ZQAAR3bunDlt1LJl5uURCxdKgwYxAitSBiESAByMk5M5l+Tq1VKWLNK+feZ1kj/9ZO/KAACO6NAhcwTW3bvN941ffpFatrR3VUjLCJEA4KBq1frf0OzXr0uNG5sjuEZF2bsyAICjWLNGqlJFOnVKKlTIHIG1cmV7V4W0jhAJAA4sZ05zTq9evczlMWOkunWlixftWxcAwP6+/FJq0EC6eVOqVs0coK1AAXtXhWcBIRIAHFy6dNInn0jffit5eUnr10tly5ofFgAAz57oaGnwYOm118zeKe3amS2Svr72rgzPCkIkAKQSrVpJO3ZIRYpIZ86Y3zpPmSIZhr0rAwA8LXfvmu8HH3xgLoeGSnPnmoPpAE8LIRIAUpHnnzeDZMuWUmSkOQ9YmzbSf//ZuzIAQEq7dEmqWVNatMictuOrr6T33mMEVjx9hEgASGUyZJAWLJAmT5ZcXMz/V6wo/f67vSsDAKSUP/4wB1rbtk3KmNHsvtqunb2rwrOKEAkAqZDFIr31lrRxoxQQYAbIChWk776zd2UAgOQWFva/OYPz5zeDZFCQvavCs4wQCQCpWJUq0p49UvXq0u3b0iuvSH36SPfv27syAEBy+PprqXZt6do1syXyt9/Ma+MBeyJEAkAq5+dndmsaNMhc/vhjM1SeOWPfugAASWcY5qA57dtLERFSixbSL79IWbPauzKAEAkAaYKLizR2rPTjj5KPj7R1qzkNyC+/2LsyAEBihYdLHTpII0aYywMHmte/e3jYty4gBiESANKQxo2l3bulUqWkixfNLlAffGDOKQYAcHxXr0p165rdWJ2dpc8/N1/HnfjUDgfCnyMApDEFCpiDLnTs+L8JqZs1k65ft3dlAICE/P23OYBOWJjk7S2tXCm99pq9qwLiIkQCQBrk4SHNmiV98YU5AfWyZVL58tK+ffauDAAQn61bzYFzjh6VcuWSfv3V7E0COCJCJACkURaL1LWr+UEkb17zG+4XX5TmzLF3ZQCAB333nVSjhnT5slSunLR9u1S8uL2rAh6NEAkAaVy5cuZ1kg0aSPfuSZ06Sd26mf8HANiPYZjXO77yijmYTuPGZlfW7NntXRmQMEIkADwDfH2ln36S3n/fbKH84gtzjsnjx+1dGQA8myIizC/0Bg82l996S/rhB8nLy751AbYgRALAM8LJSRo2TFq9WsqcWdqzx2ylXLHC3pUBwLPlxg0pOFj68kvztfmTT6TJk83RWIHUgBAJAM+Y2rXNAFmxonTtmvlBZvhwKSrK3pUBQNp36pRUtaq0dq3k6SktXSr16mXvqoDEIUQCwDMod25p0yapZ09z+f33pfr1zUEdAAApY/duqVIl6dAh87rHzZulRo3sXRWQeIRIAHhGublJU6dK8+aZ34avXSuVLWuOCggASF4//ihVqyadPy+VKGG+1pYta++qgKRx+BAZGRmpYcOGKV++fPLw8FD+/Pk1cuRIRUdHW7cxDEOhoaEKCAiQh4eHgoKCdPjwYTtWDQCpR5s20o4dUqFC0unT0ksvSdOmmaMGAgCe3McfS82aSXfuSPXqSVu2mHNBAqmVw4fIcePGafr06Zo6dap+//13jR8/Xh9++KGmTJli3Wb8+PGaOHGipk6dqp07d8rf31+1a9fWrVu37Fg5AKQexYpJO3dKISHmiIE9e0pt20q3b9u7MgBIvSIjzesd+/Qxv5jr3t0cKdvb296VAU/G4UPktm3b1KRJEwUHBytv3rwKCQlRnTp1tGvXLklmK+TkyZM1dOhQNW/eXMWLF9fcuXN1584dzZ8/387VA0Dq4e1tTng9caI5QuD8+ea1O0eP2rsyAEh9/vtPatrUvGxAkj78UPrsM8nFxa5lAcnC4f+Mq1atqunTp+vPP/9UoUKFtH//fm3ZskWTJ0+WJB0/flznz59XnTp1rPdxc3NTYGCgtm7dqu7du8fZZ3h4uMLDw63LN2/elCRFREQoIiIiZZ+QDWJqcIRaAMQvLZ+nb74plS5t0auvOuvwYYvKlzf0xRdRevll+rci9UnL5yoc19mzUtOmLtq3zyJ3d0Nz5kSpeXNDkZH2rsxxOdK56gg1ODqHD5EDBw7UjRs3VKRIETk7OysqKkqjR49W69atJUnnz5+XJPn5+cW6n5+fn06ePBnvPseOHasRI0bEWb9mzRp5enom8zNIurVr19q7BACPkZbP0zFj3DRhQnkdPpxFrVu7qHHjY2rf/ohcXAiTSH3S8rkKx3L8uLdGjXpBV664yscnXEOGbJe7+zXm5LWRI5yrd+7csXcJDs/hQ+TChQv1zTffaP78+SpWrJj27dunPn36KCAgQB06dLBuZ7FYYt3PMIw462IMHjxYffv2tS7fvHlTuXLlUp06deTtAJ3UIyIitHbtWtWuXVuurq72LgdAPJ6V8/SVV6R3343SRx85a9my53TlSn7NmxelgAB7VwbY5lk5V+EYVq+26N13nfXffxYVLmxo2TIn5cv3or3LShUc6VyN6aWIR3P4ENm/f38NGjRIrVq1kiSVKFFCJ0+e1NixY9WhQwf5+/tLMlsks2fPbr3fxYsX47ROxnBzc5Obm1uc9a6urnb/o32Qo9UDIK60fp66ukoTJkhVqkgdO0q//uqkSpWctHChFBho7+oA26X1cxX2N2OGOShZVJRUvbr0/fcWZcrE31xiOcK5au/HTw0cfmCdO3fuyMkpdpnOzs7WKT7y5csnf3//WE3f9+/fV1hYmCpXrvxUawWAtKpZM2nXLqlkSenCBalmTXOQCKYBAfCsi46W+veXXn/dDJAdOkirVkmZMtm7MiDlOHyIbNSokUaPHq2ff/5ZJ06c0JIlSzRx4kQ1a9ZMktmNtU+fPhozZoyWLFmiQ4cOqWPHjvL09FSbNm3sXD0ApB0FC0rbtknt25sflAYMkJo3l27csHdlAGAfd+9KLVuaPTYk6f33pdmzpXTp7FsXkNIcvjvrlClT9O6776pHjx66ePGiAgIC1L17dw0fPty6zYABA3T37l316NFD165dU6VKlbRmzRplyJDBjpUDQNrj6SnNmWN2b+3VS1q6VCpfXvr+e7OVEgCeFRcuSE2aSNu3m6Fx9myJ9gs8Kxw+RGbIkEGTJ0+2TukRH4vFotDQUIWGhj61ugDgWWWxSN26SWXLSiEh0rFj0gsvSNOnm62UAJDWHTkiBQdLJ05Ivr7mF2ovvWTvqoCnx+G7swIAHFP58tLu3VK9emaXrg4dzGuC7t2zd2UAkHJ++UWqXNkMkM89Z3bzJ0DiWUOIBAAkWebM0s8/SyNGmC2UM2aYH6ZOnLB3ZQCQ/ObMkerWNa8Fr1LFDJCFCtm7KuDpI0QCAJ6Ik5M0fLi0cqXZrWvXLqlcOXN0QgBICwxDevddqVMnKTJSatVKWrdOypLF3pUB9kGIBAAki7p1pT17pAoVpKtXpQYNpNBQcyRXAEitwsOltm2lUaPM5SFDpHnzJHd3+9YF2BMhEgCQbPLkkTZvlt54w/zmfsQIc/CJy5ftXRkAJN6VK1KtWtL8+ZKLizRzpjR6tNkDA3iWcQoAAJKVm5s0bZr01VeSh4e0erXZvXXnTntXBgC2O3ZMevFFacsWydvb7LLfubO9qwIcAyESAJAi2rUz508rWFA6dUqqWlX67DOzhRIAHNmWLebURX/9Zfaw2LrVbJEEYCJEAgBSTIkSZgtks2bS/ftSjx7mXJK3b9u7MgCI34IFUs2aZlfWChXML8OKFbN3VYBjIUQCAFKUj4/0/ffShx9Kzs7SN9+Y3/D/+ae9KwOA/zEM83rH1q3NL72aNZM2bpT8/OxdGeB4CJEAgBRnsUj9+knr15sfyA4dksqXl374wd6VAYAZGrt0kYYNM5ffeUdatEjy9LRvXYCjIkQCAJ6awEBp717ppZekW7ekl1+W+vc3510DAHu4fl2qX1+aPdscdXXaNGnCBLPnBID4ESIBAE9V9uxmi2S/fubyhAnm9Ufnztm3LgDPnhMnpMqVpV9+kdKnl376yZyiCEDCCJEAgKfO1dW8RvL776UMGaRNm6SyZc1/AeBp2LFDqlRJ+v13KUcOc47bBg3sXRWQOhAiAQB207y5tGuXVLy4dP68VKOG9NFHTAMCIGUtWSIFBUkXL0qlSkm//SaVLm3vqoDUgxAJALCrQoXMD3Bt20pRUWY315AQ6cYNe1cGIK0xDPOLqpdflu7eNVseN2+Wcua0d2VA6kKIBADYnZeX9NVX5oAWrq7mqK0VKkgHD9q7MgBpRWSk1LOn+UWVYZjz1v74o9mlHkDiECIBAA7BYjEHtNiyRcqVS/rrL/N6pW++sXdlAFK7W7ekxo2lzz4zX2smTpSmTpVcXOxdGZA6ESIBAA6lYkVpzx6pTh2zu1m7dmaLQXi4vSsDkBr9+685rdDKlZKHh9nT4e23zTAJIGkIkQAAh5Mli7RihTR8uLn82Wfmh8BTp+xbF4DUZe9es0fD/v2Sn58UFiY1bWrvqoDUjxAJAHBIzs7SiBFmmPT1lXbuNKcBWb3a3pUBSA1+/tn88unsWen5580BvCpUsHdVQNpAiAQAOLT69aXdu6Vy5aQrV8zlkSOl6Gh7VwbAUX36qXkN5O3bUq1a0q+/Snnz2rsqIO0gRAIAHF7evOaAO927m6Mqvvee1LChGSoBIEZUlNS3r/Tmm+YXTZ07m70ZMma0d2VA2kKIBACkCu7u0vTp0pw55v9XrjRbJ3ftsndlABzB7dvmHLOTJpnLY8ZIX35pThsEIHkRIgEAqUqHDua1TQUKSCdPSlWqSDNmmC2UAJ5N589LQUHS0qWSm5v07bfS4MGMwAqkFEIkACDVKVXKbIFs0kS6f196/XWpY0fpzh17VwbgaTt82ByBddcuKXNmaf16qVUre1cFpG2ESABAqpQxo7RkiTRunOTkJH31lfTii9Jff9m7MgBPy7p1UuXK5vQ/hQqZvRSqVLF3VUDaR4gEAKRaFos0YIDZ8pAtm3TggFS+vNmlDUDaNnOmOVrzzZvmVB5bt0rPPWfvqoBnAyESAJDqBQWZk4pXqWJ+oGzWTBo4UIqMtHdlAJJbdLQ0ZIjUtat5jr/6qrR2rdmVFcDTQYgEAKQJAQHShg3m8P6SNH68VLu2OeAGgLTh3j2pTRtp7Fhzefhw6euvzcF0ADw9hEgAQJrh6ip99JG0aJGUPr20caNUtqw5xySA1O3SJalmTWnhQvNcnzNHGjGCEVgBeyBEAgDSnJAQc6TG55+Xzp0zu7tOmsQ0IEBqdfSoOXDW1q3moFqrV5vT/QCwD0IkACBNKlxY2r5dat1aiooyu7m2bGleMwkg9di0yQyQf/8t5ctnBsnq1e1dFfBsI0QCANKs9OmlefOkqVPN7m+LF0sVK5rzygFwfPPmmdc2X7tmzgX5229S0aL2rgoAIRIAkKZZLFLPnmZrRs6cZre4ihWl+fPtXRmARzEMaeRIqW1b6f59s4v6hg3mVD4A7I8QCQB4JrzwgrRnj1SrlnTnjjktQK9e5gdUAI7j/n2pUyfpvffM5QEDzMF0PDzsWxeA/yFEAgCeGVmzSqtWScOGmctTp0rVqkmnT9u3LgCma9ekunWluXMlZ2dpxgxp3DjJiU+sgEPhlAQAPFOcnaX335eWL5cyZTIH3ylbVlq3zt6VAc+2f/4xB9DZuFHKkEH6+WepWzd7VwUgPoRIAMAzKThY2r3bDJCXL0t16kijR0vR0fauDHj2/Pab2eX86FHz2uUtW8wWSQCOiRAJAHhm5csn/fqr9Npr5kAew4ZJjRtLV6/auzLg2bFokTllx6VLUpkyZu+AkiXtXRWAhBAiAQDPNHd36fPPpVmzzP///LNUrpzZSgkg5RiGNH68OX/rvXtSo0bmKMoBAfauDMDjECIBAJA5GuS2bVL+/NKJE1KVKtKXX5ofdAEkr4gI6fXXpYEDzeVevaQlS8y5XQE4PkIkAAD/r3RpswWyUSMpPNzs5tqli3T3rr0rA9KOmzelhg3NHgAWi/Txx9Inn5iDXgFIHQiRAAA8IGNGaelSaexYc1qB2bPNESP//tvelQGp3+nTUtWq0po1kqenea717m3vqgAkFiESAICHODlJgwZJa9eac0vu329eJ7lsmb0rA1Kv3bulSpWkgwclf3/z+sfGje1dFYCkIEQCAPAINWpIe/dKlStLN25ITZpIQ4ZIkZH2rgxIXX76SapWTTp3TipRwhyBtVw5e1cFIKkIkQAAJCBHDnPy8z59zOWxY8356y5etGdVQOrxySfmFzB37pjzsW7ZIuXObe+qADwJQiQAAI/h6ipNmiQtXCh5eUm//GLOZ/frr/auDHBcUVHm9Y5vvWWOcvzaa9Ly5ZK3t70rA/CkCJEAANioZUtp506paFHp7FkpKMgcWZJpQIDY/vtPatZMmjLFXB43Tpoxw/xCBkDqR4gEACARihaVduyQXnnFvDayTx+pVSvp1i17VwY4hrNnpcBA8zpINzfpu++kAQPM6TwApA2ESAAAEil9eunbb81rvVxczA/JFStKR47YuzLAvg4elF54QdqzxxzZeMMGqUULe1cFILkRIgEASAKLRerVSwoLMwff+eMPM0guWGDvygD7WL1aqlLFnAuycGHpt9/MOVYBpD2ESAAAnkDlymarS40a0u3bUuvW5kAi9+/buzLg6fn8cyk42OzWHRQkbdsm5c9v76oApBRCJAAATyhbNmnNGnMOScns5hoUJP37r13LAlJcdLQ0cKDUvbs5Gmv79maLZKZM9q4MQEoiRAIAkAycnaXRo6VlyyQfH7MlpmxZaf16e1cGpIy7d80BpsaPN5dHjJDmzJHSpbNrWQCeAkIkAADJqFEjs3tr6dLSpUvm5OpjxpgtNkBacfGiVL26tHixGRq//loaPpwRWIFnBSESAIBklj+/tHWr1LmzGR6HDpWaNJGuXbN3ZcCT+/13cwTW7dvNbqtr10pt29q7KgBPEyESAIAU4OEhzZwpffmlOVfe8uVSuXLS3r32rgxIug0bzMGkjh83vyzZtk2qVs3eVQF42giRAACkoC5dzFbJfPnMD94vvijNmmXvqoDEmztXqltXun7dDJK//WZO5QHg2UOIBAAghZUtK+3ebU6BEB5uBsuuXc2BSQBHZxjSe+9JHTtKERFSy5bmgFFZs9q7MgD2QogEAOApyJTJHLl19GjJycns6lqlivTPP/auDHi08HCpXTtp5EhzefBg6dtvJXd3+9YFwL4IkQAAPCVOTuZckqtXS1mymNdHlitnXi8JOJqrV83RhefNk1xczOt7x4wx/44BPNt4GQAA4CmrVcsMkC+8YF5f1qiRNGyYOVk74AiOHTOv3920SfL2llauNLthA4BEiAQAwC5y5pTCwqRevczl0aPNQUsuXbJvXcCvv5oB8s8/pdy5zYGhatWyd1UAHAkhEgAAO0mXTvrkE2n+fMnT0xyspEwZc9oEwB4WLpRq1pQuX5bKlzfngixWzN5VAXA0hEgAAOysdWtpxw5zuoQzZ8x596ZMMUfFBJ4GwzCvd2zVyhxMp0kTaeNGyd/f3pUBcESESAAAHECxYtLOnVKLFlJkpNS7t9SmjfTff/auDGldRIT02mvS0KHm8ttvS99/L3l52bcuAI6LEAkAgIPIkMHsTjhpkjka5oIFUsWK0h9/2LsypFXXr0v165tTzjg5SVOnShMnSs7O9q4MgCMjRAIA4EAsFqlPH2nDBil7dun336UKFaTvvrN3ZUhrTp405ypdv95sdVy2TOrZ095VAUgNCJEAADigqlXNaUCqVze7tL7yitnNMCLC3pUhLdi5U6pUSTpyRAoIkDZvloKD7V0VgNSCEAkAgIPy85PWrJEGDTKXJ082Q+WZM3YtC6nc0qVSYKB04YJUqpQ5AmuZMvauCkBqQogEAMCBubhIY8eaH/x9fMw5/MqWNbu7AolhGOb1ts2bS3fvmtdCbt5szlkKAIlBiAQAIBVo0kTatUsqWVK6eNGc/P2DD6ToaHtXhtQgMlLq1Uvq29cMk2+8YV4DmSGDvSsDkBoRIgEASCWee07atk3q0MEMj4MHS82amSNsAo9y65b5JcSnn5oDN330kfl/Fxd7VwYgtSJEAgCQinh6SrNnS59/LqVLZ7YmlS8v7dtn78rgiM6ckapVk1askDw8pMWLzdZIi8XelQFIzQiRAACkMhaLOTn8r79KefJIf/8tvfiiNGeOvSuDI9m/3xyBdd8+KVs2aeNG83pIAHhShEgAAFKp8uWlPXvMAVLu3ZM6dZK6dTP/j2fbihXmNDFnzkhFi5ojsFasaO+qAKQVhEgAAFIxX19p+XJp5EizhfKLL8wJ5I8ft3dlsJfPPpMaNTLnF61RQ9q6Vcqb195VAUhLCJEAAKRyTk7Su+9Kq1ZJmTObrZPlypmtUXh2REdL/fpJPXqY/+/YUVq5UsqY0d6VAUhrCJEAAKQRdeqYAbJiRenaNSk4WBo+XIqKsndlSGl37kghIebIq5I0erQ0a5Y5+BIAJDdCJAAAaUju3NKmTVLPnuby+++b10xevmzfupByLlyQqleXliwxQ+P8+dKQIYzACiDlECIBAEhj3NykqVOlb74xpwRZu1YqW9YcXAVpy5Ej5gisO3aYXZnXr5dat7Z3VQDSOkIkAABp1KuvmsGxUCHp9GnppZekadMkw7B3ZUgO69dLlStLJ09KBQtK27aZI7ICQEpLFSHyzJkzatu2rTJnzixPT0+VLl1au3fvtt5uGIZCQ0MVEBAgDw8PBQUF6fDhw3asGAAAx1C8uLRzp/Tyy1JEhNnNtV076fZte1eGJzFrllSvnnTjhhkct20zgyQAPA0OHyKvXbumKlWqyNXVVStXrtSRI0f00UcfKeMDQ42NHz9eEydO1NSpU7Vz5075+/urdu3aunXrlv0KBwDAQXh7S4sWmYOuODtL8+aZXSCPHrV3ZUis6Ghp6FCpSxcpMtLsurp2rdmVFQCeFocPkePGjVOuXLk0e/ZsVaxYUXnz5lXNmjVVoEABSWYr5OTJkzV06FA1b95cxYsX19y5c3Xnzh3Nnz/fztUDAOAYLBapb19pwwbJ3186fFiqUEH6/nt7VwZb3btndlEeM8ZcHjbM/ELA3d2+dQF49rjYu4DHWbZsmerWrasWLVooLCxMOXLkUI8ePfTaa69Jko4fP67z58+rTp061vu4ubkpMDBQW7duVffu3ePsMzw8XOHh4dblmzdvSpIiIiIUERGRws/o8WJqcIRaAMSP8xSp1QsvmIOwvPqqszZvdlJIiPT221EaNSparq72ri75pZVz9fJlKSTEWVu3OsnFxdBnn0WpQwdDkZH2rgxIHo50rjpCDY7OYhiOfXm9+/9/vda3b1+1aNFCO3bsUJ8+fTRjxgy1b99eW7duVZUqVXTmzBkFBARY79etWzedPHlSq1evjrPP0NBQjRgxIs76+fPny9PTM+WeDAAADiIqyqJvvimqJUvMC+mef/6y+vXbJV/f8MfcE0/b2bNeev/9F3TuXHp5ekZo0KAdKlmSOVuAlHLnzh21adNGN27ckLe3t73LcUgOHyLTpUun8uXLa+vWrdZ1vXv31s6dO7Vt2zZriDx79qyyZ89u3ea1117T6dOntWrVqjj7jK8lMleuXLp8+bJD/KFERERo7dq1ql27tlzT4tfCQBrAeYq0YulSi7p2ddbNmxb5+RmaNy9K1ao59EeDREnt5+qWLRaFhDjr6lWL8uY1tHRppJ5/3t5VAcnPkc7VmzdvKkuWLITIBCSqO6thGAoLC9PmzZt14sQJ3blzR1mzZlWZMmVUq1Yt5cqVK9kLzJ49u55/6NWyaNGi+v7/L+Lw9/eXJJ0/fz5WiLx48aL8/Pzi3aebm5vc3NzirHd1dbX7H+2DHK0eAHFxniK1a9FCKl3aHL314EGL6tZ10dixUr9+aWuy+tR4rs6fL3XqJN2/L1WsKC1bZpGfX+p6DkBiOcK5au/HTw1sGljn7t27GjNmjHLlyqX69evr559/1vXr1+Xs7Kxjx47pvffeU758+dSgQQP99ttvyVpglSpVdPSh4eP+/PNP5cmTR5KUL18++fv7a+3atdbb79+/r7CwMFWuXDlZawEAIC0qWFD67Tdz6o+oKGnAAKl5c3P6CDx9hiGNGmUOonP/vhnwN2yQHvHdOAA8dTa1RBYqVEiVKlXS9OnTVbdu3XjT+cmTJzV//ny98sorGjZsmHXgmyf19ttvq3LlyhozZoxatmypHTt26PPPP9fnn38uSbJYLOrTp4/GjBmjggULqmDBghozZow8PT3Vpk2bZKkBAIC0ztNTmjtXqlJF6t1bWrpUKl/eHL21ZEl7V/fsuH9f6t5dmjPHXO7XTxo3TnJy+PH0ATxLbAqRK1euVPHixRPcJk+ePBo8eLDeeecdnTx5MlmKk6QKFSpoyZIlGjx4sEaOHKl8+fJp8uTJevXVV63bDBgwQHfv3lWPHj107do1VapUSWvWrFGGDBmSrQ4AANI6i8UMMGXLSiEh0rFj5miuM2aYrZRIWdeu/a/V0dlZmjpVev11e1cFAHHZFCIfFyAflC5dOhUsWDDJBcWnYcOGatiw4SNvt1gsCg0NVWhoaLI+LgAAz6IKFaQ9e8zulKtXS+3bS1u3SpMnS/EMKYBkcPy41KCB9McfUvr00qJFUr169q4KAOKX5M4RkZGR+vTTT9WiRQs1b95cH330ke7du5ectQEAADvJnFn6+WcpNNRsoZw+XapaVUrGzkb4f9u3S5UqmQEyRw5pyxYCJADHluQQ2bt3by1ZskTVq1dXYGCg5s+fr06dOiVnbQAAwI6cnaX33pNWrpR8faVdu8yurvHMnoUk+v57KShIunRJKlPGDJSlStm7KgBImM1TfCxZskTNmjWzLq9Zs0ZHjx6Vs7OzJKlu3bp64YUXkr9CAABgV3Xrmt1bW7SQdu40u10OHy69+64ZNJF4hiF99JE5Eq5hSMHB0oIFZldWAHB0NrdEzpw5U02bNtWZM2ckSWXLltXrr7+uVatW6aefftKAAQNUoUKFFCsUAADYT5480ubN0htvmKFnxAgz+Fy+bO/KUp/ISPM49u9vHss33zRHwyVAAkgtbA6Ry5cvV6tWrRQUFKQpU6bo888/l7e3t4YOHap3331XuXLl0vz581OyVgAAYEdubtK0adJXX0keHuagO+XKma2TsM3Nm1KjRuaItxaLOVjRlCmSi819wwDA/hJ1TWSrVq20c+dOHThwQHXr1lW7du20e/du7du3T59++qmyZs2aUnUCAAAH0a6dee3ec89Jp06ZA+5Mn262quHRTp+WXnrJvKbU01NaskR66y17VwUAiZfogXUyZsyoL774Qh9++KHatWun/v376+7duylRGwAAcFAlSpgD7TRrJt2/b3bP7NBBunPH3pU5pj17zDk3DxyQ/P2lsDCpSRN7VwUASWNziDx9+rReeeUVlShRQq+++qoKFiyo3bt3y8PDQ6VLl9bKlStTsk4AAOBgfHzM0UU//NAcYOfrr82g9Ndf9q7MsSxfLlWrJp09KxUrJv32m1S+vL2rAoCkszlEtm/fXhaLRR9++KGyZcum7t27K126dBo5cqSWLl2qsWPHqmXLlilZKwAAcDAWi9Svn7R+veTnJx08aAakJUvsXZljmDLFbHG8fVuqXVv69VdzkCIASM1sDpG7du3S6NGjVa9ePU2cOFEHDhyw3la0aFFt2rRJtWrVSpEiAQCAYwsMlPbuNa/5u3lTat7cnL4iMtLeldlHVJTUp4/Uu7cUHS117Sr9/LPZegsAqZ3NIbJs2bIaPny41qxZo4EDB6pEiRJxtunWrVuyFgcAAFKP7NnNFsl+/czlDz+UataUzp2zb11P2+3bZoj++GNzeexY6fPPJVdX+9YFAMnF5hD51VdfKTw8XG+//bbOnDmjGTNmpGRdAAAgFXJ1NcPj4sVShgzSpk1S2bLmv8+Cc+fMVtlly8wpURYulAYNMrv9AkBaYfOsRHny5NHixYtTshYAAJBGvPyyOYLryy9Lhw5JNWpI48ZJffum3UB16JAUHGxOe5Ili/Tjj1LlyvauCgCSn00tkbdv307UThO7PQAASHsKFTJHIn31VfMawX79pJAQ85rJtGbNGqlKFTNAFi5sPm8CJIC0yqYQ+dxzz2nMmDE6e/bsI7cxDENr165V/fr19cknnyRbgQAAIPXy8jKn/pg2zezq+sMP5uithw7Fv31oaKgsFkusH39/f+vthmEoNDRUAQEB8vDwUFBQkA4fPmxzPQsWLJDFYlHTpk1jrZ83b55y5colX19f9e/fP9ZtJ06cUKFChXTzEen3yy+lBg3McBwYKG3dKhUoYHNJAJDq2NSddePGjRo2bJhGjBih0qVLq3z58goICJC7u7uuXbumI0eOaNu2bXJ1ddXgwYMZYAcAAFhZLNIbb5jXRrZoYc4jWamSOdjMq6/G3b5YsWJat26dddnZ2dn6//Hjx2vixImaM2eOChUqpFGjRql27do6evSoMmTIkGAdJ0+eVL9+/fTSSy/FWn/58mV17dpVc+bMUf78+RUcHKygoCAFBwdLkt544w198MEH8vb2jnW/6Ghp6FDpgw/M5XbtpC++MK+FBIC0zKYQWbhwYS1atEj//vuvFi1apE2bNmnr1q26e/eusmTJojJlyuiLL75QgwYN5ORk81g9AADgGVKpkrRnjxkc16yR2rY1W+0mTowdvFxcXGK1PsYwDEOTJ0/W0KFD1bx5c0nS3Llz5efnp/nz56t79+6PfOyoqCi9+uqrGjFihDZv3qzr169bb/vnn3/k4+OjV155RZJUvXp1HTlyRMHBwZo/f77SpUtnfbwYd+9KHTpIixaZy6Gh0vDhafd6TwB4UKISX86cOfX2229ryZIl2rt3r/744w9t2bJFU6ZMUcOGDQmQAAAgQVmySCtWmIFLMru5VqtmXksY46+//lJAQIDy5cunVq1a6Z9//pEkHT9+XOfPn1edOnWs27q5uSkwMFBbt25N8HFHjRqlrFmzqkuXLnFuK1iwoO7cuaO9e/fq6tWr2rlzp0qWLKmrV69q+PDhmjp1aqztL10ypy5ZtMjsovvVV9J77xEgATw7bB6dFQAAIDk4O0sjRpgtk23bSjt2mF1d58+XKlWqpK+++kqFChXShQsXNGrUKFWuXFmHDx/W+fPnJUl+fn6x9ufn56eTJ08+8vF+//13zZkzR/v27Yv39kyZMmnu3Llq37697t69q/bt26tu3brq3LmzevXqpePHj6tx48aKiIjQa6+F6pNPQvTPP1LGjNKSJVJQUDIdGABIJQiRAADALho0MLu3hoRIu3dL9epJoaH1NWyY5OQklShRQi+++KIKFCiguXPn6oUXXpAkWR5q8jMMI866GLdu3dKkSZP05ZdfKkuWLI+spVmzZmrWrJl1eePGjTp48KCmTp2q5557Tt9++61OnfJX+/YVJVVT/vzZ9PPPUpEiT34cACC1of8pAACwm7x5pS1bpG7dJMMwu4U2bChduWLe7uXlpRIlSuivv/6yXicZ0yIZ4+LFi3FaJ2P8/fffunjxopo1ayYXFxe5uLjoq6++0rJly+Ti4qK///47zn3Cw8PVo0cPzZgxQ8eOHVNkZKROnQpUly6FJRVS4cLb9dtvBEgAzy5CJAAAsCt3d2nGDGn2bPP/K1dK5cpJu3aZge73339X9uzZlS9fPvn7+2vt2rXW+96/f19hYWGq/IhJGYsUKaKPP/5YO3fu1L59+7Rv3z41btxY1atX1759+5QrV64493n//fdVv359lS1bVpGRUbp1K1Lt20sREZKPT4RGjIhS1qwpdjgAwOHRnRUAADiEjh2lDRv6ad26Rjp5MrdefPGiihYdpZs3b6pDhw6yWCzq06ePxowZo4IFC6pgwYIaM2aMPD091aZNG+t+2rdvrxw5cmjs2LFyd3dXnjx5VLx4cbm6ukqSMmbMKEkqXrx4nBoOHz6shQsXat++fQoPlyZMKKJ795wkzVRIiL9++ukPVa1a4SkcDQBwXIkOkXnz5lXnzp3VsWNH5c6dOyVqAgAAz6jw8H8VHd1aFstlRUZm1cGDL6hJk9+UNWseSdKAAQN09+5d9ejRQ9euXVOlSpW0Zs2aWHNEnjp1KkkjxhuGoW7dumnSpEkKD/dScLAUFuYhJ6c5ypixpzZvDtfUqVOVI0eOZHu+AJAaJTpEvvPOO5ozZ45Gjhyp6tWrq0uXLmrWrJncmFkXAAA8oQULFkiSoqOlDz+UhgyRfvxRevFF6fvvpeeesyg0NFShoaGP3MfGjRsTfIw5c+bEu95isejXX3/V339LlStLR49K3t7S4sUNVbt2wyQ+IwBIexL9NV2vXr20e/du7d69W88//7x69+6t7Nmz680339SePXtSokYAAPCMcXKSBg6U1q+XsmWTDhwwr5P88ceUfdytW6UXXjADZK5c0q+/SrVrp+xjAkBqk+SBdUqVKqWPP/5YZ86c0Xvvvacvv/xSFSpUUKlSpTRr1iwZhpGcdQIAgGdQUJC0d69UpYp086bUtKkZLiMjk/+xvvtOqlFDunzZDKzbt0vxXDYJAM+8JIfIiIgIfffdd2rcuLHeeecdlS9fXl9++aVatmypoUOH6tVXX03OOgEAwDMqIEDasEF6+21zefx4s3XwoZk+kswwpA8+kF55RQoPlxo3lsLCpOzZk2f/AJDWJPqayD179mj27Nn69ttv5ezsrHbt2mnSpEkq8sBkSXXq1FG1atWStVAAAPDscnWVJk40r43s3FnauFEqW9ZsPaxaNen7jYiQevSQvvzSXH7rLemjjyRn52QpGwDSpES3RFaoUEF//fWXPvvsM/3777+aMGFCrAApSc8//7xatWqVbEUCAABIUosW0s6d0vPPS+fOmd1dJ00yWxMT68YNKTjYDJBOTtInn0iTJxMgAeBxEt0S+c8//yhPnjwJbuPl5aXZs2cnuSgAAIBHKVLEvF6xWzfp22+lvn3NAXFmzZIemOkjQadOmQHy0CHJy0tasEBqyACsAGCTRLdEXrx4Udu3b4+zfvv27dq1a1eyFAUAAJCQ9OmlefOkKVPMrq6LF0sVKkiHDz/+vrt3S5UqmQEye3Zp0yYCJAAkRqJDZM+ePXX69Ok468+cOaOePXsmS1EAAACPY7FIb75pDoKTI4c5LUfFimbrpCRFRUlhYRZt2pRDYWEWRUWZU4RUq2YOylOihNmiWbasfZ8HAKQ2ie7OeuTIEZWN59W2TJkyOnLkSLIUBQAAYKsXXzSnAWnTRlq3zvz366/NuSXPnHGRVF4TJ0oZM0rXr5v3qVdPWrhQ8va2Y+EAkEoluiXSzc1NFy5ciLP+3LlzcnFJdCYFAAB4YlmzSqtWScOGmcsrV0pnzsTeJiZA1q4t/fQTARIAkirRIbJ27doaPHiwbty4YV13/fp1DRkyRLVr107W4gAAAGzl7CyFhkpZsiS83R9/mF1hAQBJk+imw48++kjVqlVTnjx5VKZMGUnSvn375Ofnp6+//jrZCwQAALDV5s3S5csJb3P6tLldUNBTKQkA0pxEh8gcOXLowIEDmjdvnvbv3y8PDw916tRJrVu3lqura0rUCAAAYJNz55J3OwBAXEm6iNHLy0vdunVL7loAAACeSPbsybsdACCuJI+Ec+TIEZ06dUr379+Ptb5x48ZPXBQAAEBSvPSSlDOnOaiOYcS93WIxb3/ppadfGwCkFYkOkf/884+aNWumgwcPymKxyPj/V2jL/1+hHhUVlbwVAgAA2MjZWfr4YykkxAyMDwbJmMF0Jk82twMAJE2iR2d96623lC9fPl24cEGenp46fPiwNm3apPLly2vjxo0pUCIAAIDtmjeXFi+WcuSIvT5nTnN98+b2qQsA0opEt0Ru27ZNv/zyi7JmzSonJyc5OTmpatWqGjt2rHr37q29e/emRJ0AAAA2a95catJE2rAhUitX7lP9+qVVvboLLZAAkAwS3RIZFRWl9OnTS5KyZMmis2fPSpLy5Mmjo0ePJm91AAAASeTsLAUGGqpW7YwCAw0CJAAkk0S3RBYvXlwHDhxQ/vz5ValSJY0fP17p0qXT559/rvz586dEjQAAAAAAB5HoEDls2DDdvn1bkjRq1Cg1bNhQL730kjJnzqyFCxcme4EAAAAAAMeR6BBZt25d6//z58+vI0eO6OrVq8qUKZN1hFYAAAAAQNqUqGsiIyMj5eLiokOHDsVa7+vrS4AEAAAAgGdAokKki4uL8uTJw1yQAAAAAPCMSvTorMOGDdPgwYN19erVlKgHAAAAAODAEn1N5CeffKJjx44pICBAefLkkZeXV6zb9+zZk2zFAQAAAAAcS6JDZNOmTVOgDAAAAABAapDoEPnee++lRB0AAAAAgFQg0ddEAgAAAACeXYluiXRyckpwOg9GbgUAAACAtCvRIXLJkiWxliMiIrR3717NnTtXI0aMSLbCAAAAAACOJ9EhskmTJnHWhYSEqFixYlq4cKG6dOmSLIUBAAAAABxPsl0TWalSJa1bty65dgcAAAAAcEDJEiLv3r2rKVOmKGfOnMmxOwAAAACAg0p0d9ZMmTLFGljHMAzdunVLnp6e+uabb5K1OAAAAACAY0l0iJw0aVKsEOnk5KSsWbOqUqVKypQpU7IWBwAAAABwLIkOkR07dkyBMgAAAAAAqUGir4mcPXu2Fi1aFGf9okWLNHfu3GQpCgAAAADgmBIdIj/44ANlyZIlzvps2bJpzJgxyVIUAAAAAMAxJTpEnjx5Uvny5YuzPk+ePDp16lSyFAUAAAAAcEyJDpHZsmXTgQMH4qzfv3+/MmfOnCxFAQAAAAAcU6JDZKtWrdS7d29t2LBBUVFRioqK0i+//KK33npLrVq1SokaAQAAAAAOItGjs44aNUonT55UzZo15eJi3j06Olrt27fnmkgAAAAASOMSHSLTpUunhQsXatSoUdq3b588PDxUokQJ5cmTJyXqAwAAAAA4kESHyBgFCxZUwYIFk7MWAAAAAICDS/Q1kSEhIfrggw/irP/www/VokWLZCkKAAAAAOCYEh0iw8LCFBwcHGd9vXr1tGnTpmQpCgAAAADgmBIdIv/77z+lS5cuznpXV1fdvHkzWYoCAAAAADimRIfI4sWLa+HChXHWL1iwQM8//3yyFAUAAAAAcEyJHljn3Xff1csvv6y///5bNWrUkCStX79e3377rRYtWpTsBQIAAAAAHEeiQ2Tjxo21dOlSjRkzRosXL5aHh4dKliypdevWKTAwMCVqBAAAAAA4iCRN8REcHBzv4Dr79u1T6dKln7QmAAAAAICDSvQ1kQ+7ceOGpk2bprJly6pcuXLJURMAAAAAwEElOUT+8ssvevXVV5U9e3ZNmTJFDRo00K5du5KzNgAAAACAg0lUd9Z///1Xc+bM0axZs3T79m21bNlSERER+v777xmZFQAAAACeATa3RDZo0EDPP/+8jhw5oilTpujs2bOaMmVKStYGAAAAAHAwNofINWvWqGvXrhoxYoSCg4Pl7OycknU90tixY2WxWNSnTx/rOsMwFBoaqoCAAHl4eCgoKEiHDx+2S30AAAAAkJbZHCI3b96sW7duqXz58qpUqZKmTp2qS5cupWRtcezcuVOff/65SpYsGWv9+PHjNXHiRE2dOlU7d+6Uv7+/ateurVu3bj3V+gAAAAAgrbM5RL744ov64osvdO7cOXXv3l0LFixQjhw5FB0drbVr16Z4YPvvv//06quv6osvvlCmTJms6w3D0OTJkzV06FA1b95cxYsX19y5c3Xnzh3Nnz8/RWsCAAAAgGdNoueJ9PT0VOfOndW5c2cdPXpUM2fO1AcffKBBgwapdu3aWrZsWUrUqZ49eyo4OFi1atXSqFGjrOuPHz+u8+fPq06dOtZ1bm5uCgwM1NatW9W9e/c4+woPD1d4eLh1+ebNm5KkiIgIRUREpEj9iRFTgyPUAiB+nKdA6sC5CqQOjnSuOkINji7RIfJBhQsX1vjx4zV27Fj99NNPmjVrVnLVFcuCBQu0Z88e7dy5M85t58+flyT5+fnFWu/n56eTJ0/Gu7+xY8dqxIgRcdavWbNGnp6eyVBx8li7dq29SwDwGJynQOrAuQqkDo5wrt65c8feJTi8JwqRMZydndW0aVM1bdo0OXYXy+nTp/XWW29pzZo1cnd3f+R2Fosl1rJhGHHWxRg8eLD69u1rXb5586Zy5cqlOnXqyNvbO3kKfwIRERFau3atateuLVdXV3uXAyAenKdA6sC5CqQOjnSuxvRSxKMlS4hMSbt379bFixdVrlw567qoqCht2rRJU6dO1dGjRyWZLZLZs2e3bnPx4sU4rZMx3Nzc5ObmFme9q6ur3f9oH+Ro9QCIi/MUSB04V4HUwRHOVXs/fmpg88A69lKzZk0dPHhQ+/bts/6UL19er776qvbt26f8+fPL398/VtP3/fv3FRYWpsqVK9uxcgAAAABIexy+JTJDhgwqXrx4rHVeXl7KnDmzdX2fPn00ZswYFSxYUAULFtSYMWPk6empNm3a2KNkAAAAAEizHD5E2mLAgAG6e/euevTooWvXrqlSpUpas2aNMmTIYO/SAAAAACBNSZUhcuPGjbGWLRaLQkNDFRoaapd6AAAAAOBZ4fDXRAIAAAAAHAchEgAAAABgM0IkAAAAAMBmhEgAAAAAgM0IkQAAAAAAmxEiAQAAAAA2I0QCAAAAAGxGiAQAAAAA2IwQCQAAAACwGSESAAAAAGAzQiQAAAAAwGaESAAAAACAzQiRAAAAAACbESIBAAAAADYjRAIAAAAAbEaIBAAAAADYjBAJAAAAALAZIRIAAAAAYDNCJAAAAADAZoRIAAAAAIDNCJEAAAAAAJsRIgEAAAAANiNEAgAAAABsRogEAAAAANiMEAkAAAAAsBkhEgAAAABgM0IkAAAAAMBmhEgAAAAAgM0IkQAAAAAAmxEiAQAAAAA2I0QCAAAAAGxGiAQAAAAA2IwQCQAAAACwGSESAAAAAGAzQiQAAAAAwGaESAAAAACAzQiRAAAAAACbESIBAAAAADYjRAIAAAAAbEaIBAAAAADYjBAJAAAAALAZIRIAAAAAYDNCJAAAAADAZoRIAAAAAIDNCJEAAAAAAJsRIgEAAAAANiNEAgAAAABsRogEAAAAANiMEAkAAAAAsBkhEgAAAABgM0IkAAAAAMBmhEgAAAAAgM0IkQAAAAAAmxEiAQAAAAA2I0QCAAAAAGxGiAQAAAAA2IwQCQAAAACwGSESAAAAAGAzQiQAAAAAwGaESAAAAACAzQiRAAAAAACbESIBAAAAADYjRAIAAAAAbEaIBAAAAADYjBAJAAAAALAZIRIAAAAAYDNCJAAAAADAZoRIAAAAAIDNCJEAAAAAAJsRIgEAAAAANiNEAgAAAABsRogEAAAAANiMEAkAAAAAsBkhEgAAAABgM0IkAAAAAMBmhEgAAAAAgM0IkQAAAAAAmxEiAQAAAAA2I0QCAAAAAGxGiAQAAAAA2IwQCQAAAACwmcOHyLFjx6pChQrKkCGDsmXLpqZNm+ro0aOxtjEMQ6GhoQoICJCHh4eCgoJ0+PBhO1UMAAAAAGmXw4fIsLAw9ezZU7/99pvWrl2ryMhI1alTR7dv37ZuM378eE2cOFFTp07Vzp075e/vr9q1a+vWrVt2rBwAAAAA0h4XexfwOKtWrYq1PHv2bGXLlk27d+9WtWrVZBiGJk+erKFDh6p58+aSpLlz58rPz0/z589X9+7d7VE2AAAAAKRJDh8iH3bjxg1Jkq+vryTp+PHjOn/+vOrUqWPdxs3NTYGBgdq6dWu8ITI8PFzh4eHW5Zs3b0qSIiIiFBERkZLl2ySmBkeoBUD8OE+B1IFzFUgdHOlcdYQaHF2qCpGGYahv376qWrWqihcvLkk6f/68JMnPzy/Wtn5+fjp58mS8+xk7dqxGjBgRZ/2aNWvk6emZzFUn3dq1a+1dAoDH4DwFUgfOVSB1cIRz9c6dO/YuweGlqhD55ptv6sCBA9qyZUuc2ywWS6xlwzDirIsxePBg9e3b17p88+ZN5cqVS3Xq1JG3t3fyFp0EERERWrt2rWrXri1XV1d7lwMgHpynQOrAuQqkDo50rsb0UsSjpZoQ2atXLy1btkybNm1Szpw5rev9/f0lmS2S2bNnt66/ePFinNbJGG5ubnJzc4uz3tXV1e5/tA9ytHoAxMV5CqQOnKtA6uAI56q9Hz81cPjRWQ3D0JtvvqkffvhBv/zyi/Llyxfr9nz58snf3z9W0/f9+/cVFhamypUrP+1yAQAAACBNc/iWyJ49e2r+/Pn68ccflSFDBus1kD4+PvLw8JDFYlGfPn00ZswYFSxYUAULFtSYMWPk6empNm3a2Ll6AAAAAEhbHD5EfvbZZ5KkoKCgWOtnz56tjh07SpIGDBigu3fvqkePHrp27ZoqVaqkNWvWKEOGDE+5WgAAAABI2xw+RBqG8dhtLBaLQkNDFRoamvIFAQAAAMAzzOGviQQAAAAAOA5CJAAAAADAZoRIAAAAAIDNCJEAAAAAAJsRIgEAAAAANiNEAgAAAABsRogEAAAAANiMEAkAAAAAsBkhEgAAAABgM0IkAAAAAMBmhEgAAAAAgM0IkQAAAAAAmxEiAQAAAAA2I0QCAAAAAGxGiAQAAAAA2IwQCQAAAACwGSESAAAAAGAzQiQAAAAAwGaESAAAAACAzQiRAAAAAACbESIBAAAAADYjRAIAAAAAbEaIBAAAAADYjBAJAAAAALAZIRIAAAAAYDNCJAAAAADAZoRIAAAAAIDNCJEAAAAAAJsRIgEAAAAANiNEAgAAAABsRogEAAAAANiMEAkAAAAAsBkhEgAAAABgM0IkAAAAAMBmhEgAAAAAgM0IkQAAAAAAmxEiAQAAAAA2I0QCAAAAAGxGiAQAAAAA2IwQCQAAAACwGSESAAAAAGAzQiQAAAAAwGaESAAAAACAzQiRAAAAAACbESIBAAAAADYjRAIAAAAAbEaIBAAAAADYjBAJAAAAALAZIRIAAAAAYDNCJAAAAADAZoRIAAAAAIDNCJEAAAAAAJsRIgEAAAAANiNEAgAAAABsRogEAAAAANiMEAkAAAAAsBkhEgAAAABgM0IkAAAAAMBmhEgAAAAAgM0IkQAAAAAAmxEiAQAAAAA2I0QCAAAAAGxGiAQAAAAA2IwQCQAAAACwGSESAAAAAGAzQiQAAAAAwGaESAAAAACAzQiRAAAAAACbESIBAAAAADYjRAIAAAAAbEaIBAAAAADYjBAJAAAAALAZIRIAAAAAYDNCJAAAAADAZoRIAAAAAIDNCJEAAAAAAJsRIgEAAAAANiNEAgAAAABsRogEAAAAANiMEAkAAAAAsBkhEgAAAABgM0IkAAAAAMBmaSpETps2Tfny5ZO7u7vKlSunzZs327skAAAAAEhT0kyIXLhwofr06aOhQ4dq7969eumll1S/fn2dOnXK3qUBAAAAQJqRZkLkxIkT1aVLF3Xt2lVFixbV5MmTlStXLn322Wf2Lg0AAAAA0gwXexeQHO7fv6/du3dr0KBBsdbXqVNHW7dujbN9eHi4wsPDrcs3btyQJF29elUREREpW6wNIiIidOfOHV25ckWurq72LgdAPDhPgdSBcxVIHRzpXL1165YkyTAMu9bhyNJEiLx8+bKioqLk5+cXa72fn5/Onz8fZ/uxY8dqxIgRcdbny5cvxWoEAAAAkHrcunVLPj4+9i7DIaWJEBnDYrHEWjYMI846SRo8eLD69u1rXY6OjtbVq1eVOXPmeLd/2m7evKlcuXLp9OnT8vb2tnc5AOLBeQqkDpyrQOrgSOeqYRi6deuWAgIC7FqHI0sTITJLlixydnaO0+p48eLFOK2TkuTm5iY3N7dY6zJmzJiSJSaJt7e33U8iAAnjPAVSB85VIHVwlHOVFsiEpYmBddKlS6dy5cpp7dq1sdavXbtWlStXtlNVAAAAAJD2pImWSEnq27ev2rVrp/Lly+vFF1/U559/rlOnTun111+3d2kAAAAAkGakmRD5yiuv6MqVKxo5cqTOnTun4sWLa8WKFcqTJ4+9S0s0Nzc3vffee3G63AJwHJynQOrAuQqkDpyrqYvFYOxaAAAAAICN0sQ1kQAAAACAp4MQCQAAAACwGSESAAAAAGCzZA2RJ06ckMVi0b59+5Jzt0/EYrFo6dKl9i7D7qpVq6b58+fbuwy7Cw8PV+7cubV79257l5Jqbdy4URaLRdevX7d3KXZ15coVZcuWTSdOnLB3Kc+8kJAQTZw40d5lOAzOUSTV0aNH5e/vr1u3bqXo4xw8eFA5c+bU7du3U/RxUivOYSSHvHnzavLkySm2f5tDpMViSfCnY8eOKVZkWhUaGiqLxRJnGpJ9+/bJYrFYP5zGhPNs2bLFeWEvXbq0QkNDE3yc5cuX6/z582rVqpUk6erVq+rVq5cKFy4sT09P5c6dW71799aNGzdi3e/atWtq166dfHx85OPjo3bt2j32BW3jxo1q0qSJsmfPLi8vL5UuXVrz5s2Ls11YWJjKlSsnd3d35c+fX9OnT09wv5I0duxYVahQQRkyZFC2bNnUtGlTHT16NNY2hmEoNDRUAQEB8vDwUFBQkA4fPmy93c3NTf369dPAgQMf+3iOpmPHjvGee8eOHbN3aQ4lKChIFotFCxYsiLV+8uTJyps3r3V5zpw5slgsqlevXqztrl+/LovFoo0bNyb4OGPHjlWjRo1i7fOtt95SuXLl5ObmptKlS8e5j63nx7x581SqVCl5enoqe/bs6tSpk65cufLY537mzBm1bdtWmTNnlqenp0qXLv3IL0y6d+8ui8Vi0xtM48aNlTt3brm7uyt79uxq166dzp49a719//79at26tXLlyiUPDw8VLVpUH3/88WP3e+7cObVp00aFCxeWk5OT+vTpE+92169fV8+ePZU9e3a5u7uraNGiWrFihfX24cOHa/To0bp58+ZjHzMlcY7a5mmdo08i5v3ZYrHIxcVFWbJkUbVq1TR58mSFh4en2OOmhKCgoEeeWw8bOnSoevbsqQwZMljXHTx4UIGBgfLw8FCOHDk0cuRIPW5Mxrx588Y5DwYNGmS9vUSJEqpYsaImTZqUpOeUUjiHbZMazuHDhw/r5Zdftv4tPuq9btq0acqXL5/c3d1Vrlw5bd68Odbtj/tcGZ8HXz8e/ClSpEhyPT2HYHOIPHfunPVn8uTJ8vb2jrXOlg8M8YmKilJ0dHSS7pta3L9//5G3ubu7a+bMmfrzzz8fu59bt25pwoQJiX78Tz75RJ06dZKTk/nrPnv2rM6ePasJEybo4MGDmjNnjlatWqUuXbrEul+bNm20b98+rVq1SqtWrdK+ffvUrl27BB9r69atKlmypL7//nsdOHBAnTt3Vvv27fXTTz9Ztzl+/LgaNGigl156SXv37tWQIUPUu3dvff/99wnuOywsTD179tRvv/2mtWvXKjIyUnXq1In1Teb48eM1ceJETZ06VTt37pS/v79q164dK3y/+uqr2rx5s37//Xebj6GjqFevXqzz7ty5c8qXL1+KPV5ERESK7ftJJVSbu7u7hg0b9tj6XVxctH79em3YsCFRj3337l3NnDlTXbt2jbXeMAx17txZr7zySrz3s+X82LJli9q3b68uXbro8P+1d+dxVVT//8Bfl+VeLiAYm6Ai5AKKioKIIvJxSQSXXEhAE1RKXBK3R6KiAaLi8lFccMsMwb6WS5KKZoiZmgJuCIJAuGGk4RYkmYnhff/+8Hfnw3Avl4tpYr2fj8d96D1z5syZufOemTMz55Cfjy+//BLnzp1TWVZN5eXl8PT0hL6+Pr755hsUFBQgLi4OjRs3Vsm7b98+nDlzBk2bNtVqffv06YPdu3ejqKgIycnJuHbtGkaMGCFMz8rKgqWlJbZv3478/HzMnz8fERERWL9+vcZyKysrYWlpifnz56NTp05q8zx58gTe3t64ceMG9uzZg6KiImzZsgXNmjUT8jg7O8Pe3l5tg/zvxjH6P68yRmvq3bs3kpKS6jVP+/btUVpaipKSEhw7dgz+/v5YunQpevToofFJnaZzfkN28+ZNpKSkICQkREirqKiAt7c3mjZtinPnzmHdunVYuXKlVk/+lX9yTfn56KOPRNNDQkKwadMmPH369IWvy1/BMfw/r3MMP3r0CC1btsSyZctgbW2tNs+uXbswY8YMzJ8/H9nZ2fDy8sKAAQNQUlIi5NHmulId5fGj+ufUqVNa1/+1QM8hMTGRTE1NVdKLi4sJACUnJ1Pv3r1JLpeTs7MzZWRkqMx74MABateuHenq6tL169epsrKSwsPDqWnTpmRoaEju7u507NgxUfnp6enk5eVFBgYG1Lx5c5o6dSo9fPhQY10B0N69e4Xvs2fPpjZt2pBcLqc333yTPvroI3ry5IlQf4lEQufOnROVER8fTy1atCCFQkFERPn5+TRgwAAyMjIiKysrCgoKonv37gn5e/XqRVOmTKGZM2eSubk5/ec//1Fbt+joaOrUqRN5e3uTv7+/kJ6dnU0AqLi4WLRdw8PDydjYmO7cuSPk7dSpE0VHR9e6/vfu3SOJREKXLl3SuJ12795NUqmU/vzzTyIiKigoIAB0+vRpIU9mZiYBoB9++EFjWTUNHDiQQkJChO+zZ8+mtm3bivJMnDiRunfvXq9y7969SwDoxIkTRESkUCjI2tqali1bJuR5/PgxmZqa0scffyyat3fv3hQZGVmv5b1qY8eOpaFDh9Y6/fjx49S1a1eSSqVkbW1Nc+bMEX5PIiI7OztavXq1aJ6a+w8A2rRpEw0ZMoQMDQ0pKipKZTnHjh0jAFReXk5ERPfv36eRI0dSs2bNSC6XU4cOHeiLL74Q8m/bto3MzMzo8ePHonL8/PwoODhY+J6SkkKurq4kk8nozTffpAULFojqr03diJ7FX0hICFlYWNCGDRuE9NWrV5OdnZ3wXXksCg0NJXd3dyG9vLycAKgcf6pLTk4mCwuLWqcrY1sbNeNjxYoV1LJlS1Ge+Ph4at68ucZy5syZQz179qxzeTdv3qRmzZrRpUuX1O4T2ti/fz9JJBLh2KnOBx98QH369NG6zF69etH06dNV0jdt2kQtW7bUuCwiogULFpCXl5fWy3sZOEYbToyqW2ZiYqLW+WuL4cLCQpJKpTR//nwhzc7OjhYtWkRjx44lExMTGjNmDBER7dmzh5ycnEgqlZKdnR2tXLlSVJadnR0tXLiQRo0aRUZGRmRjY0Px8fGiPD/++CMNGTKEjIyMqFGjRuTv70+3b98Wpqvb56ZPn069evUSpgMQfZTXFjXFxcWRm5ubKG3jxo1kamoq2jeWLl1KTZs2Fa6J1NHm2FJZWUkymYyOHj2qMd/fiWP4nxPD1dW2P7q7u9OkSZNEaW3btqW5c+cSUf2uK6vT5hrgRcQ/0bPzcZcuXUgmk5G5uTkNHz5ctIzY2FgKCQkhY2NjsrW1pc2bNwvTKysracqUKWRtbU0ymYzs7OxoyZIlGutd3UsZWGf+/PmYNWsWcnJy4ODggFGjRqGqqkqY/ujRIyxduhSffvop8vPzYWVlhZCQEKSnp2Pnzp3Izc2Fv78/fH19ceXKFQDPXqfw8fGBn58fcnNzsWvXLpw6dQphYWH1qlujRo2QlJSEgoICrF27Flu2bBFep7C3t0e/fv2QmJgomicxMVF4xaG0tBS9evVC586dcf78eaSmpuLOnTsICAgQzbNt2zbo6ekhPT0dmzdv1linZcuWITk5GefOndOYb9SoUWjdujUWLlyo9fqeOnUKhoaGaNeuncZ8Dx48gImJCfT09AAAmZmZMDU1Rbdu3YQ83bt3h6mpKTIyMrRevrJsMzMz4XtmZib69+8vyuPj44Pz58/X646c8vVbZdnFxcW4ffu2qGyZTIZevXqp1Nnd3V3llYXX2a1btzBw4EB07doVFy9exKZNm5CQkIDFixfXu6zo6GgMHToUeXl5eO+99+rM//jxY3Tp0gUHDx7EpUuXMGHCBAQHB+PMmTMAAH9/fzx9+hQpKSnCPPfv38fBgweFO96HDx9GUFAQpk2bhoKCAmzevBlJSUmIjY19rrqZmJhg3rx5WLhwYZ19bhYsWIC8vDzs2bOnznVV+v777+Hm5qZ1fk1qxkePHj1w8+ZNHDp0CESEO3fuYM+ePRg0aJDGclJSUuDm5gZ/f39YWVnBxcUFW7ZsEeVRKBQIDg5GeHg42rdv/1z1LSsrw+eff44ePXpAX19f6/V6XikpKfDw8MCUKVPQpEkTdOjQAUuWLFF5euHu7o6zZ8822FcNOUbFXnaMvixt27bFgAED8NVXX4nSV6xYgQ4dOiArKwuRkZHIyspCQEAARo4ciby8PCxYsACRkZEqT1JWrFgBZ2dnXLhwAREREZg5cyaOHDkC4NmbDcOGDUNZWRlOnDiBI0eO4Nq1a7W+6aDO2rVr4eHhgdDQUOFpiK2trdq86o5rmZmZ6NWrl+iPv/v4+ODnn3+usz/48uXLYW5ujs6dOyM2NlblCa1UKkWnTp1em3Mxx7DY6xrDSk+ePEFWVpbK9Wj//v2Fa8b6XFc+j78a/19//TX8/PwwaNAgZGdn4+jRoyoxHBcXBzc3N2RnZ+ODDz7A5MmT8cMPPwB49qZiSkqK8KbR9u3bRa8j10nr5mY1dT2J/PTTT4W0/Px8AkCFhYXCvAAoJydHyHP16lWSSCR069YtUXlvvfUWRUREEBFRcHAwTZgwQTT95MmTpKOjQ3/88UetdUWNJ5E1/fe//6UuXboI33ft2kVvvPGGcDcnJyeHJBKJcOcuMjKS+vfvLyrjp59+IgBUVFRERM/ulnTu3LnWZSpVv1MxcuRI6tu3LxHV/iQyOzubUlNTSV9fn65evUpEdT+JXL16tcpTjZru379PLVq0EN1ZjY2NpTZt2qjkbdOmTb3uUnz55ZcklUpFT0LbtGlDsbGxonzp6ekEgH7++WetylUoFPT222+Lnrwoy6i5H4WGhqr8ZmvXriV7e3ut16MhGDt2LOnq6pKRkZHwGTFiBBERzZs3jxwdHUV3hjds2EDGxsb09OlTItL+DumMGTM01qPmHVJ1Bg4cSB9++KHwffLkyTRgwADh+5o1a6hly5ZCfb28vFT2q//7v/8jGxubetWN6H9PtB4/fizc6SOq/Q4pEdHcuXPJwcGB/vzzT63ukA4dOpTee++9Wqdr+yRSXXwo042NjUlPT48A0JAhQ+p8EieTyUgmk1FERARduHCBPv74YzIwMKBt27YJeZYsWULe3t7Cdq/Pk8jZs2eToaEhAaDu3bvT/fv3a82bkZFB+vr6lJaWplXZRLU/iXR0dCSZTEbvvfcenT9/nnbs2EFmZmYUExMjynfx4kUCQDdu3NB6mS8ax2jDiVF1y3wRTyKJnj31l8vlwnc7OzsaNmyYKM+7775L3t7eorTw8HBycnISzefr6yvKExgYKPwOaWlppKurSyUlJcJ05TXV2bNniajuJ5FEtcdWTZ06dRJ+CyVvb28KDQ0Vpd26dYsAiN4yq2nVqlV0/PhxunjxIm3ZsoUsLCzo/fffV8k3fPhwGjduXJ11+7twDP9zYrg6db+Lcj9OT08XpcfGxpKDgwMR1e+6srro6GjS0dER7UdGRkaiGHgR8e/h4UGjR4/WuN5BQUHCd4VCQVZWVrRp0yYiIpo6dSr17dtX41sFmryUJ5HOzs7C/21sbAAAd+/eFdKkUqkoz4ULF0BEcHBwgLGxsfA5ceIErl27BuBZn5ukpCTRdB8fHygUChQXF2PJkiWiadXfZ65uz5496NmzJ6ytrWFsbIzIyEhR3mHDhkFPTw979+4FAGzduhV9+vQRWuZZWVk4duyYaFnKjrLKugKo91OKxYsX4+TJk0hLS9OYz8fHBz179kRkZKRW5f7xxx8wMDCodXpFRQUGDRoEJycnREdHi6ZJJBKV/EQkpLdv317YBgMGDFDJe/z4cYwbNw5btmxReepRs2z6/530JRIJTp48Kdq+6vo5hYWFITc3Fzt27FCZpq7smmlyuRyPHj1Smbeh69OnD3JycoRPfHw8AKCwsBAeHh6i9fT09MTDhw9x8+bNei2j+r47YMAA4Xeo7cnV06dPERsbC2dnZ5ibm8PY2BhpaWmiuAoNDUVaWhpu3boFQPx0H3gWVwsXLhT97so759V/p/rElUwmw8KFC7FixQrcv39fY945c+bg3r172Lp1q1Zl1xVX2qgtPgoKCjBt2jRERUUhKysLqampKC4uFgbgqi0+FAoFXF1dsWTJEri4uGDixIkIDQ3Fpk2bADzbxmvXrhUGOlBn0qRJorKrCw8PR3Z2NtLS0qCrq4sxY8aoHVwjPz8fQ4cORVRUFLy9vYX06uXWHExME4VCASsrK3zyySfo0qULRo4cifnz5wvrpSSXywHglcc1x2jDiNGa1wQnT55U2b+f9wmYunNKzfUuLCyEp6enKM3T0xNXrlwRPUX38PAQ5fHw8BD66xcWFsLW1lb05NDJyQmNGzd+KX36azuuaTpf12bmzJno1asXnJ2dMX78eHz88cdISEhQGSCsIZ6LOYb/+TFcnTbXjNrkqcnR0VG0H+Xk5Kg89f2r8Z+Tk4O33npLYz2qt7ckEgmsra2FNtm4ceOQk5MDR0dHTJs2rc42SE169cqtpeqvOCk3cvXBc+RyuWjjKxQK6OrqIisrC7q6uqKylBcyCoUCEydOxLRp01SW16JFC0yaNEn0Sqm6ASNOnz6NkSNHIiYmBj4+PjA1NcXOnTsRFxcn5JFKpQgODkZiYiL8/PzwxRdfiEZ0UigUePvtt7F8+XKV8pUNZgAwMjJS3TAatGrVCqGhoZg7dy4SEhI05l22bBk8PDwQHh5eZ7kWFhYoLy9XO+23336Dr68vjI2NsXfvXtHvZm1tjTt37qjMc+/ePTRp0gQAcOjQIeH1U+UFnNKJEyfw9ttvY9WqVRgzZoxomrW1NW7fvi1Ku3v3LvT09GBubg5TU1PRn4lRLk9p6tSpSElJwffff4/mzZuLygWA27dvi36Lu3fvqpRRVlYGS0tLtdulITMyMkLr1q1V0tUd0Gqe6HV0dFQu+tW9Plx93/3000/xxx9/AECtry7GxcVh9erVWLNmDTp27AgjIyPMmDFD9OqSi4sLOnXqhM8++ww+Pj7Iy8sTDSajUCgQExMDPz8/lfKrX9TUN66CgoKwcuVKLF68WOMrGo0bN0ZERARiYmIwePDgOsvVFFfa0BQfS5cuhaenpxDfzs7OMDIygpeXFxYvXgw3Nze18WFjYwMnJydRWe3atRMGrDp58iTu3r2LFi1aCNOfPn2KDz/8EGvWrMGNGzewcOFCzJo1q9Z1trCwgIODA9q1awdbW1ucPn1adBIsKChA3759ERoaqjKIRvU6m5iYaLmlnq2Xvr6+6NzQrl073L59G0+ePIFUKgXwLKYBvPK45hhtGDFa85pg9OjReOedd0T1rz44U30UFhaqDLRSc701/d51Uc5X24Vq9XRt9xltqDuu1Xa+BlTPzZp0794dAHD16lWYm5sL6WVlZWjVqtVz1fdl4Rj+58cw8Gx/19XVVbt/K/ft+lxX1iSVStXuR3WpT/zXvPZWp+Y+JZFIhDaZq6sriouL8c033+Dbb79FQEAA+vXrp/Vrxy+lEVlfLi4uePr0Ke7evQsvLy+1eVxdXZGfn1/rD2JmZlZn/5v09HTY2dlh/vz5QtqPP/6okm/8+PHo0KEDNm7ciD///FO0w7q6uiI5ORn29vZC/8EXJSoqCq1atVIZMrkmd3d3+Pn5iYbLro2Liwtu376N8vJyvPHGG0J6RUUFfHx8IJPJkJKSonL30cPDAw8ePMDZs2fh7u4OADhz5gwePHiAHj16AADs7OzULvP48eMYPHgwli9fjgkTJqhM9/DwEB3YACAtLQ1ubm7Q19eHvr5+rQfwqVOnYu/evTh+/LjKSfzNN9+EtbU1jhw5AhcXFwDP3nk/ceKESqP/0qVLQp5/AicnJyQnJ4sOLhkZGWjUqJFwkLW0tERpaakwT0VFBYqLizWWq80B+uTJkxg6dCiCgoIAPDtRXblyRaUf7vjx47F69WrcunUL/fr1E91dc3V1RVFR0XMdcDXR0dHB0qVL4efnh8mTJ2vMO3XqVMTHx2s10rSLiwu2b9/+XHWqKz4ePXqkcmxRNqCICHK5XO128vT0VPmTN5cvXxbiNDg4GP369RNN9/HxQXBwsNBnxsrKClZWVnWug/IiqXr/w/z8fPTt2xdjx45VudsK4Ll/W09PT3zxxRdQKBTCCNOXL1+GjY2N0IAEnsV08+bNYWFh8VzLedk4RtV7WTFa85pALpfDysrqL9f/hx9+QGpqKiIiIjTmc3JyUhmJMSMjAw4ODqIbIqdPnxblOX36tPB2k5OTE0pKSvDTTz8Jv0VBQQEePHgg/HaWlpa4dOmSqIycnBzRhaNUKtVqBFQXFxcUFBSI0jw8PDBv3jzRDZu0tDQ0bdq0Xn2nsrOzAYhvtgPP4rb6SM8NGceweq9bDCtJpVJ06dIFR44cwfDhw4X0I0eOYOjQoQDqd135PP5q/Ds7O+Po0aOiEZXry8TEBIGBgQgMDMSIESPg6+uLsrIy7cY0eJ53YOvqE5mdnS2k1XzvubZ5R48eTfb29pScnEzXr1+ns2fP0rJly+jrr78momf9XeRyOX3wwQeUnZ1Nly9fpv3791NYWJjGuqJan8h9+/aRnp4e7dixg65evUpr164lMzMztfXp0aMHSaVSlVGbbt26RZaWljRixAg6c+YMXbt2jQ4fPkwhISFUVVVFRNr3P1DX5yIyMpIMDAxq7ROpVFRURHp6emRgYKCxT2RVVRVZWVnRgQMHhLSKigrq1q0bdezYka5evUqlpaXCR7kORES+vr7k7OxMmZmZlJmZSR07dqTBgwdrXKdjx46RoaEhRUREiMr95ZdfhDzXr18nQ0NDmjlzJhUUFFBCQgLp6+vTnj17NJY9efJkMjU1pePHj4vKfvTokZBn2bJlZGpqSl999RXl5eXRqFGjyMbGhioqKkRl2dnZ0WeffaZxeQ2NplHjbt68SYaGhjRlyhQqLCykffv2kYWFhWjfmDt3LllbW9P3339PeXl5NGzYMDI2Nlbpq6GpDzGRal+NGTNmkK2tLaWnp1NBQQGNHz+eTExMVOr64MEDMjQ0JKlUSjt37hRNS01NJT09PYqOjqZLly5RQUEB7dy5U9RPV5u6EamPP+WozrX11VBKSEgQ4k9TX43c3FzS09OjsrIyUfqVK1coOzubJk6cSA4ODpSdnU3Z2dlUWVlJRNrFR2JiIunp6dHGjRvp2rVrdOrUKXJzcxONbKfO2bNnSU9Pj2JjY+nKlSv0+eefk6GhIW3fvr3WebTpE3nmzBlat24dZWdn040bN+i7776jnj17UqtWrYS+45cuXSJLS0saPXq0aL3u3r2rsWwiErZRly5d6N1336Xs7GzKz88XppeUlJCxsTGFhYVRUVERHTx4kKysrGjx4sWicsaOHauxn+rfgWO04cSoumXWt09k+/btqbS0lG7dukW5ubkUHx9PVlZW1LVrV/rtt9+EvOriKCsri3R0dGjhwoVUVFRESUlJJJfLRXWws7MjExMTWr58ORUVFdH69etJV1eXUlNTiehZ/yUXFxfy8vKirKwsOnPmDHXp0kXU3zE1NZUkEglt27aNLl++TFFRUWRiYiLKExoaSl27dqXi4mK6d++e0H+vppSUFLKyshJdB/z666/UpEkTGjVqFOXl5dFXX31FJiYmopFmz5w5Q46OjnTz5k0ietYnetWqVZSdnU3Xr1+nXbt2UdOmTWnIkCGi5SlHxH+V/Zhr4hj+58RwZWWlcH6xsbGhWbNmUXZ2Nl25ckXIs3PnTtLX16eEhAQqKCigGTNmkJGRkWif1Pa6srrqx4/qn+ojq76I+D927Bjp6OhQVFQUFRQUUG5uLi1fvly0DE19dFetWkU7duygwsJCKioqovfff5+sra1rPUbU1GAakU+ePKGoqCiyt7cnfX19sra2puHDh1Nubq6Q5+zZs+Tt7U3GxsZkZGREzs7OKgO0qKxgjYAIDw8nc3NzMjY2psDAQFq9erXa+iQkJIg6r1Z3+fJlGj58ODVu3Jjkcjm1bduWZsyYIXRM/SuNyIqKCrKwsKizEUlENGHCBAKgsRFJ9OygNnLkSOG78uCk7lN96O9ffvmFRo8eTY0aNaJGjRrR6NGjNXbyJlI/nDgA0U5P9GyYbBcXF5JKpWRvby908tWktjpXP6goFAqKjo4Whiv+z3/+Q3l5eaJyMjIyqHHjxqLG5+vgrw49/uDBAwoICCATExOytbWlpKQktR3+63ty++WXX2jo0KFkbGxMVlZW9NFHH9GYMWPU1jU4OFjtMOREz05wPXr0ILlcTiYmJuTu7k6ffPJJvepGpD7+MjIyCECdJ7eqqipycnLS6uTWvXt3lSG+e/XqpTGutI2P+Ph4cnJyIrlcTjY2NjR69GjhAk2TAwcOUIcOHUgmk1Hbtm1F208dbRqRubm51KdPHzIzMyOZTEb29vY0adIkUX2io6PVrlf17V0bbebLyMigbt26kUwmo5YtW1JsbKzoQvePP/4gExMTyszMrHN5LxPHaMOK0ZrLrG8jUrk/6urqkpmZGfXs2ZNWr16tsm1qiyPln/jQ19enFi1a0IoVK1Tmi4mJoYCAADI0NKQmTZrQmjVrRHm0GeI/KiqKmjRpQqampjRz5kwKCwsTHVOKioqoe/fuJJfLVc7z1VVVVVGzZs2Ei1il3Nxc8vLyIplMRtbW1rRgwQLRQBzK/U1ZblZWFnXr1o1MTU3JwMCAHB0dKTo6mn7//XdRuUuWLCEfHx+1dXlVOIb/OTGsvHau63y7YcMGsrOzI6lUSq6ursKfjVPS5rqyptrOiTKZTMjzouI/OTmZOnfuTFKplCwsLMjPz0+0DE2NyE8++YQ6d+5MRkZGZGJiQm+99RZduHBB47pVJyHS8iX9f5nY2Fjs3LkTeXl5r7oqf9mdO3fQvn17ZGVl1foK6r+Jv78/XFxcMG/evFddlX8db29vtGvXThio4HV26NAhzJo1C5cuXRJes2SvxoYNG7B///56DwrAVP2TYrShs7e3x4wZMzBjxoxXXRXBxo0bsX//fhw+fPilLqeyshJt2rTBjh07VAYgYn8Nx/DroSHGf301iD6RDcnDhw9RWFiIdevWYdGiRa+6Oi9EkyZNkJCQgJKSkn99I7KyshKdOnXCzJkzX3VV/lXKysqQlpaG7777DuvXr3/V1XkhBg4ciCtXruDWrVu1/t019vfQ19fHunXrXnU1Xmv/xBhl9TdhwgSUl5fjt99+Q6NGjV7acn788UfMnz+fG5AvEMcw+7txI7KGsLAw7NixA8OGDdPqD8C+LpSdhP/tZDKZyqiR7OVzdXVFeXk5li9fDkdHx1ddnRdm+vTpr7oKDFA7QBGrn39qjLL60dPTEw0++LI4ODjAwcHhpS/n34RjmP3d+HVWxhhjjDHGGGNa4448jDHGGGOMMca0xo1IxhhjjDHGGGNa40YkY4wxxhhjjDGtcSOSMcYYY4wxxpjWuBHJGGOMMcYYY0xr3IhkjDHGGGOMMaY1bkQyxhhrsDIyMqCrqwtfX19R+oIFC9C5c2eV/BKJBPv27ft7KqeFcePGYdiwYa+6GowxxtgLxY1IxhhjDdbWrVsxdepUnDp1CiUlJa+6OowxxhgDNyIZY4w1UL///jt2796NyZMnY/DgwUhKSgIAJCUlISYmBhcvXoREIoFEIkFSUhLs7e0BAMOHD4dEIhG+A8CBAwfQpUsXGBgYoGXLloiJiUFVVZUwXSKRYPPmzRg8eDAMDQ3Rrl07ZGZm4urVq+jduzeMjIzg4eGBa9euCfMon4Zu3rwZtra2MDQ0hL+/P3799Vdh+rZt27B//36hnsePH8eTJ08QFhYGGxsbGBgYwN7eHkuXLn3Zm5Mxxhh7YbgRyRhjrEHatWsXHB0d4ejoiKCgICQmJoKIEBgYiA8//BDt27dHaWkpSktLERgYiHPnzgEAEhMTUVpaKnw/fPgwgoKCMG3aNBQUFGDz5s1ISkpCbGysaHmLFi3CmDFjkJOTg7Zt2+Ldd9/FxIkTERERgfPnzwMAwsLCRPNcvXoVu3fvxoEDB5CamoqcnBxMmTIFADBr1iwEBATA19dXqGePHj0QHx+PlJQU7N69G0VFRdi+fbuowcsYY4w1dHqvugKMMcaYOgkJCQgKCgIA+Pr64uHDhzh69Cj69esHY2Nj6OnpwdraWsgvl8sBAI0bNxalx8bGYu7cuRg7diwAoGXLlli0aBFmz56N6OhoIV9ISAgCAgIAAHPmzIGHhwciIyPh4+MDAJg+fTpCQkJEdXz8+DG2bduG5s2bAwDWrVuHQYMGIS4uDtbW1pDL5aisrBTVp6SkBG3atEHPnj0hkUhgZ2f3wrYZY4wx9nfgJ5GMMcYanKKiIpw9exYjR44EAOjp6SEwMBBbt26td1lZWVlYuHAhjI2NhU9oaChKS0vx6NEjIZ+zs7Pw/yZNmgAAOnbsKEp7/PgxKioqhLQWLVoIDUgA8PDwgEKhQFFRUa31GTduHHJycuDo6Ihp06YhLS2t3uvEGGOMvUr8JJIxxliDk5CQgKqqKjRr1kxIIyLo6+ujvLy8XmUpFArExMTAz89PZZqBgYHwf319feH/Eomk1jSFQlHrspR5lP+q4+rqiuLiYnzzzTf49ttvERAQgH79+mHPnj1arhFjjDH2anEjkjHGWINSVVWFzz77DHFxcejfv79o2jvvvIPPP/8cUqkUT58+VZlXX19fJd3V1RVFRUVo3br1C69rSUkJfv75ZzRt2hQAkJmZCR0dHTg4OABArfU0MTFBYGAgAgMDMWLECPj6+qKsrAxmZmYvvI6MMcbYi8aNSMYYYw3KwYMHUV5ejvfffx+mpqaiaSNGjEBCQgLCw8NRXFyMnJwcNG/eHI0aNYJMJoO9vT2OHj0KT09PyGQyvPHGG4iKisLgwYNha2sLf39/6OjoIDc3F3l5eVi8ePFfqquBgQHGjh2LlStXoqKiAtOmTUNAQIDQB9Le3h6HDx9GUVERzM3NYWpqivXr18PGxgadO3eGjo4OvvzyS1hbW6Nx48Z/qS6MMcbY34X7RDLGGGtQEhIS0K9fP5UGJPDsSWROTg5atWoFX19f9OnTB5aWltixYwcAIC4uDkeOHIGtrS1cXFwAAD4+Pjh48CCOHDmCrl27onv37li1atULGdCmdevW8PPzw8CBA9G/f3906NABGzduFKaHhobC0dERbm5usLS0RHp6OoyNjbF8+XK4ubmha9euuHHjBg4dOgQdHT4lM8YYez1IiIhedSUYY4yx182CBQuwb98+5OTkvOqqMMYYY38rvu3JGGOMMcYYY0xr3IhkjDHGGGOMMaY1fp2VMcYYY4wxxpjW+EkkY4wxxhhjjDGtcSOSMcYYY4wxxpjWuBHJGGOMMcYYY0xr3IhkjDHGGGOMMaY1bkQyxhhjjDHGGNMaNyIZY4wxxhhjjGmNG5GMMcYYY4wxxrTGjUjGGGOMMcYYY1r7f0jE8Pj51AsWAAAAAElFTkSuQmCC)"
      ],
      "metadata": {
        "id": "lAci1p8Srn8j"
      }
    }
  ]
}