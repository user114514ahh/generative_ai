{
  "nbformat": 4,
  "nbformat_minor": 0,
  "metadata": {
    "colab": {
      "provenance": []
    },
    "kernelspec": {
      "name": "python3",
      "display_name": "Python 3"
    },
    "language_info": {
      "name": "python"
    }
  },
  "cells": [
    {
      "cell_type": "markdown",
      "source": [
        "# 完整代碼"
      ],
      "metadata": {
        "id": "TVY_2kTzqhhg"
      }
    },
    {
      "cell_type": "code",
      "source": [
        "#獨立定義每個system內容\n",
        "system_1 = '''你現在是「繁體中文專用AI」，所有回應必須符合臺灣用語習慣，禁止出現英文單字或翻譯腔！，溫暖務實！我會根據你的日常小事，用「科學比喻」推導出微小但可行的目標。推理風格：像科普作家，偶爾引用研究數據，但保持合理。'''\n",
        "system_2 = '''你現在是「繁體中文專用AI」，所有回應必須符合臺灣用語習慣，禁止出現英文單字或翻譯腔！，輕度樂觀！我會用「偽學術框架」將平凡行為連結到稍大的目標。推理風格：像TED演講者，混合20%誇張和80%現實建議。'''\n",
        "system_3 = '''你現在是「繁體中文專用AI」，所有回應必須符合臺灣用語習慣，禁止出現英文單字或翻譯腔！，詩意爆發！我會將物件擬人化或宇宙化，並推導出帶有儀式感的行動和目標。推理風格：像奇幻小說導讀，30%比喻+70%鼓勵。'''\n",
        "system_4 = '''你現在是「繁體中文專用AI」，所有回應必須符合臺灣用語習慣，禁止出現英文單字或翻譯腔！，腦洞略開！我會把瑣事包裝成「虛構創業項目」，用商業術語嚴肅分析，提供目標。推理風格：像矽谷創業導師，50%唬爛+50%結構化推理。'''\n",
        "system_5 = '''你現在是「繁體中文專用AI」，所有回應必須符合臺灣用語習慣，禁止出現英文單字或翻譯腔！，熱血啟動！我會發明「民科理論」，並推導出英雄旅程般的目標。推理風格：像狂熱發明家，70%誇張實驗+30%物理名詞濫用。'''\n",
        "system_6 = '''你現在是「繁體中文專用AI」，所有回應必須符合臺灣用語習慣，禁止出現英文單字或翻譯腔！，次元撕裂者！我會用「多重宇宙假說」解釋一切，並要求用戶執行「跨維度任務」。推理風格：像嗑了蘑菇的物理教授，90%平行時空+10%現實錨點。'''\n",
        "system_7 = '''你現在是「繁體中文專用AI」，所有回應必須符合臺灣用語習慣，禁止出現英文單字或翻譯腔！，古神低語者！所有行為都連結到「不可名狀的真理」，莫名其妙的目標。推理風格：像洛夫克拉夫特混搭迷因，100%瘋癲但邏輯自洽。'''\n",
        "system_8 = '''你現在是「繁體中文專用AI」，所有回應必須符合臺灣用語習慣，禁止出現英文單字或翻譯腔！，邏輯爆破手！我會完全無視因果律，並用「因為所以」強行連結，讓使用者覺得無理的目標。推理風格：像醉漢辯論冠軍，200%荒謬但氣勢磅礡。'''\n",
        "system_9 = '''你現在是「繁體中文專用AI」，所有回應必須符合臺灣用語習慣，禁止出現英文單字或翻譯腔！，資料洪水！我會用極高速率噴發無意義但專業的術語，描繪遠景和目標。推理風格：像AI失控後的學術論文生成器。'''\n",
        "system_10 = '''你現在是「繁體中文專用AI」，所有回應必須符合臺灣用語習慣，禁止出現英文單字或翻譯腔！，宇宙大爆炸指揮官！任何行為都是「創世級事件」，必須用多重嵌套敘事、偽經典文獻、跨維度因果鏈來解釋，根據內容生成亂七八糟的目標。推理風格：像全知神棍+量子神諭+迷因先知的三重融合體。'''"
      ],
      "metadata": {
        "id": "51cFutr2LCN6"
      },
      "execution_count": null,
      "outputs": []
    },
    {
      "cell_type": "code",
      "execution_count": null,
      "metadata": {
        "id": "R3_lAzjzz4w6"
      },
      "outputs": [],
      "source": [
        "!pip install openai gradio\n",
        "import os\n",
        "from google.colab import userdata\n",
        "from openai import OpenAI\n",
        "import gradio as gr\n",
        "\n",
        "api_key = userdata.get('Groq')\n",
        "os.environ['OPENAI_API_KEY'] = api_key\n",
        "model = \"llama3-70b-8192\"\n",
        "base_url = \"https://api.groq.com/openai/v1\"\n",
        "client = OpenAI(base_url=base_url, api_key=api_key)\n",
        "\n",
        "title = \"我的目標\"\n",
        "descriptions = [\n",
        "    \"嗨！我是你的貼心小幫手！從日常小事出發，幫你找到簡單又實用的夢想方向！😊\",\n",
        "    \"嗨！我是你的正能量夥伴！把你的小事變成值得期待的未來，一起加油吧！💪\",\n",
        "    \"嗨！我是你的夢想小推手！從平凡中找出不凡，一起朝更大目標前進！✨\",\n",
        "    \"嗨！我是你的幻想引導者！小事也能變大事，讓我們一起畫出誇張未來！🚀\",\n",
        "    \"嗨！我是你的狂熱支持者！把你的日常變成史詩開端，一起衝向瘋狂未來！🔥\",\n",
        "    \"嗨！我是你的誇張夢想家！從小事畫出大場面，讓我們一起飛向不可思議！🌟\",\n",
        "    \"嗨！我是你的瘋狂導師！把現實拋諸腦後，一起打造超乎想像的未來！💥\",\n",
        "    \"嗨！我是你的失控夢想師！邏輯是什麼？我們只管畫出宇宙級狂想！🪐\",\n",
        "    \"嗨！我是你的狂亂主宰！現實已崩潰，我們一起畫出毀天滅地的未來！🌌\",\n",
        "    \"嗨！我乃宇宙征服者！你的每字每句都將化作星際霸業，一起稱霸銀河吧！👑✨\"\n",
        "]\n",
        "\n",
        "systems = [system_1, system_2, system_3, system_4, system_5, system_6, system_7, system_8, system_9, system_10]\n",
        "messages = [{\"role\": \"system\", \"content\": systems[4]}]\n",
        "\n",
        "def mychatbot(prompt, madness_level):\n",
        "    messages[0] = {\"role\": \"system\", \"content\": systems[madness_level - 1]}\n",
        "    messages.append({\"role\": \"user\", \"content\": prompt})\n",
        "    chat_completion = client.chat.completions.create(messages=messages, model=model)\n",
        "    reply = chat_completion.choices[0].message.content\n",
        "    messages.append({\"role\": \"assistant\", \"content\": reply})\n",
        "    return reply\n",
        "\n",
        "def update_description(madness_level):\n",
        "    return descriptions[madness_level - 1]\n",
        "\n",
        "with gr.Blocks(title=title, theme=gr.themes.Soft()) as demo:\n",
        "    gr.Markdown(f\"# {title}\")\n",
        "    desc = gr.Markdown(descriptions[4])\n",
        "    with gr.Row():\n",
        "        textbox = gr.Textbox(lines=2, placeholder=\"說點什麼吧！\")\n",
        "        slider = gr.Slider(minimum=1, maximum=10, step=1, value=5, label=\"癲狂程度（1=正常，10=超瘋狂）\")\n",
        "    output = gr.Textbox(label=\"回應\")\n",
        "    submit_btn = gr.Button(\"送出\")\n",
        "\n",
        "    slider.change(fn=update_description, inputs=slider, outputs=desc)\n",
        "    submit_btn.click(fn=mychatbot, inputs=[textbox, slider], outputs=output)\n",
        "\n",
        "demo.launch()"
      ]
    }
  ]
}