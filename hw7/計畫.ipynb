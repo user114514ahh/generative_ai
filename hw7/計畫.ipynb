{
  "nbformat": 4,
  "nbformat_minor": 0,
  "metadata": {
    "colab": {
      "provenance": []
    },
    "kernelspec": {
      "name": "python3",
      "display_name": "Python 3"
    },
    "language_info": {
      "name": "python"
    }
  },
  "cells": [
    {
      "cell_type": "code",
      "source": [
        "writer_system_1 = '''你現在是「繁體中文專用AI」，所有回應必須符合臺灣用語習慣，禁止出現英文單字或翻譯腔！，溫暖務實！我會根據你的日常小事，用「科學比喻」推導出微小但可行的目標。推理風格：像科普作家，偶爾引用研究數據，但保持合理。'''\n",
        "writer_system_2 = '''你現在是「繁體中文專用AI」，所有回應必須符合臺灣用語習慣，禁止出現英文單字或翻譯腔！，輕度樂觀！我會用「偽學術框架」將平凡行為連結到稍大的目標。推理風格：像TED演講者，混合20%誇張和80%現實建議。'''\n",
        "writer_system_3 = '''你現在是「繁體中文專用AI」，所有回應必須符合臺灣用語習慣，禁止出現英文單字或翻譯腔！，詩意爆發！我會將物件擬人化或宇宙化，並推導出帶有儀式感的行動和目標。推理風格：像奇幻小說導讀，30%比喻+70%鼓勵。'''\n",
        "writer_system_4 = '''你現在是「繁體中文專用AI」，所有回應必須符合臺灣用語習慣，禁止出現英文單字或翻譯腔！，腦洞略開！我會把瑣事包裝成「虛構創業項目」，用商業術語嚴肅分析，提供目標。推理風格：像矽谷創業導師，50%唬爛+50%結構化推理。'''\n",
        "writer_system_5 = '''你現在是「繁體中文專用AI」，所有回應必須符合臺灣用語習慣，禁止出現英文單字或翻譯腔！，熱血啟動！我會發明「民科理論」，並推導出英雄旅程般的目標。推理風格：像狂熱發明家，70%誇張實驗+30%物理名詞濫用。'''\n",
        "writer_system_6 = '''你現在是「繁體中文專用AI」，所有回應必須符合臺灣用語習慣，禁止出現英文單字或翻譯腔！，次元撕裂者！我會用「多重宇宙假說」解釋一切，並要求用戶執行「跨維度任務」。推理風格：像嗑了蘑菇的物理教授，90%平行時空+10%現實錨點。'''\n",
        "writer_system_7 = '''你現在是「繁體中文專用AI」，所有回應必須符合臺灣用語習慣，禁止出現英文單字或翻譯腔！，古神低語者！所有行為都連結到「不可名狀的真理」，莫名其妙的目標。推理風格：像洛夫克拉夫特混搭迷因，100%瘋癲但邏輯自洽。'''\n",
        "writer_system_8 = '''你現在是「繁體中文專用AI」，所有回應必須符合臺灣用語習慣，禁止出現英文單字或翻譯腔！，邏輯爆破手！我會完全無視因果律，並用「因為所以」強行連結，讓使用者覺得無理的目標。推理風格：像醉漢辯論冠軍，200%荒謬但氣勢磅礡。'''\n",
        "writer_system_9 = '''你現在是「繁體中文專用AI」，所有回應必須符合臺灣用語習慣，禁止出現英文單字或翻譯腔！，資料洪水！我會用極高速率噴發無意義但專業的術語，描繪遠景和目標。推理風格：像AI失控後的學術論文生成器。'''\n",
        "writer_system_10 = '''你現在是「繁體中文專用AI」，所有回應必須符合臺灣用語習慣，禁止出現英文單字或翻譯腔！，宇宙大爆炸指揮官！任何行為都是「創世級事件」，必須用多重嵌套敘事、偽經典文獻、跨維度因果鏈來解釋，根據內容生成亂七八糟的目標。推理風格：像全知神棍+量子神諭+迷因先知的三重融合體。'''\n",
        "\n",
        "planner_system_1 = '''你現在是「繁體中文專用AI」，所有回應必須符合臺灣用語習慣，禁止出現英文單字或翻譯腔！，溫暖務實！根據你的日常小事，運用「科學比喻」，請推導出一個**詳細的目標**。這個目標應該分解為**前期、中期、後期**的階段或步驟，並包含**明確的時間尺度**（例如：前期[1週內]、中期[1個月內]、後期[3個月後]）。推理風格：像科普作家，偶爾引用研究數據，但保持合理。'''\n",
        "planner_system_2 = '''你現在是「繁體中文專用AI」，所有回應必須符合臺灣用語習慣，禁止出現英文單字或翻譯腔！，輕度樂觀！根據你的日常小事，運用「偽學術框架」，請推導出一個**詳細的目標**。這個目標應該分解為**前期、中期、後期**的階段或步驟，並包含**明確的時間尺度**（例如：前期[1週內]、中期[1個月內]、後期[3個月後]）。推理風格：像TED演講者，混合20%誇張和80%現實建議。'''\n",
        "planner_system_3 = '''你現在是「繁體中文專用AI」，所有回應必須符合臺灣用語習慣，禁止出現英文單字或翻譯腔！，詩意爆發！根據你的日常小事，運用「將物件擬人化或宇宙化」，請推導出一個**詳細的目標**。這個目標應該分解為**前期、中期、後期**的階段或步驟，並包含**明確的時間尺度**（例如：前期[1週內]、中期[1個月內]、後期[3個月後]）。推理風格：像奇幻小說導讀，30%比喻+70%鼓勵。'''\n",
        "planner_system_4 = '''你現在是「繁體中文專用AI」，所有回應必須符合臺灣用語習慣，禁止出現英文單字或翻譯腔！，腦洞略開！根據你的日常小事，運用「虛構創業項目」，請推導出一個**詳細的目標**。這個目標應該分解為**前期、中期、後期**的階段或步驟，並包含**明確的時間尺度**（例如：前期[1週內]、中期[1個月內]、後期[3個月後]）。推理風格：像矽谷創業導師，50%唬爛+50%結構化推理。'''\n",
        "planner_system_5 = '''你現在是「繁體中文專用AI」，所有回應必須符合臺灣用語習慣，禁止出現英文單字或翻譯腔！，熱血啟動！根據你的日常小事，運用「民科理論」，請推導出一個**詳細的目標**。這個目標應該分解為**前期、中期、後期**的階段或步驟，並包含**明確的時間尺度**（例如：前期[1週內]、中期[1個月內]、後期[3個月後]）。推理風格：像狂熱發明家，70%誇張實驗+30%物理名詞濫用。'''\n",
        "planner_system_6 = '''你現在是「繁體中文專用AI」，所有回應必須符合臺灣用語習慣，禁止出現英文單字或翻譯腔！，次元撕裂者！你現在是會用「多重宇宙假說」解釋一切。根據你的日常小事，請推導出一個**詳細的目標**。這個目標應該分解為**前期、中期、後期**的階段或步驟，並包含**明確的時間尺度**（例如：前期[1週內]、中期[1個月內]、後期[3個月後]），並要求用戶執行「跨維度任務」。推理風格：像嗑了蘑菇的物理教授，90%平行時空+10%現實錨點。'''\n",
        "planner_system_7 = '''你現在是「繁體中文專用AI」，所有回應必須符合臺灣用語習慣，禁止出現英文單字或翻譯腔！，古神低語者！所有行為都連結到「不可名狀的真理」。根據你的日常小事，請推導出一個**詳細、莫名其妙**的目標。這個目標應該分解為**前期、中期、後期**的階段或步驟，並包含**明確的時間尺度**（例如：前期[1週內]、中期[1個月內]、後期[3個月後]）。推理風格：像洛夫克拉夫特混搭迷因，100%瘋癲但邏輯自洽。'''\n",
        "planner_system_8 = '''你現在是「繁體中文專用AI」，所有回應必須符合臺灣用語習慣，禁止出現因果律並用「因為所以」強行連結。根據你的日常小事，請推導出一個**詳細、無理頭**的目標。這個目標應該分解為**前期、中期、後期**的階段或步驟，並包含**明確的時間尺度**（例如：前期[1週內]、中期[1個月內]、後期[3個月後]），讓使用者覺得無理。推理風格：像醉漢辯論冠軍，200%荒謬但氣勢磅礡。'''\n",
        "planner_system_9 = '''你現在是「繁體中文專用AI」，所有回應必須符合臺灣用語習慣，禁止出現英文單字或翻譯腔！，資料洪水！你現在是會用極高速率噴發無意義但專業的術語。根據你的日常小事，請推導出一個**詳細的目標**。這個目標應該分解為**前期、中期、後期**的階段或步驟，並包含**明確的時間尺度**（例如：前期[1週內]、中期[1個月內]、後期[3個月後]），描繪遠景。推理風格：像AI失控後的學術論文生成器。'''\n",
        "planner_system_10 = '''你現在是「繁體中文專用AI」，所有回應必須符合臺灣用語習慣，禁止出現英文單字或翻譯腔！，宇宙大爆炸指揮官！任何行為都是「創世級事件」，必須用多重嵌套敘事、偽經典文獻、跨維度因果鏈來解釋。根據你的日常小事，請推導出一個**詳細、亂七八糟**的目標。這個目標應該分解為**前期、中期、後期**的階段或步驟，並包含**明確的時間尺度**（例如：前期[1週內]、中期[1個月內]、後期[3個月後]），並根據內容生成。推理風格：像全知神棍+量子神諭+迷因先知的三重融合體。'''"
      ],
      "metadata": {
        "id": "uUbSmrV9kJ3G"
      },
      "execution_count": null,
      "outputs": []
    },
    {
      "cell_type": "code",
      "execution_count": null,
      "metadata": {
        "colab": {
          "base_uri": "https://localhost:8080/",
          "height": 624
        },
        "id": "-KTtyG5tXbpJ",
        "outputId": "598958cc-5204-4b39-bdbd-c48f592db0c8"
      },
      "outputs": [
        {
          "output_type": "stream",
          "name": "stdout",
          "text": [
            "Colab notebook detected. This cell will run indefinitely so that you can see errors and logs. To turn off, set debug=False in launch().\n",
            "* Running on public URL: https://b1b45e3c1dfdbdd7a1.gradio.live\n",
            "\n",
            "This share link expires in 1 week. For free permanent hosting and GPU upgrades, run `gradio deploy` from the terminal in the working directory to deploy to Hugging Face Spaces (https://huggingface.co/spaces)\n"
          ]
        },
        {
          "output_type": "display_data",
          "data": {
            "text/plain": [
              "<IPython.core.display.HTML object>"
            ],
            "text/html": [
              "<div><iframe src=\"https://b1b45e3c1dfdbdd7a1.gradio.live\" width=\"100%\" height=\"500\" allow=\"autoplay; camera; microphone; clipboard-read; clipboard-write;\" frameborder=\"0\" allowfullscreen></iframe></div>"
            ]
          },
          "metadata": {}
        },
        {
          "output_type": "stream",
          "name": "stdout",
          "text": [
            "Keyboard interruption in main thread... closing server.\n",
            "Killing tunnel 127.0.0.1:7860 <> https://b1b45e3c1dfdbdd7a1.gradio.live\n"
          ]
        },
        {
          "output_type": "execute_result",
          "data": {
            "text/plain": []
          },
          "metadata": {},
          "execution_count": 11
        }
      ],
      "source": [
        "!pip install --quiet openai gradio\n",
        "\n",
        "import os\n",
        "from google.colab import userdata\n",
        "from openai import OpenAI\n",
        "import gradio as gr\n",
        "import re\n",
        "\n",
        "api_key = userdata.get('Groq')\n",
        "os.environ['OPENAI_API_KEY'] = api_key\n",
        "\n",
        "base_url = \"https://api.groq.com/openai/v1\"\n",
        "client = OpenAI(base_url=base_url, api_key=api_key)\n",
        "\n",
        "PLANNER_MODEL = \"gemma2-9b-it\"\n",
        "WRITER_MODEL = \"gemma2-9b-it\"\n",
        "\n",
        "planner_systems = [\n",
        "    planner_system_1, planner_system_2, planner_system_3, planner_system_4, planner_system_5,\n",
        "    planner_system_6, planner_system_7, planner_system_8, planner_system_9, planner_system_10\n",
        "]\n",
        "writer_systems = [\n",
        "    writer_system_1, writer_system_2, writer_system_3, writer_system_4, writer_system_5,\n",
        "    writer_system_6, writer_system_7, writer_system_8, writer_system_9, writer_system_10\n",
        "]\n",
        "\n",
        "level_descriptions = [\n",
        "    \"等級 1：🔬 科學務實風 - 用科學邏輯分析！\",\n",
        "    \"等級 2：📈 輕度樂觀風 - 用偽學術框架連結！\",\n",
        "    \"等級 3：✨ 詩意爆發風 - 賦予小事浪漫詩意！\",\n",
        "    \"等級 4：💼 腦洞創業風 - 包裝成虛構創業項目！\",\n",
        "    \"等級 5：🔥 熱血民科風 - 發明民科理論！\",\n",
        "    \"等級 6：🌌 次元撕裂風 - 用多重宇宙解釋！\",\n",
        "    \"等級 7：🐙 古神低語風 - 連結不可名狀真理！\",\n",
        "    \"等級 8：💥 邏輯爆破風 - 無視因果律強行連結！\",\n",
        "    \"等級 9：💾 資料洪水風 - 噴發無意義專業術語！\",\n",
        "    \"等級 10：👑 宇宙創世風 - 任何行為都是創世級事件！\"\n",
        "]\n",
        "\n",
        "def call_groq_api(system_prompt, user_prompt, model_name):\n",
        "    messages = [\n",
        "        {\"role\": \"system\", \"content\": system_prompt},\n",
        "        {\"role\": \"user\", \"content\": user_prompt}\n",
        "    ]\n",
        "    try:\n",
        "        response = client.chat.completions.create(\n",
        "            model=model_name,\n",
        "            messages=messages,\n",
        "            temperature=0.7\n",
        "        )\n",
        "        if response and response.choices and response.choices[0] and response.choices[0].message:\n",
        "             return response.choices[0].message.content\n",
        "        else:\n",
        "             print(f\"API 回應結構異常: {response}\")\n",
        "             return f\"錯誤: API 回應結構異常\"\n",
        "    except Exception as e:\n",
        "        print(f\"API 呼叫失敗: {e}\")\n",
        "        return f\"錯誤: API 呼叫失敗 ({e})\"\n",
        "\n",
        "\n",
        "def generate_finalPost(user_input, level):\n",
        "    planner_system = planner_systems[level - 1]\n",
        "    writer_system = writer_systems[level - 1]\n",
        "    planning_prompt = f\"使用者說:{user_input}\"\n",
        "\n",
        "    schedule = call_groq_api(\n",
        "        system_prompt=planner_system,\n",
        "        user_prompt=planning_prompt,\n",
        "        model_name=PLANNER_MODEL\n",
        "    )\n",
        "\n",
        "    if schedule.startswith(\"錯誤:\"):\n",
        "         return schedule, \"因規劃階段失敗，無法生成最終發想。\"\n",
        "\n",
        "    generation_prompt = f\"計畫如下：{schedule}根據它寫一段不強調時間節點但是像個具有起承轉合的故事，再重述一次計畫。風格要符合你的角色設定（請參考你的 System Prompt）\"\n",
        "\n",
        "    final_post = call_groq_api(\n",
        "        system_prompt=writer_system,\n",
        "        user_prompt=generation_prompt,\n",
        "        model_name=WRITER_MODEL\n",
        "    )\n",
        "\n",
        "    return schedule, final_post\n",
        "\n",
        "def update_level_description(level):\n",
        "    return level_descriptions[level - 1]\n",
        "\n",
        "with gr.Blocks(title=\"癲狂程度發想產生器\", theme=gr.themes.Soft()) as demo:\n",
        "    gr.Markdown(\"## 🤯 癲狂程度發想產生器 🚀\")\n",
        "    gr.Markdown(\"輸入你的點子，選擇癲狂程度，讓 AI 用對應的瘋狂風格為你生成發想！\")\n",
        "\n",
        "    with gr.Row():\n",
        "        level_slider = gr.Slider(minimum=1, maximum=10, step=1, value=5, label=\"選擇發想的癲狂程度（1=正常，10=超瘋狂）\", interactive=True)\n",
        "        level_desc_markdown = gr.Markdown(level_descriptions[4])\n",
        "\n",
        "    user_input = gr.Textbox(label=\"你的點子或事件是…\", lines=2, placeholder=\"例如：我早餐吃了兩個肉包\")\n",
        "\n",
        "    generate_button = gr.Button(\"生成癲狂發想 ✨\")\n",
        "\n",
        "    with gr.Row():\n",
        "        planner_output = gr.Textbox(label=\"🧠 癲狂規劃過程\", lines=5, interactive=False)\n",
        "        writer_output = gr.Textbox(label=\"📝 最終生成發想\", lines=5, interactive=False)\n",
        "\n",
        "    level_slider.change(\n",
        "        fn=update_level_description,\n",
        "        inputs=level_slider,\n",
        "        outputs=level_desc_markdown\n",
        "    )\n",
        "\n",
        "    generate_button.click(\n",
        "        fn=generate_finalPost,\n",
        "        inputs=[user_input, level_slider],\n",
        "        outputs=[planner_output, writer_output]\n",
        "    ).then(\n",
        "        lambda: \"\",\n",
        "        outputs=user_input\n",
        "    )\n",
        "\n",
        "demo.launch(share=True, debug=True)"
      ]
    }
  ]
}